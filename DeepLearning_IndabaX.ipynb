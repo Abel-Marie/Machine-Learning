{
  "nbformat": 4,
  "nbformat_minor": 0,
  "metadata": {
    "colab": {
      "provenance": []
    },
    "kernelspec": {
      "name": "python3",
      "display_name": "Python 3"
    },
    "language_info": {
      "name": "python"
    }
  },
  "cells": [
    {
      "cell_type": "markdown",
      "source": [
        "# `Importing The Library `"
      ],
      "metadata": {
        "id": "o6Fq7ZGcrokj"
      }
    },
    {
      "cell_type": "code",
      "source": [
        "import numpy as np\n",
        "import pandas as pd\n",
        "import matplotlib.pyplot as plt\n",
        "import seaborn as sns\n",
        "from sklearn import preprocessing\n",
        "from sklearn.model_selection import train_test_split\n",
        "from sklearn.metrics import confusion_matrix\n",
        "from sklearn.linear_model import LogisticRegression\n",
        "from sklearn.tree import DecisionTreeClassifier\n",
        "from sklearn.ensemble import RandomForestClassifier\n",
        "from sklearn.ensemble import GradientBoostingClassifier\n",
        "from sklearn.ensemble import VotingClassifier\n",
        "from sklearn.metrics import roc_curve , precision_recall_curve , auc , make_scorer , recall_score , accuracy_score , precision_score , confusion_matrix , f1_score\n",
        "from sklearn.svm import SVC\n",
        "from sklearn.ensemble import AdaBoostClassifier\n",
        "import xgboost as xgb\n",
        "import os"
      ],
      "metadata": {
        "id": "ZzJ0yrNArn1p"
      },
      "execution_count": null,
      "outputs": []
    },
    {
      "cell_type": "markdown",
      "source": [
        "# `Mount The Google Drive `"
      ],
      "metadata": {
        "id": "mjjDrWc0m-4e"
      }
    },
    {
      "cell_type": "code",
      "source": [
        "from google.colab import drive\n",
        "drive.mount(\"/content/drive\")"
      ],
      "metadata": {
        "colab": {
          "base_uri": "https://localhost:8080/"
        },
        "id": "uf4wKMLJrctc",
        "outputId": "a9662fce-2ed9-4ebf-bd2c-a0908c947062"
      },
      "execution_count": null,
      "outputs": [
        {
          "output_type": "stream",
          "name": "stdout",
          "text": [
            "Mounted at /content/drive\n"
          ]
        }
      ]
    },
    {
      "cell_type": "code",
      "source": [
        "import os\n",
        "data_dir = '/content/drive/MyDrive/trainingSet.csv'"
      ],
      "metadata": {
        "id": "e6Ov_u6jnT-d"
      },
      "execution_count": null,
      "outputs": []
    },
    {
      "cell_type": "markdown",
      "source": [
        "# `Read the CSV file using Pandas`"
      ],
      "metadata": {
        "id": "yW_EgMBZnatF"
      }
    },
    {
      "cell_type": "code",
      "source": [
        "# read the csv file using pandas\n",
        "import pandas as pd\n",
        "data_frame = pd.read_csv(data_dir)"
      ],
      "metadata": {
        "id": "HCm1yX96nc4H"
      },
      "execution_count": null,
      "outputs": []
    },
    {
      "cell_type": "code",
      "source": [
        "# we can print the first five elements\n",
        "data_frame.head()"
      ],
      "metadata": {
        "colab": {
          "base_uri": "https://localhost:8080/",
          "height": 317
        },
        "id": "UX-ORnOAntKo",
        "outputId": "8ec1440d-b73b-4d56-80d4-11fd533dff7e"
      },
      "execution_count": null,
      "outputs": [
        {
          "output_type": "execute_result",
          "data": {
            "text/plain": [
              "   Unnamed: 0  age_final  altitude  anc_freq  attend_dlvry  current_anc  \\\n",
              "0       10236       31.0    2597.0       0.0             2        999.0   \n",
              "1       11624       35.0    1780.0       0.0             6        999.0   \n",
              "2       10365       38.0    2526.0       4.0             2        999.0   \n",
              "3       10034       61.0    1858.0       0.0             5        999.0   \n",
              "4       11056       52.0    1766.0       0.0             4        999.0   \n",
              "\n",
              "   current_preg_vac  duration_pregnancy  educ_category  ethnicity  ...  \\\n",
              "0             999.0                 0.0            6.0        1.0  ...   \n",
              "1             999.0                 0.0            1.0        1.0  ...   \n",
              "2             999.0                 0.0            1.0        1.0  ...   \n",
              "3             999.0                 0.0            1.0        1.0  ...   \n",
              "4             999.0                 0.0            1.0        1.0  ...   \n",
              "\n",
              "   other_place  place_dlvry  preg_total  prev_outcome  religion  residence  \\\n",
              "0        999.0            2         1.0           0.0       1.0          0   \n",
              "1        999.0            5         3.0           0.0       1.0          1   \n",
              "2        999.0            2         0.0           4.0       1.0          1   \n",
              "3        999.0            5         0.0           3.0       1.0          1   \n",
              "4        999.0            5         8.0           0.0       1.0          1   \n",
              "\n",
              "   rltn_head  totalborn  type  type_current_vac  \n",
              "0        2.0          1     1             999.0  \n",
              "1        2.0          1     1             999.0  \n",
              "2        2.0          1     1             999.0  \n",
              "3        2.0          1     1             999.0  \n",
              "4        2.0          1     1             999.0  \n",
              "\n",
              "[5 rows x 29 columns]"
            ],
            "text/html": [
              "\n",
              "  <div id=\"df-2856e7e4-34f3-4fae-a91f-0646b551f81a\">\n",
              "    <div class=\"colab-df-container\">\n",
              "      <div>\n",
              "<style scoped>\n",
              "    .dataframe tbody tr th:only-of-type {\n",
              "        vertical-align: middle;\n",
              "    }\n",
              "\n",
              "    .dataframe tbody tr th {\n",
              "        vertical-align: top;\n",
              "    }\n",
              "\n",
              "    .dataframe thead th {\n",
              "        text-align: right;\n",
              "    }\n",
              "</style>\n",
              "<table border=\"1\" class=\"dataframe\">\n",
              "  <thead>\n",
              "    <tr style=\"text-align: right;\">\n",
              "      <th></th>\n",
              "      <th>Unnamed: 0</th>\n",
              "      <th>age_final</th>\n",
              "      <th>altitude</th>\n",
              "      <th>anc_freq</th>\n",
              "      <th>attend_dlvry</th>\n",
              "      <th>current_anc</th>\n",
              "      <th>current_preg_vac</th>\n",
              "      <th>duration_pregnancy</th>\n",
              "      <th>educ_category</th>\n",
              "      <th>ethnicity</th>\n",
              "      <th>...</th>\n",
              "      <th>other_place</th>\n",
              "      <th>place_dlvry</th>\n",
              "      <th>preg_total</th>\n",
              "      <th>prev_outcome</th>\n",
              "      <th>religion</th>\n",
              "      <th>residence</th>\n",
              "      <th>rltn_head</th>\n",
              "      <th>totalborn</th>\n",
              "      <th>type</th>\n",
              "      <th>type_current_vac</th>\n",
              "    </tr>\n",
              "  </thead>\n",
              "  <tbody>\n",
              "    <tr>\n",
              "      <th>0</th>\n",
              "      <td>10236</td>\n",
              "      <td>31.0</td>\n",
              "      <td>2597.0</td>\n",
              "      <td>0.0</td>\n",
              "      <td>2</td>\n",
              "      <td>999.0</td>\n",
              "      <td>999.0</td>\n",
              "      <td>0.0</td>\n",
              "      <td>6.0</td>\n",
              "      <td>1.0</td>\n",
              "      <td>...</td>\n",
              "      <td>999.0</td>\n",
              "      <td>2</td>\n",
              "      <td>1.0</td>\n",
              "      <td>0.0</td>\n",
              "      <td>1.0</td>\n",
              "      <td>0</td>\n",
              "      <td>2.0</td>\n",
              "      <td>1</td>\n",
              "      <td>1</td>\n",
              "      <td>999.0</td>\n",
              "    </tr>\n",
              "    <tr>\n",
              "      <th>1</th>\n",
              "      <td>11624</td>\n",
              "      <td>35.0</td>\n",
              "      <td>1780.0</td>\n",
              "      <td>0.0</td>\n",
              "      <td>6</td>\n",
              "      <td>999.0</td>\n",
              "      <td>999.0</td>\n",
              "      <td>0.0</td>\n",
              "      <td>1.0</td>\n",
              "      <td>1.0</td>\n",
              "      <td>...</td>\n",
              "      <td>999.0</td>\n",
              "      <td>5</td>\n",
              "      <td>3.0</td>\n",
              "      <td>0.0</td>\n",
              "      <td>1.0</td>\n",
              "      <td>1</td>\n",
              "      <td>2.0</td>\n",
              "      <td>1</td>\n",
              "      <td>1</td>\n",
              "      <td>999.0</td>\n",
              "    </tr>\n",
              "    <tr>\n",
              "      <th>2</th>\n",
              "      <td>10365</td>\n",
              "      <td>38.0</td>\n",
              "      <td>2526.0</td>\n",
              "      <td>4.0</td>\n",
              "      <td>2</td>\n",
              "      <td>999.0</td>\n",
              "      <td>999.0</td>\n",
              "      <td>0.0</td>\n",
              "      <td>1.0</td>\n",
              "      <td>1.0</td>\n",
              "      <td>...</td>\n",
              "      <td>999.0</td>\n",
              "      <td>2</td>\n",
              "      <td>0.0</td>\n",
              "      <td>4.0</td>\n",
              "      <td>1.0</td>\n",
              "      <td>1</td>\n",
              "      <td>2.0</td>\n",
              "      <td>1</td>\n",
              "      <td>1</td>\n",
              "      <td>999.0</td>\n",
              "    </tr>\n",
              "    <tr>\n",
              "      <th>3</th>\n",
              "      <td>10034</td>\n",
              "      <td>61.0</td>\n",
              "      <td>1858.0</td>\n",
              "      <td>0.0</td>\n",
              "      <td>5</td>\n",
              "      <td>999.0</td>\n",
              "      <td>999.0</td>\n",
              "      <td>0.0</td>\n",
              "      <td>1.0</td>\n",
              "      <td>1.0</td>\n",
              "      <td>...</td>\n",
              "      <td>999.0</td>\n",
              "      <td>5</td>\n",
              "      <td>0.0</td>\n",
              "      <td>3.0</td>\n",
              "      <td>1.0</td>\n",
              "      <td>1</td>\n",
              "      <td>2.0</td>\n",
              "      <td>1</td>\n",
              "      <td>1</td>\n",
              "      <td>999.0</td>\n",
              "    </tr>\n",
              "    <tr>\n",
              "      <th>4</th>\n",
              "      <td>11056</td>\n",
              "      <td>52.0</td>\n",
              "      <td>1766.0</td>\n",
              "      <td>0.0</td>\n",
              "      <td>4</td>\n",
              "      <td>999.0</td>\n",
              "      <td>999.0</td>\n",
              "      <td>0.0</td>\n",
              "      <td>1.0</td>\n",
              "      <td>1.0</td>\n",
              "      <td>...</td>\n",
              "      <td>999.0</td>\n",
              "      <td>5</td>\n",
              "      <td>8.0</td>\n",
              "      <td>0.0</td>\n",
              "      <td>1.0</td>\n",
              "      <td>1</td>\n",
              "      <td>2.0</td>\n",
              "      <td>1</td>\n",
              "      <td>1</td>\n",
              "      <td>999.0</td>\n",
              "    </tr>\n",
              "  </tbody>\n",
              "</table>\n",
              "<p>5 rows × 29 columns</p>\n",
              "</div>\n",
              "      <button class=\"colab-df-convert\" onclick=\"convertToInteractive('df-2856e7e4-34f3-4fae-a91f-0646b551f81a')\"\n",
              "              title=\"Convert this dataframe to an interactive table.\"\n",
              "              style=\"display:none;\">\n",
              "        \n",
              "  <svg xmlns=\"http://www.w3.org/2000/svg\" height=\"24px\"viewBox=\"0 0 24 24\"\n",
              "       width=\"24px\">\n",
              "    <path d=\"M0 0h24v24H0V0z\" fill=\"none\"/>\n",
              "    <path d=\"M18.56 5.44l.94 2.06.94-2.06 2.06-.94-2.06-.94-.94-2.06-.94 2.06-2.06.94zm-11 1L8.5 8.5l.94-2.06 2.06-.94-2.06-.94L8.5 2.5l-.94 2.06-2.06.94zm10 10l.94 2.06.94-2.06 2.06-.94-2.06-.94-.94-2.06-.94 2.06-2.06.94z\"/><path d=\"M17.41 7.96l-1.37-1.37c-.4-.4-.92-.59-1.43-.59-.52 0-1.04.2-1.43.59L10.3 9.45l-7.72 7.72c-.78.78-.78 2.05 0 2.83L4 21.41c.39.39.9.59 1.41.59.51 0 1.02-.2 1.41-.59l7.78-7.78 2.81-2.81c.8-.78.8-2.07 0-2.86zM5.41 20L4 18.59l7.72-7.72 1.47 1.35L5.41 20z\"/>\n",
              "  </svg>\n",
              "      </button>\n",
              "      \n",
              "  <style>\n",
              "    .colab-df-container {\n",
              "      display:flex;\n",
              "      flex-wrap:wrap;\n",
              "      gap: 12px;\n",
              "    }\n",
              "\n",
              "    .colab-df-convert {\n",
              "      background-color: #E8F0FE;\n",
              "      border: none;\n",
              "      border-radius: 50%;\n",
              "      cursor: pointer;\n",
              "      display: none;\n",
              "      fill: #1967D2;\n",
              "      height: 32px;\n",
              "      padding: 0 0 0 0;\n",
              "      width: 32px;\n",
              "    }\n",
              "\n",
              "    .colab-df-convert:hover {\n",
              "      background-color: #E2EBFA;\n",
              "      box-shadow: 0px 1px 2px rgba(60, 64, 67, 0.3), 0px 1px 3px 1px rgba(60, 64, 67, 0.15);\n",
              "      fill: #174EA6;\n",
              "    }\n",
              "\n",
              "    [theme=dark] .colab-df-convert {\n",
              "      background-color: #3B4455;\n",
              "      fill: #D2E3FC;\n",
              "    }\n",
              "\n",
              "    [theme=dark] .colab-df-convert:hover {\n",
              "      background-color: #434B5C;\n",
              "      box-shadow: 0px 1px 3px 1px rgba(0, 0, 0, 0.15);\n",
              "      filter: drop-shadow(0px 1px 2px rgba(0, 0, 0, 0.3));\n",
              "      fill: #FFFFFF;\n",
              "    }\n",
              "  </style>\n",
              "\n",
              "      <script>\n",
              "        const buttonEl =\n",
              "          document.querySelector('#df-2856e7e4-34f3-4fae-a91f-0646b551f81a button.colab-df-convert');\n",
              "        buttonEl.style.display =\n",
              "          google.colab.kernel.accessAllowed ? 'block' : 'none';\n",
              "\n",
              "        async function convertToInteractive(key) {\n",
              "          const element = document.querySelector('#df-2856e7e4-34f3-4fae-a91f-0646b551f81a');\n",
              "          const dataTable =\n",
              "            await google.colab.kernel.invokeFunction('convertToInteractive',\n",
              "                                                     [key], {});\n",
              "          if (!dataTable) return;\n",
              "\n",
              "          const docLinkHtml = 'Like what you see? Visit the ' +\n",
              "            '<a target=\"_blank\" href=https://colab.research.google.com/notebooks/data_table.ipynb>data table notebook</a>'\n",
              "            + ' to learn more about interactive tables.';\n",
              "          element.innerHTML = '';\n",
              "          dataTable['output_type'] = 'display_data';\n",
              "          await google.colab.output.renderOutput(dataTable, element);\n",
              "          const docLink = document.createElement('div');\n",
              "          docLink.innerHTML = docLinkHtml;\n",
              "          element.appendChild(docLink);\n",
              "        }\n",
              "      </script>\n",
              "    </div>\n",
              "  </div>\n",
              "  "
            ]
          },
          "metadata": {},
          "execution_count": 5
        }
      ]
    },
    {
      "cell_type": "code",
      "source": [
        "# we can print the last five elements of the dataset\n",
        "data_frame.tail()"
      ],
      "metadata": {
        "colab": {
          "base_uri": "https://localhost:8080/",
          "height": 317
        },
        "id": "i5uGnhEHn0De",
        "outputId": "264df689-8e64-43c6-aab5-65560c32e412"
      },
      "execution_count": null,
      "outputs": [
        {
          "output_type": "execute_result",
          "data": {
            "text/plain": [
              "       Unnamed: 0  age_final     altitude  anc_freq  attend_dlvry  \\\n",
              "12913        5191  38.603124  2693.190627       0.0             5   \n",
              "12914       13418  36.000000  2581.000000       0.0             6   \n",
              "12915        5390  44.000000  1601.000000       3.0             7   \n",
              "12916         860  45.000000  2626.000000       4.0             2   \n",
              "12917        7270  49.000000  2642.000000       0.0             6   \n",
              "\n",
              "       current_anc  current_preg_vac  duration_pregnancy  educ_category  \\\n",
              "12913        999.0             999.0                 0.0            1.0   \n",
              "12914        999.0             999.0                 0.0            5.0   \n",
              "12915        999.0             999.0                 0.0            1.0   \n",
              "12916        999.0             999.0                 0.0            1.0   \n",
              "12917        999.0             999.0                 0.0            1.0   \n",
              "\n",
              "       ethnicity  ...  other_place  place_dlvry  preg_total  prev_outcome  \\\n",
              "12913        1.0  ...        999.0            5    0.496095      3.603124   \n",
              "12914        1.0  ...        999.0            5    3.000000      0.000000   \n",
              "12915        1.0  ...        999.0            5    0.000000      6.000000   \n",
              "12916        1.0  ...        999.0            2    0.000000      7.000000   \n",
              "12917        1.0  ...        999.0            5    7.000000      0.000000   \n",
              "\n",
              "       religion  residence  rltn_head  totalborn  type  type_current_vac  \n",
              "12913       1.0          1        2.0          1     3             999.0  \n",
              "12914       2.0          0        8.0          1     1             999.0  \n",
              "12915       1.0          1        2.0          1     1             999.0  \n",
              "12916       1.0          1        2.0          1     1             999.0  \n",
              "12917       1.0          1        2.0          1     1             999.0  \n",
              "\n",
              "[5 rows x 29 columns]"
            ],
            "text/html": [
              "\n",
              "  <div id=\"df-30d217fd-4a48-44a7-a83e-34d3d9853108\">\n",
              "    <div class=\"colab-df-container\">\n",
              "      <div>\n",
              "<style scoped>\n",
              "    .dataframe tbody tr th:only-of-type {\n",
              "        vertical-align: middle;\n",
              "    }\n",
              "\n",
              "    .dataframe tbody tr th {\n",
              "        vertical-align: top;\n",
              "    }\n",
              "\n",
              "    .dataframe thead th {\n",
              "        text-align: right;\n",
              "    }\n",
              "</style>\n",
              "<table border=\"1\" class=\"dataframe\">\n",
              "  <thead>\n",
              "    <tr style=\"text-align: right;\">\n",
              "      <th></th>\n",
              "      <th>Unnamed: 0</th>\n",
              "      <th>age_final</th>\n",
              "      <th>altitude</th>\n",
              "      <th>anc_freq</th>\n",
              "      <th>attend_dlvry</th>\n",
              "      <th>current_anc</th>\n",
              "      <th>current_preg_vac</th>\n",
              "      <th>duration_pregnancy</th>\n",
              "      <th>educ_category</th>\n",
              "      <th>ethnicity</th>\n",
              "      <th>...</th>\n",
              "      <th>other_place</th>\n",
              "      <th>place_dlvry</th>\n",
              "      <th>preg_total</th>\n",
              "      <th>prev_outcome</th>\n",
              "      <th>religion</th>\n",
              "      <th>residence</th>\n",
              "      <th>rltn_head</th>\n",
              "      <th>totalborn</th>\n",
              "      <th>type</th>\n",
              "      <th>type_current_vac</th>\n",
              "    </tr>\n",
              "  </thead>\n",
              "  <tbody>\n",
              "    <tr>\n",
              "      <th>12913</th>\n",
              "      <td>5191</td>\n",
              "      <td>38.603124</td>\n",
              "      <td>2693.190627</td>\n",
              "      <td>0.0</td>\n",
              "      <td>5</td>\n",
              "      <td>999.0</td>\n",
              "      <td>999.0</td>\n",
              "      <td>0.0</td>\n",
              "      <td>1.0</td>\n",
              "      <td>1.0</td>\n",
              "      <td>...</td>\n",
              "      <td>999.0</td>\n",
              "      <td>5</td>\n",
              "      <td>0.496095</td>\n",
              "      <td>3.603124</td>\n",
              "      <td>1.0</td>\n",
              "      <td>1</td>\n",
              "      <td>2.0</td>\n",
              "      <td>1</td>\n",
              "      <td>3</td>\n",
              "      <td>999.0</td>\n",
              "    </tr>\n",
              "    <tr>\n",
              "      <th>12914</th>\n",
              "      <td>13418</td>\n",
              "      <td>36.000000</td>\n",
              "      <td>2581.000000</td>\n",
              "      <td>0.0</td>\n",
              "      <td>6</td>\n",
              "      <td>999.0</td>\n",
              "      <td>999.0</td>\n",
              "      <td>0.0</td>\n",
              "      <td>5.0</td>\n",
              "      <td>1.0</td>\n",
              "      <td>...</td>\n",
              "      <td>999.0</td>\n",
              "      <td>5</td>\n",
              "      <td>3.000000</td>\n",
              "      <td>0.000000</td>\n",
              "      <td>2.0</td>\n",
              "      <td>0</td>\n",
              "      <td>8.0</td>\n",
              "      <td>1</td>\n",
              "      <td>1</td>\n",
              "      <td>999.0</td>\n",
              "    </tr>\n",
              "    <tr>\n",
              "      <th>12915</th>\n",
              "      <td>5390</td>\n",
              "      <td>44.000000</td>\n",
              "      <td>1601.000000</td>\n",
              "      <td>3.0</td>\n",
              "      <td>7</td>\n",
              "      <td>999.0</td>\n",
              "      <td>999.0</td>\n",
              "      <td>0.0</td>\n",
              "      <td>1.0</td>\n",
              "      <td>1.0</td>\n",
              "      <td>...</td>\n",
              "      <td>999.0</td>\n",
              "      <td>5</td>\n",
              "      <td>0.000000</td>\n",
              "      <td>6.000000</td>\n",
              "      <td>1.0</td>\n",
              "      <td>1</td>\n",
              "      <td>2.0</td>\n",
              "      <td>1</td>\n",
              "      <td>1</td>\n",
              "      <td>999.0</td>\n",
              "    </tr>\n",
              "    <tr>\n",
              "      <th>12916</th>\n",
              "      <td>860</td>\n",
              "      <td>45.000000</td>\n",
              "      <td>2626.000000</td>\n",
              "      <td>4.0</td>\n",
              "      <td>2</td>\n",
              "      <td>999.0</td>\n",
              "      <td>999.0</td>\n",
              "      <td>0.0</td>\n",
              "      <td>1.0</td>\n",
              "      <td>1.0</td>\n",
              "      <td>...</td>\n",
              "      <td>999.0</td>\n",
              "      <td>2</td>\n",
              "      <td>0.000000</td>\n",
              "      <td>7.000000</td>\n",
              "      <td>1.0</td>\n",
              "      <td>1</td>\n",
              "      <td>2.0</td>\n",
              "      <td>1</td>\n",
              "      <td>1</td>\n",
              "      <td>999.0</td>\n",
              "    </tr>\n",
              "    <tr>\n",
              "      <th>12917</th>\n",
              "      <td>7270</td>\n",
              "      <td>49.000000</td>\n",
              "      <td>2642.000000</td>\n",
              "      <td>0.0</td>\n",
              "      <td>6</td>\n",
              "      <td>999.0</td>\n",
              "      <td>999.0</td>\n",
              "      <td>0.0</td>\n",
              "      <td>1.0</td>\n",
              "      <td>1.0</td>\n",
              "      <td>...</td>\n",
              "      <td>999.0</td>\n",
              "      <td>5</td>\n",
              "      <td>7.000000</td>\n",
              "      <td>0.000000</td>\n",
              "      <td>1.0</td>\n",
              "      <td>1</td>\n",
              "      <td>2.0</td>\n",
              "      <td>1</td>\n",
              "      <td>1</td>\n",
              "      <td>999.0</td>\n",
              "    </tr>\n",
              "  </tbody>\n",
              "</table>\n",
              "<p>5 rows × 29 columns</p>\n",
              "</div>\n",
              "      <button class=\"colab-df-convert\" onclick=\"convertToInteractive('df-30d217fd-4a48-44a7-a83e-34d3d9853108')\"\n",
              "              title=\"Convert this dataframe to an interactive table.\"\n",
              "              style=\"display:none;\">\n",
              "        \n",
              "  <svg xmlns=\"http://www.w3.org/2000/svg\" height=\"24px\"viewBox=\"0 0 24 24\"\n",
              "       width=\"24px\">\n",
              "    <path d=\"M0 0h24v24H0V0z\" fill=\"none\"/>\n",
              "    <path d=\"M18.56 5.44l.94 2.06.94-2.06 2.06-.94-2.06-.94-.94-2.06-.94 2.06-2.06.94zm-11 1L8.5 8.5l.94-2.06 2.06-.94-2.06-.94L8.5 2.5l-.94 2.06-2.06.94zm10 10l.94 2.06.94-2.06 2.06-.94-2.06-.94-.94-2.06-.94 2.06-2.06.94z\"/><path d=\"M17.41 7.96l-1.37-1.37c-.4-.4-.92-.59-1.43-.59-.52 0-1.04.2-1.43.59L10.3 9.45l-7.72 7.72c-.78.78-.78 2.05 0 2.83L4 21.41c.39.39.9.59 1.41.59.51 0 1.02-.2 1.41-.59l7.78-7.78 2.81-2.81c.8-.78.8-2.07 0-2.86zM5.41 20L4 18.59l7.72-7.72 1.47 1.35L5.41 20z\"/>\n",
              "  </svg>\n",
              "      </button>\n",
              "      \n",
              "  <style>\n",
              "    .colab-df-container {\n",
              "      display:flex;\n",
              "      flex-wrap:wrap;\n",
              "      gap: 12px;\n",
              "    }\n",
              "\n",
              "    .colab-df-convert {\n",
              "      background-color: #E8F0FE;\n",
              "      border: none;\n",
              "      border-radius: 50%;\n",
              "      cursor: pointer;\n",
              "      display: none;\n",
              "      fill: #1967D2;\n",
              "      height: 32px;\n",
              "      padding: 0 0 0 0;\n",
              "      width: 32px;\n",
              "    }\n",
              "\n",
              "    .colab-df-convert:hover {\n",
              "      background-color: #E2EBFA;\n",
              "      box-shadow: 0px 1px 2px rgba(60, 64, 67, 0.3), 0px 1px 3px 1px rgba(60, 64, 67, 0.15);\n",
              "      fill: #174EA6;\n",
              "    }\n",
              "\n",
              "    [theme=dark] .colab-df-convert {\n",
              "      background-color: #3B4455;\n",
              "      fill: #D2E3FC;\n",
              "    }\n",
              "\n",
              "    [theme=dark] .colab-df-convert:hover {\n",
              "      background-color: #434B5C;\n",
              "      box-shadow: 0px 1px 3px 1px rgba(0, 0, 0, 0.15);\n",
              "      filter: drop-shadow(0px 1px 2px rgba(0, 0, 0, 0.3));\n",
              "      fill: #FFFFFF;\n",
              "    }\n",
              "  </style>\n",
              "\n",
              "      <script>\n",
              "        const buttonEl =\n",
              "          document.querySelector('#df-30d217fd-4a48-44a7-a83e-34d3d9853108 button.colab-df-convert');\n",
              "        buttonEl.style.display =\n",
              "          google.colab.kernel.accessAllowed ? 'block' : 'none';\n",
              "\n",
              "        async function convertToInteractive(key) {\n",
              "          const element = document.querySelector('#df-30d217fd-4a48-44a7-a83e-34d3d9853108');\n",
              "          const dataTable =\n",
              "            await google.colab.kernel.invokeFunction('convertToInteractive',\n",
              "                                                     [key], {});\n",
              "          if (!dataTable) return;\n",
              "\n",
              "          const docLinkHtml = 'Like what you see? Visit the ' +\n",
              "            '<a target=\"_blank\" href=https://colab.research.google.com/notebooks/data_table.ipynb>data table notebook</a>'\n",
              "            + ' to learn more about interactive tables.';\n",
              "          element.innerHTML = '';\n",
              "          dataTable['output_type'] = 'display_data';\n",
              "          await google.colab.output.renderOutput(dataTable, element);\n",
              "          const docLink = document.createElement('div');\n",
              "          docLink.innerHTML = docLinkHtml;\n",
              "          element.appendChild(docLink);\n",
              "        }\n",
              "      </script>\n",
              "    </div>\n",
              "  </div>\n",
              "  "
            ]
          },
          "metadata": {},
          "execution_count": 6
        }
      ]
    },
    {
      "cell_type": "code",
      "source": [
        "# The length of the entire dataset\n",
        "total_count = len(data_frame)\n",
        "print(\"The length of the data is = {}\".format(total_count))"
      ],
      "metadata": {
        "colab": {
          "base_uri": "https://localhost:8080/"
        },
        "id": "C3Q3FKU9n4oI",
        "outputId": "c906fca5-a6c0-40f1-8289-d2f795361d8a"
      },
      "execution_count": null,
      "outputs": [
        {
          "output_type": "stream",
          "name": "stdout",
          "text": [
            "The length of the data is = 12918\n"
          ]
        }
      ]
    },
    {
      "cell_type": "code",
      "source": [
        "data_frame.describe()"
      ],
      "metadata": {
        "colab": {
          "base_uri": "https://localhost:8080/",
          "height": 394
        },
        "id": "XBOI1n1spZ9W",
        "outputId": "97ebec3d-1ef5-44e9-857c-d01656bf4caf"
      },
      "execution_count": null,
      "outputs": [
        {
          "output_type": "execute_result",
          "data": {
            "text/plain": [
              "         Unnamed: 0     age_final      altitude      anc_freq  attend_dlvry  \\\n",
              "count  12918.000000  12918.000000  12918.000000  12918.000000  12918.000000   \n",
              "mean    7175.730299     37.404104   2361.091163      3.564458      4.001393   \n",
              "std     4147.218209      7.533091    406.129350     44.137460      1.676657   \n",
              "min        0.000000      8.000000   1165.000000      0.000000      0.000000   \n",
              "25%     3580.250000     32.000000   1922.000000      0.000000      2.000000   \n",
              "50%     7161.500000     37.000000   2596.000000      0.000000      4.000000   \n",
              "75%    10766.750000     42.000000   2644.000000      2.000000      5.000000   \n",
              "max    14353.000000    109.000000   2927.000000    999.000000      7.000000   \n",
              "\n",
              "        current_anc  current_preg_vac  duration_pregnancy  educ_category  \\\n",
              "count  12918.000000      12918.000000        12918.000000   12918.000000   \n",
              "mean     990.052413        990.055989            8.959548       2.220991   \n",
              "std       90.020984         89.985197           90.139287       1.966177   \n",
              "min        1.000000          1.000000            0.000000       0.000000   \n",
              "25%      999.000000        999.000000            0.000000       1.000000   \n",
              "50%      999.000000        999.000000            0.000000       1.000000   \n",
              "75%      999.000000        999.000000            0.000000       3.157198   \n",
              "max      999.000000        999.000000          999.000000       9.000000   \n",
              "\n",
              "          ethnicity  ...   other_place   place_dlvry    preg_total  \\\n",
              "count  12918.000000  ...  12918.000000  12918.000000  12918.000000   \n",
              "mean       1.001006  ...    998.845332      3.861898     11.203866   \n",
              "std        0.036264  ...     12.429854      1.574543     89.956723   \n",
              "min        1.000000  ...      0.000000      1.000000      0.000000   \n",
              "25%        1.000000  ...    999.000000      2.000000      0.000000   \n",
              "50%        1.000000  ...    999.000000      5.000000      1.000000   \n",
              "75%        1.000000  ...    999.000000      5.000000      4.000000   \n",
              "max        3.000000  ...    999.000000      6.000000    999.000000   \n",
              "\n",
              "       prev_outcome      religion     residence     rltn_head     totalborn  \\\n",
              "count  12918.000000  12918.000000  12918.000000  12918.000000  12918.000000   \n",
              "mean       1.555982      1.024071      0.761883      2.299811      1.038086   \n",
              "std       19.722285      0.151790      0.425948      1.125758      0.305970   \n",
              "min        0.000000      1.000000      0.000000      1.000000      0.000000   \n",
              "25%        0.000000      1.000000      1.000000      2.000000      1.000000   \n",
              "50%        0.000000      1.000000      1.000000      2.000000      1.000000   \n",
              "75%        2.000000      1.000000      1.000000      2.000000      1.000000   \n",
              "max      999.000000      4.000000      1.000000      8.000000     10.000000   \n",
              "\n",
              "               type  type_current_vac  \n",
              "count  12918.000000      12918.000000  \n",
              "mean       1.252516        990.060546  \n",
              "std        0.575512         89.943464  \n",
              "min        1.000000          1.000000  \n",
              "25%        1.000000        999.000000  \n",
              "50%        1.000000        999.000000  \n",
              "75%        1.000000        999.000000  \n",
              "max        3.000000        999.000000  \n",
              "\n",
              "[8 rows x 29 columns]"
            ],
            "text/html": [
              "\n",
              "  <div id=\"df-9d4f7f69-610b-4ac8-9c53-53b01ffa51ba\">\n",
              "    <div class=\"colab-df-container\">\n",
              "      <div>\n",
              "<style scoped>\n",
              "    .dataframe tbody tr th:only-of-type {\n",
              "        vertical-align: middle;\n",
              "    }\n",
              "\n",
              "    .dataframe tbody tr th {\n",
              "        vertical-align: top;\n",
              "    }\n",
              "\n",
              "    .dataframe thead th {\n",
              "        text-align: right;\n",
              "    }\n",
              "</style>\n",
              "<table border=\"1\" class=\"dataframe\">\n",
              "  <thead>\n",
              "    <tr style=\"text-align: right;\">\n",
              "      <th></th>\n",
              "      <th>Unnamed: 0</th>\n",
              "      <th>age_final</th>\n",
              "      <th>altitude</th>\n",
              "      <th>anc_freq</th>\n",
              "      <th>attend_dlvry</th>\n",
              "      <th>current_anc</th>\n",
              "      <th>current_preg_vac</th>\n",
              "      <th>duration_pregnancy</th>\n",
              "      <th>educ_category</th>\n",
              "      <th>ethnicity</th>\n",
              "      <th>...</th>\n",
              "      <th>other_place</th>\n",
              "      <th>place_dlvry</th>\n",
              "      <th>preg_total</th>\n",
              "      <th>prev_outcome</th>\n",
              "      <th>religion</th>\n",
              "      <th>residence</th>\n",
              "      <th>rltn_head</th>\n",
              "      <th>totalborn</th>\n",
              "      <th>type</th>\n",
              "      <th>type_current_vac</th>\n",
              "    </tr>\n",
              "  </thead>\n",
              "  <tbody>\n",
              "    <tr>\n",
              "      <th>count</th>\n",
              "      <td>12918.000000</td>\n",
              "      <td>12918.000000</td>\n",
              "      <td>12918.000000</td>\n",
              "      <td>12918.000000</td>\n",
              "      <td>12918.000000</td>\n",
              "      <td>12918.000000</td>\n",
              "      <td>12918.000000</td>\n",
              "      <td>12918.000000</td>\n",
              "      <td>12918.000000</td>\n",
              "      <td>12918.000000</td>\n",
              "      <td>...</td>\n",
              "      <td>12918.000000</td>\n",
              "      <td>12918.000000</td>\n",
              "      <td>12918.000000</td>\n",
              "      <td>12918.000000</td>\n",
              "      <td>12918.000000</td>\n",
              "      <td>12918.000000</td>\n",
              "      <td>12918.000000</td>\n",
              "      <td>12918.000000</td>\n",
              "      <td>12918.000000</td>\n",
              "      <td>12918.000000</td>\n",
              "    </tr>\n",
              "    <tr>\n",
              "      <th>mean</th>\n",
              "      <td>7175.730299</td>\n",
              "      <td>37.404104</td>\n",
              "      <td>2361.091163</td>\n",
              "      <td>3.564458</td>\n",
              "      <td>4.001393</td>\n",
              "      <td>990.052413</td>\n",
              "      <td>990.055989</td>\n",
              "      <td>8.959548</td>\n",
              "      <td>2.220991</td>\n",
              "      <td>1.001006</td>\n",
              "      <td>...</td>\n",
              "      <td>998.845332</td>\n",
              "      <td>3.861898</td>\n",
              "      <td>11.203866</td>\n",
              "      <td>1.555982</td>\n",
              "      <td>1.024071</td>\n",
              "      <td>0.761883</td>\n",
              "      <td>2.299811</td>\n",
              "      <td>1.038086</td>\n",
              "      <td>1.252516</td>\n",
              "      <td>990.060546</td>\n",
              "    </tr>\n",
              "    <tr>\n",
              "      <th>std</th>\n",
              "      <td>4147.218209</td>\n",
              "      <td>7.533091</td>\n",
              "      <td>406.129350</td>\n",
              "      <td>44.137460</td>\n",
              "      <td>1.676657</td>\n",
              "      <td>90.020984</td>\n",
              "      <td>89.985197</td>\n",
              "      <td>90.139287</td>\n",
              "      <td>1.966177</td>\n",
              "      <td>0.036264</td>\n",
              "      <td>...</td>\n",
              "      <td>12.429854</td>\n",
              "      <td>1.574543</td>\n",
              "      <td>89.956723</td>\n",
              "      <td>19.722285</td>\n",
              "      <td>0.151790</td>\n",
              "      <td>0.425948</td>\n",
              "      <td>1.125758</td>\n",
              "      <td>0.305970</td>\n",
              "      <td>0.575512</td>\n",
              "      <td>89.943464</td>\n",
              "    </tr>\n",
              "    <tr>\n",
              "      <th>min</th>\n",
              "      <td>0.000000</td>\n",
              "      <td>8.000000</td>\n",
              "      <td>1165.000000</td>\n",
              "      <td>0.000000</td>\n",
              "      <td>0.000000</td>\n",
              "      <td>1.000000</td>\n",
              "      <td>1.000000</td>\n",
              "      <td>0.000000</td>\n",
              "      <td>0.000000</td>\n",
              "      <td>1.000000</td>\n",
              "      <td>...</td>\n",
              "      <td>0.000000</td>\n",
              "      <td>1.000000</td>\n",
              "      <td>0.000000</td>\n",
              "      <td>0.000000</td>\n",
              "      <td>1.000000</td>\n",
              "      <td>0.000000</td>\n",
              "      <td>1.000000</td>\n",
              "      <td>0.000000</td>\n",
              "      <td>1.000000</td>\n",
              "      <td>1.000000</td>\n",
              "    </tr>\n",
              "    <tr>\n",
              "      <th>25%</th>\n",
              "      <td>3580.250000</td>\n",
              "      <td>32.000000</td>\n",
              "      <td>1922.000000</td>\n",
              "      <td>0.000000</td>\n",
              "      <td>2.000000</td>\n",
              "      <td>999.000000</td>\n",
              "      <td>999.000000</td>\n",
              "      <td>0.000000</td>\n",
              "      <td>1.000000</td>\n",
              "      <td>1.000000</td>\n",
              "      <td>...</td>\n",
              "      <td>999.000000</td>\n",
              "      <td>2.000000</td>\n",
              "      <td>0.000000</td>\n",
              "      <td>0.000000</td>\n",
              "      <td>1.000000</td>\n",
              "      <td>1.000000</td>\n",
              "      <td>2.000000</td>\n",
              "      <td>1.000000</td>\n",
              "      <td>1.000000</td>\n",
              "      <td>999.000000</td>\n",
              "    </tr>\n",
              "    <tr>\n",
              "      <th>50%</th>\n",
              "      <td>7161.500000</td>\n",
              "      <td>37.000000</td>\n",
              "      <td>2596.000000</td>\n",
              "      <td>0.000000</td>\n",
              "      <td>4.000000</td>\n",
              "      <td>999.000000</td>\n",
              "      <td>999.000000</td>\n",
              "      <td>0.000000</td>\n",
              "      <td>1.000000</td>\n",
              "      <td>1.000000</td>\n",
              "      <td>...</td>\n",
              "      <td>999.000000</td>\n",
              "      <td>5.000000</td>\n",
              "      <td>1.000000</td>\n",
              "      <td>0.000000</td>\n",
              "      <td>1.000000</td>\n",
              "      <td>1.000000</td>\n",
              "      <td>2.000000</td>\n",
              "      <td>1.000000</td>\n",
              "      <td>1.000000</td>\n",
              "      <td>999.000000</td>\n",
              "    </tr>\n",
              "    <tr>\n",
              "      <th>75%</th>\n",
              "      <td>10766.750000</td>\n",
              "      <td>42.000000</td>\n",
              "      <td>2644.000000</td>\n",
              "      <td>2.000000</td>\n",
              "      <td>5.000000</td>\n",
              "      <td>999.000000</td>\n",
              "      <td>999.000000</td>\n",
              "      <td>0.000000</td>\n",
              "      <td>3.157198</td>\n",
              "      <td>1.000000</td>\n",
              "      <td>...</td>\n",
              "      <td>999.000000</td>\n",
              "      <td>5.000000</td>\n",
              "      <td>4.000000</td>\n",
              "      <td>2.000000</td>\n",
              "      <td>1.000000</td>\n",
              "      <td>1.000000</td>\n",
              "      <td>2.000000</td>\n",
              "      <td>1.000000</td>\n",
              "      <td>1.000000</td>\n",
              "      <td>999.000000</td>\n",
              "    </tr>\n",
              "    <tr>\n",
              "      <th>max</th>\n",
              "      <td>14353.000000</td>\n",
              "      <td>109.000000</td>\n",
              "      <td>2927.000000</td>\n",
              "      <td>999.000000</td>\n",
              "      <td>7.000000</td>\n",
              "      <td>999.000000</td>\n",
              "      <td>999.000000</td>\n",
              "      <td>999.000000</td>\n",
              "      <td>9.000000</td>\n",
              "      <td>3.000000</td>\n",
              "      <td>...</td>\n",
              "      <td>999.000000</td>\n",
              "      <td>6.000000</td>\n",
              "      <td>999.000000</td>\n",
              "      <td>999.000000</td>\n",
              "      <td>4.000000</td>\n",
              "      <td>1.000000</td>\n",
              "      <td>8.000000</td>\n",
              "      <td>10.000000</td>\n",
              "      <td>3.000000</td>\n",
              "      <td>999.000000</td>\n",
              "    </tr>\n",
              "  </tbody>\n",
              "</table>\n",
              "<p>8 rows × 29 columns</p>\n",
              "</div>\n",
              "      <button class=\"colab-df-convert\" onclick=\"convertToInteractive('df-9d4f7f69-610b-4ac8-9c53-53b01ffa51ba')\"\n",
              "              title=\"Convert this dataframe to an interactive table.\"\n",
              "              style=\"display:none;\">\n",
              "        \n",
              "  <svg xmlns=\"http://www.w3.org/2000/svg\" height=\"24px\"viewBox=\"0 0 24 24\"\n",
              "       width=\"24px\">\n",
              "    <path d=\"M0 0h24v24H0V0z\" fill=\"none\"/>\n",
              "    <path d=\"M18.56 5.44l.94 2.06.94-2.06 2.06-.94-2.06-.94-.94-2.06-.94 2.06-2.06.94zm-11 1L8.5 8.5l.94-2.06 2.06-.94-2.06-.94L8.5 2.5l-.94 2.06-2.06.94zm10 10l.94 2.06.94-2.06 2.06-.94-2.06-.94-.94-2.06-.94 2.06-2.06.94z\"/><path d=\"M17.41 7.96l-1.37-1.37c-.4-.4-.92-.59-1.43-.59-.52 0-1.04.2-1.43.59L10.3 9.45l-7.72 7.72c-.78.78-.78 2.05 0 2.83L4 21.41c.39.39.9.59 1.41.59.51 0 1.02-.2 1.41-.59l7.78-7.78 2.81-2.81c.8-.78.8-2.07 0-2.86zM5.41 20L4 18.59l7.72-7.72 1.47 1.35L5.41 20z\"/>\n",
              "  </svg>\n",
              "      </button>\n",
              "      \n",
              "  <style>\n",
              "    .colab-df-container {\n",
              "      display:flex;\n",
              "      flex-wrap:wrap;\n",
              "      gap: 12px;\n",
              "    }\n",
              "\n",
              "    .colab-df-convert {\n",
              "      background-color: #E8F0FE;\n",
              "      border: none;\n",
              "      border-radius: 50%;\n",
              "      cursor: pointer;\n",
              "      display: none;\n",
              "      fill: #1967D2;\n",
              "      height: 32px;\n",
              "      padding: 0 0 0 0;\n",
              "      width: 32px;\n",
              "    }\n",
              "\n",
              "    .colab-df-convert:hover {\n",
              "      background-color: #E2EBFA;\n",
              "      box-shadow: 0px 1px 2px rgba(60, 64, 67, 0.3), 0px 1px 3px 1px rgba(60, 64, 67, 0.15);\n",
              "      fill: #174EA6;\n",
              "    }\n",
              "\n",
              "    [theme=dark] .colab-df-convert {\n",
              "      background-color: #3B4455;\n",
              "      fill: #D2E3FC;\n",
              "    }\n",
              "\n",
              "    [theme=dark] .colab-df-convert:hover {\n",
              "      background-color: #434B5C;\n",
              "      box-shadow: 0px 1px 3px 1px rgba(0, 0, 0, 0.15);\n",
              "      filter: drop-shadow(0px 1px 2px rgba(0, 0, 0, 0.3));\n",
              "      fill: #FFFFFF;\n",
              "    }\n",
              "  </style>\n",
              "\n",
              "      <script>\n",
              "        const buttonEl =\n",
              "          document.querySelector('#df-9d4f7f69-610b-4ac8-9c53-53b01ffa51ba button.colab-df-convert');\n",
              "        buttonEl.style.display =\n",
              "          google.colab.kernel.accessAllowed ? 'block' : 'none';\n",
              "\n",
              "        async function convertToInteractive(key) {\n",
              "          const element = document.querySelector('#df-9d4f7f69-610b-4ac8-9c53-53b01ffa51ba');\n",
              "          const dataTable =\n",
              "            await google.colab.kernel.invokeFunction('convertToInteractive',\n",
              "                                                     [key], {});\n",
              "          if (!dataTable) return;\n",
              "\n",
              "          const docLinkHtml = 'Like what you see? Visit the ' +\n",
              "            '<a target=\"_blank\" href=https://colab.research.google.com/notebooks/data_table.ipynb>data table notebook</a>'\n",
              "            + ' to learn more about interactive tables.';\n",
              "          element.innerHTML = '';\n",
              "          dataTable['output_type'] = 'display_data';\n",
              "          await google.colab.output.renderOutput(dataTable, element);\n",
              "          const docLink = document.createElement('div');\n",
              "          docLink.innerHTML = docLinkHtml;\n",
              "          element.appendChild(docLink);\n",
              "        }\n",
              "      </script>\n",
              "    </div>\n",
              "  </div>\n",
              "  "
            ]
          },
          "metadata": {},
          "execution_count": 8
        }
      ]
    },
    {
      "cell_type": "code",
      "source": [
        "data_frame[\"type\"].value_counts()"
      ],
      "metadata": {
        "colab": {
          "base_uri": "https://localhost:8080/"
        },
        "id": "jahXuGSUoDA7",
        "outputId": "b671a0be-44d8-476f-a974-94d900d5cffd"
      },
      "execution_count": null,
      "outputs": [
        {
          "output_type": "execute_result",
          "data": {
            "text/plain": [
              "1    10576\n",
              "2     1422\n",
              "3      920\n",
              "Name: type, dtype: int64"
            ]
          },
          "metadata": {},
          "execution_count": 9
        }
      ]
    },
    {
      "cell_type": "code",
      "source": [
        "X = data_frame.drop(columns = [\"type\"])\n",
        "y = data_frame[\"type\"]"
      ],
      "metadata": {
        "id": "txjakCT-vUUw"
      },
      "execution_count": null,
      "outputs": []
    },
    {
      "cell_type": "markdown",
      "source": [
        "# `Plot The Class Distribuition `"
      ],
      "metadata": {
        "id": "NgSYoRB8oIMs"
      }
    },
    {
      "cell_type": "code",
      "source": [
        "# plot the class distribuition\n",
        "plt.figure(figsize = (5 , 5))\n",
        "sns.countplot(y = data_frame[\"type\"])\n",
        "plt.show()"
      ],
      "metadata": {
        "colab": {
          "base_uri": "https://localhost:8080/",
          "height": 334
        },
        "id": "eq9foj8noMOn",
        "outputId": "1f554a0a-0442-4752-c8c8-7945d46fe928"
      },
      "execution_count": null,
      "outputs": [
        {
          "output_type": "display_data",
          "data": {
            "text/plain": [
              "<Figure size 360x360 with 1 Axes>"
            ],
            "image/png": "[encoded data removed]"
          },
          "metadata": {
            "needs_background": "light"
          }
        }
      ]
    },
    {
      "cell_type": "markdown",
      "source": [
        "# `Handling Missing Data`"
      ],
      "metadata": {
        "id": "qEFAGOT8B-y3"
      }
    },
    {
      "cell_type": "markdown",
      "source": [
        "# Drop Columns with missing values and Replace some of them with their means"
      ],
      "metadata": {
        "id": "KYAqi0iUDP_l"
      }
    },
    {
      "cell_type": "code",
      "source": [
        "# dropping these will actually increases the accuracy\n",
        "X = X.drop([\"type_current_vac\" , \"current_preg_vac\" , \"current_anc\" , \"freq_tt_vac\" , \"other_place\"] , axis = 1)"
      ],
      "metadata": {
        "id": "oLYn-5V6B_cv"
      },
      "execution_count": null,
      "outputs": []
    },
    {
      "cell_type": "code",
      "source": [
        "# replace some of the features with their mean values\n",
        "X = X.replace(999 , X[\"anc_freq\"].mean())\n",
        "X = X.replace(999 , X[\"duration_pregnancy\"].mean())\n",
        "X = X.replace(999 , X[\"preg_total\"].mean())\n",
        "X = X.replace(999 , X[\"prev_outcome\"].mean())"
      ],
      "metadata": {
        "id": "nTx4mUVeCAal"
      },
      "execution_count": null,
      "outputs": []
    },
    {
      "cell_type": "code",
      "source": [
        "# check if a column has 999 entry\n",
        "print('No. of 999 in anc_freq ', X[X['anc_freq']==999].shape[0])"
      ],
      "metadata": {
        "colab": {
          "base_uri": "https://localhost:8080/"
        },
        "id": "7y9EVGTwDZTB",
        "outputId": "ce643a59-84d3-4d52-cef7-e3c37348a1e8"
      },
      "execution_count": null,
      "outputs": [
        {
          "output_type": "stream",
          "name": "stdout",
          "text": [
            "No. of 999 in anc_freq  0\n"
          ]
        }
      ]
    },
    {
      "cell_type": "code",
      "source": [
        "!pip install -U imbalanced-learn"
      ],
      "metadata": {
        "colab": {
          "base_uri": "https://localhost:8080/"
        },
        "id": "sdSanF3WvH_f",
        "outputId": "7ae5cbdc-478a-46b1-8a33-9e158882f67e"
      },
      "execution_count": null,
      "outputs": [
        {
          "output_type": "stream",
          "name": "stdout",
          "text": [
            "Looking in indexes: https://pypi.org/simple, https://us-python.pkg.dev/colab-wheels/public/simple/\n",
            "Requirement already satisfied: imbalanced-learn in /usr/local/lib/python3.8/dist-packages (0.8.1)\n",
            "Collecting imbalanced-learn\n",
            "  Downloading imbalanced_learn-0.10.0-py3-none-any.whl (225 kB)\n",
            "\u001b[K     |████████████████████████████████| 225 kB 4.9 MB/s \n",
            "\u001b[?25hRequirement already satisfied: scipy>=1.3.2 in /usr/local/lib/python3.8/dist-packages (from imbalanced-learn) (1.7.3)\n",
            "Requirement already satisfied: threadpoolctl>=2.0.0 in /usr/local/lib/python3.8/dist-packages (from imbalanced-learn) (3.1.0)\n",
            "Requirement already satisfied: joblib>=1.1.1 in /usr/local/lib/python3.8/dist-packages (from imbalanced-learn) (1.2.0)\n",
            "Requirement already satisfied: scikit-learn>=1.0.2 in /usr/local/lib/python3.8/dist-packages (from imbalanced-learn) (1.0.2)\n",
            "Requirement already satisfied: numpy>=1.17.3 in /usr/local/lib/python3.8/dist-packages (from imbalanced-learn) (1.21.6)\n",
            "Installing collected packages: imbalanced-learn\n",
            "  Attempting uninstall: imbalanced-learn\n",
            "    Found existing installation: imbalanced-learn 0.8.1\n",
            "    Uninstalling imbalanced-learn-0.8.1:\n",
            "      Successfully uninstalled imbalanced-learn-0.8.1\n",
            "Successfully installed imbalanced-learn-0.10.0\n"
          ]
        }
      ]
    },
    {
      "cell_type": "markdown",
      "source": [
        "# `Class Distribuition `"
      ],
      "metadata": {
        "id": "kQ-UOZDgbZgW"
      }
    },
    {
      "cell_type": "code",
      "source": [
        "import matplotlib.pyplot as plt\n",
        "y.value_counts().plot.pie(autopct = \"%.2f\")"
      ],
      "metadata": {
        "colab": {
          "base_uri": "https://localhost:8080/",
          "height": 265
        },
        "id": "9OQ8UqX8vfHT",
        "outputId": "a29b1f05-f5d9-4ae3-90ad-8c03d9cd9a4b"
      },
      "execution_count": null,
      "outputs": [
        {
          "output_type": "execute_result",
          "data": {
            "text/plain": [
              "<matplotlib.axes._subplots.AxesSubplot at 0x7f3e69d61220>"
            ]
          },
          "metadata": {},
          "execution_count": 16
        },
        {
          "output_type": "display_data",
          "data": {
            "text/plain": [
              "<Figure size 432x288 with 1 Axes>"
            ],
            "image/png": "[encoded data removed]"
          },
          "metadata": {}
        }
      ]
    },
    {
      "cell_type": "markdown",
      "source": [
        "# `Random Over Sampling`"
      ],
      "metadata": {
        "id": "T6S9qmH_vm_D"
      }
    },
    {
      "cell_type": "code",
      "source": [
        "from imblearn.over_sampling import RandomOverSampler\n",
        "ros = RandomOverSampler(sampling_strategy= \"not majority\")\n",
        "X_oversample , y_oversample = ros.fit_resample(X,y)"
      ],
      "metadata": {
        "id": "GEErbHJZvrWp"
      },
      "execution_count": null,
      "outputs": []
    },
    {
      "cell_type": "markdown",
      "source": [
        "#` Over Sampling `"
      ],
      "metadata": {
        "id": "TJSEQzerg569"
      }
    },
    {
      "cell_type": "code",
      "source": [
        "y_oversample.value_counts()"
      ],
      "metadata": {
        "colab": {
          "base_uri": "https://localhost:8080/"
        },
        "id": "QSPznNLGvuv_",
        "outputId": "81efffd6-5a81-410f-8c68-7239bd88089f"
      },
      "execution_count": null,
      "outputs": [
        {
          "output_type": "execute_result",
          "data": {
            "text/plain": [
              "1    10576\n",
              "3    10576\n",
              "2    10576\n",
              "Name: type, dtype: int64"
            ]
          },
          "metadata": {},
          "execution_count": 18
        }
      ]
    },
    {
      "cell_type": "code",
      "source": [
        "import matplotlib.pyplot as plt\n",
        "y_oversample.value_counts().plot.pie(autopct = \"%.2f\")"
      ],
      "metadata": {
        "colab": {
          "base_uri": "https://localhost:8080/",
          "height": 265
        },
        "id": "KuwE1sSQvzYF",
        "outputId": "27dae449-e416-4af1-9666-da7751957fb6"
      },
      "execution_count": null,
      "outputs": [
        {
          "output_type": "execute_result",
          "data": {
            "text/plain": [
              "<matplotlib.axes._subplots.AxesSubplot at 0x7f3e68c29a00>"
            ]
          },
          "metadata": {},
          "execution_count": 19
        },
        {
          "output_type": "display_data",
          "data": {
            "text/plain": [
              "<Figure size 432x288 with 1 Axes>"
            ],
            "image/png": "[encoded data removed]"
          },
          "metadata": {}
        }
      ]
    },
    {
      "cell_type": "markdown",
      "source": [
        "# `Corelation Among Features`"
      ],
      "metadata": {
        "id": "_WOxkjw1pBwC"
      }
    },
    {
      "cell_type": "code",
      "source": [
        "sns.heatmap(data_frame.corr());"
      ],
      "metadata": {
        "colab": {
          "base_uri": "https://localhost:8080/",
          "height": 346
        },
        "id": "pZPHU9LTpGe9",
        "outputId": "ec25e3f9-4d95-4fdc-d0dc-119e8e603507"
      },
      "execution_count": null,
      "outputs": [
        {
          "output_type": "display_data",
          "data": {
            "text/plain": [
              "<Figure size 432x288 with 2 Axes>"
            ],
            "image/png": "[encoded data removed]"
          },
          "metadata": {
            "needs_background": "light"
          }
        }
      ]
    },
    {
      "cell_type": "markdown",
      "source": [
        "# `Simple Impuatation`"
      ],
      "metadata": {
        "id": "0WdMcLZBKghN"
      }
    },
    {
      "cell_type": "code",
      "source": [
        "# from sklearn.impute import SimpleImputer\n",
        "# impute = SimpleImputer()\n",
        "# data_frame_train_imputed = impute.fit_transform(data_frame)"
      ],
      "metadata": {
        "id": "bqO-P4jIrPzC"
      },
      "execution_count": null,
      "outputs": []
    },
    {
      "cell_type": "markdown",
      "source": [
        "# `Feature Selection `"
      ],
      "metadata": {
        "id": "nB_c0hWnqtUc"
      }
    },
    {
      "cell_type": "code",
      "source": [
        "from sklearn.feature_selection import SelectKBest\n",
        "from sklearn.feature_selection import chi2 , f_classif\n",
        "\n",
        "FeatureSelection = SelectKBest(score_func= chi2 ,k = 3)\n",
        "X_oversample = FeatureSelection.fit_transform(X_oversample, y_oversample)"
      ],
      "metadata": {
        "id": "iOGIYaWGqwKo"
      },
      "execution_count": null,
      "outputs": []
    },
    {
      "cell_type": "code",
      "source": [
        "# show the X dimension\n",
        "print(\"X shape is \" , X_oversample.shape)"
      ],
      "metadata": {
        "colab": {
          "base_uri": "https://localhost:8080/"
        },
        "id": "hCwPQgVPv7gT",
        "outputId": "6794b215-f150-4ea8-84c3-ea33dde78d4e"
      },
      "execution_count": null,
      "outputs": [
        {
          "output_type": "stream",
          "name": "stdout",
          "text": [
            "X shape is  (31728, 3)\n"
          ]
        }
      ]
    },
    {
      "cell_type": "markdown",
      "source": [
        "# `Feature Scaling `"
      ],
      "metadata": {
        "id": "OOHnKG7Z7wLL"
      }
    },
    {
      "cell_type": "code",
      "source": [
        "# from sklearn.preprocessing import StandardScaler\n",
        "# scaler = StandardScaler()\n",
        "# x_train = scaler.fit_transform(X_train)\n",
        "# x_validation = scaler.fit_transform(X_validation)"
      ],
      "metadata": {
        "id": "vzjQGxuP7ujj"
      },
      "execution_count": null,
      "outputs": []
    },
    {
      "cell_type": "markdown",
      "source": [
        "# `Splitting The Data `"
      ],
      "metadata": {
        "id": "hmt_Wq2LsqaP"
      }
    },
    {
      "cell_type": "code",
      "source": [
        "X_train, X_validation, y_train, y_validation = train_test_split(X_oversample, y_oversample, test_size = 0.1, random_state=44, shuffle =True)"
      ],
      "metadata": {
        "id": "Krw0GUyVsuXw"
      },
      "execution_count": null,
      "outputs": []
    },
    {
      "cell_type": "code",
      "source": [
        "print(\"The length of the X-train is \" , len(X_train))\n",
        "print(\"The length of the X-test is \" , len(X_validation))\n",
        "print('The entire length of the data set' , len(X))"
      ],
      "metadata": {
        "colab": {
          "base_uri": "https://localhost:8080/"
        },
        "id": "yoDk9hDP8lLX",
        "outputId": "43af3a31-01d7-436d-8db7-4e600a75e970"
      },
      "execution_count": null,
      "outputs": [
        {
          "output_type": "stream",
          "name": "stdout",
          "text": [
            "The length of the X-train is  28555\n",
            "The length of the X-test is  3173\n",
            "The entire length of the data set 12918\n"
          ]
        }
      ]
    },
    {
      "cell_type": "code",
      "source": [
        "y_train.value_counts()"
      ],
      "metadata": {
        "colab": {
          "base_uri": "https://localhost:8080/"
        },
        "id": "fm7VXrkfHWRO",
        "outputId": "e03efffe-ceab-462b-fd78-431576e61f33"
      },
      "execution_count": null,
      "outputs": [
        {
          "output_type": "execute_result",
          "data": {
            "text/plain": [
              "1    9553\n",
              "2    9511\n",
              "3    9491\n",
              "Name: type, dtype: int64"
            ]
          },
          "metadata": {},
          "execution_count": 27
        }
      ]
    },
    {
      "cell_type": "code",
      "source": [
        "y_validation.value_counts()"
      ],
      "metadata": {
        "colab": {
          "base_uri": "https://localhost:8080/"
        },
        "id": "wfLbJysdE-eo",
        "outputId": "9b586727-9641-41d3-8ee0-9d64a03acd4a"
      },
      "execution_count": null,
      "outputs": [
        {
          "output_type": "execute_result",
          "data": {
            "text/plain": [
              "3    1085\n",
              "2    1065\n",
              "1    1023\n",
              "Name: type, dtype: int64"
            ]
          },
          "metadata": {},
          "execution_count": 28
        }
      ]
    },
    {
      "cell_type": "markdown",
      "source": [
        "# `Over sampling the validation dataset `"
      ],
      "metadata": {
        "id": "OT0xI0twFLxZ"
      }
    },
    {
      "cell_type": "code",
      "source": [
        "from imblearn.over_sampling import RandomOverSampler\n",
        "ros = RandomOverSampler(sampling_strategy= \"not majority\")\n",
        "X_validation , y_validation = ros.fit_resample(X_validation , y_validation)"
      ],
      "metadata": {
        "id": "KlG7xZJpFY38"
      },
      "execution_count": null,
      "outputs": []
    },
    {
      "cell_type": "code",
      "source": [
        "y_validation.value_counts()"
      ],
      "metadata": {
        "colab": {
          "base_uri": "https://localhost:8080/"
        },
        "id": "T380qWsSFuEy",
        "outputId": "4c29b6b0-48a4-4fc6-cf25-31b7a3559d91"
      },
      "execution_count": null,
      "outputs": [
        {
          "output_type": "execute_result",
          "data": {
            "text/plain": [
              "1    1085\n",
              "3    1085\n",
              "2    1085\n",
              "Name: type, dtype: int64"
            ]
          },
          "metadata": {},
          "execution_count": 30
        }
      ]
    },
    {
      "cell_type": "markdown",
      "source": [
        "# `Logistic Regression `"
      ],
      "metadata": {
        "id": "ioJDLwElwMdI"
      }
    },
    {
      "cell_type": "code",
      "source": [
        "import time\n",
        "LogisticRegressionModel = LogisticRegression(max_iter = 100)\n",
        "t_initial = time.time()\n",
        "LogisticRegressionModel.fit(X_train , y_train)\n",
        "print(\"The Training time \" , time.time() - t_initial , \"milli-second\")"
      ],
      "metadata": {
        "colab": {
          "base_uri": "https://localhost:8080/"
        },
        "id": "zNbj1lUpwGOz",
        "outputId": "f06048ad-9bad-47f3-9bf6-a65d53453902"
      },
      "execution_count": null,
      "outputs": [
        {
          "output_type": "stream",
          "name": "stdout",
          "text": [
            "The Training time  1.317610502243042 milli-second\n"
          ]
        }
      ]
    },
    {
      "cell_type": "code",
      "source": [
        "print(\"Logistic Regression Model Train Score is :\" , LogisticRegressionModel.score(X_train , y_train))"
      ],
      "metadata": {
        "colab": {
          "base_uri": "https://localhost:8080/"
        },
        "id": "EDg6QvQFwTKY",
        "outputId": "8fb0d21d-f174-4ed8-ea47-07814649efa0"
      },
      "execution_count": null,
      "outputs": [
        {
          "output_type": "stream",
          "name": "stdout",
          "text": [
            "Logistic Regression Model Train Score is : 0.9036596042724566\n"
          ]
        }
      ]
    },
    {
      "cell_type": "markdown",
      "source": [
        "#` Confusion Matrix For Logistic Regression `"
      ],
      "metadata": {
        "id": "56b-puBHwdbz"
      }
    },
    {
      "cell_type": "code",
      "source": [
        "# Prediction on the test set\n",
        "t_initial = time.time()\n",
        "y_pred_LR = LogisticRegressionModel.predict(X_validation)\n",
        "print(\"The Validation time \" , time.time() - t_initial , \"milli-second\")\n",
        "print(\"Validation Accuracy :\" , accuracy_score(y_validation , y_pred_LR))"
      ],
      "metadata": {
        "colab": {
          "base_uri": "https://localhost:8080/"
        },
        "id": "bsEpSnbawPlc",
        "outputId": "e48ad18b-1bab-40ae-dde9-5eeed641332f"
      },
      "execution_count": null,
      "outputs": [
        {
          "output_type": "stream",
          "name": "stdout",
          "text": [
            "The Validation time  0.0007309913635253906 milli-second\n",
            "Validation Accuracy : 0.896774193548387\n"
          ]
        }
      ]
    },
    {
      "cell_type": "code",
      "source": [
        "CM_LR = confusion_matrix(y_validation , y_pred_LR)\n",
        "sns.heatmap(CM_LR , annot=True, fmt='.3g')\n",
        "plt.title('Confusion matrix');\n",
        "plt.xlabel('Predicted');\n",
        "plt.ylabel('Actual');\n",
        "\n",
        "plt.show()"
      ],
      "metadata": {
        "colab": {
          "base_uri": "https://localhost:8080/",
          "height": 295
        },
        "id": "D6FhsW6Iw4Zt",
        "outputId": "ad8238f7-6d78-46e6-aa18-ca02133b26fd"
      },
      "execution_count": null,
      "outputs": [
        {
          "output_type": "display_data",
          "data": {
            "text/plain": [
              "<Figure size 432x288 with 2 Axes>"
            ],
            "image/png": "[encoded data removed]"
          },
          "metadata": {
            "needs_background": "light"
          }
        }
      ]
    },
    {
      "cell_type": "markdown",
      "source": [
        "# `Recall Score , Precision Score and F1 Score For Logistic Regression `"
      ],
      "metadata": {
        "id": "vjsmxI3Qx0m7"
      }
    },
    {
      "cell_type": "code",
      "source": [
        "print(\"The F1 Score is :\" , f1_score(y_validation , y_pred_LR , average = \"micro\"))\n",
        "print(\"The Recall score is :\" , recall_score(y_validation , y_pred_LR , average = \"micro\"))\n",
        "print(\"The Precision score is :\" , precision_score(y_validation , y_pred_LR , average = \"micro\"))"
      ],
      "metadata": {
        "colab": {
          "base_uri": "https://localhost:8080/"
        },
        "id": "ImccwkIO4Joq",
        "outputId": "2885dba2-b304-424d-f74a-2338762e6e5e"
      },
      "execution_count": null,
      "outputs": [
        {
          "output_type": "stream",
          "name": "stdout",
          "text": [
            "The F1 Score is : 0.896774193548387\n",
            "The Recall score is : 0.896774193548387\n",
            "The Precision score is : 0.896774193548387\n"
          ]
        }
      ]
    },
    {
      "cell_type": "markdown",
      "source": [
        "* Sklearn f1 score multiclass is average of f1 scores from each classes. The sklearn provide the various methods to do the averaging. We may provide the averaging methods as parameters in the f1_score() function. You may choose any o the value from this list {‘micro’, ‘macro’, ‘samples’,’weighted’, ‘binary’} and parameterize into the function. The default value is None. This default value works in the case of the binary classification."
      ],
      "metadata": {
        "id": "SnzbgpHNU5ei"
      }
    },
    {
      "cell_type": "markdown",
      "source": [
        "'binary':\n",
        "Only report results for the class specified by pos_label. This is applicable only if targets (y_{true,pred}) are binary.\n",
        "\n",
        "'micro':\n",
        "Calculate metrics globally by counting the total true positives, false negatives and false positives.\n",
        "\n",
        "'macro':\n",
        "Calculate metrics for each label, and find their unweighted mean. This does not take label imbalance into account.\n",
        "\n",
        "'weighted':\n",
        "Calculate metrics for each label, and find their average weighted by support (the number of true instances for each label). This alters ‘macro’ to account for label imbalance; it can result in an F-score that is not between precision and recall.\n",
        "\n",
        "'samples':\n",
        "Calculate metrics for each instance, and find their average (only meaningful for multilabel classification where this differs from accuracy_score)."
      ],
      "metadata": {
        "id": "uCmLIzl9VtSh"
      }
    },
    {
      "cell_type": "markdown",
      "source": [
        "# `Decision Tree Model `"
      ],
      "metadata": {
        "id": "vWypMw_ZyKFA"
      }
    },
    {
      "cell_type": "code",
      "source": [
        "t_initial = time.time()\n",
        "DecisionTreeClassifierModel = DecisionTreeClassifier(criterion='entropy',max_depth=41,random_state=44)\n",
        "DecisionTreeClassifierModel.fit(X_train, y_train)\n",
        "print(\"The Training time \" , time.time() - t_initial , \"milli-second\")"
      ],
      "metadata": {
        "colab": {
          "base_uri": "https://localhost:8080/"
        },
        "id": "KMDv7lvNw7M_",
        "outputId": "3b978a2c-fbcb-42cb-bffe-087104ee63b2"
      },
      "execution_count": null,
      "outputs": [
        {
          "output_type": "stream",
          "name": "stdout",
          "text": [
            "The Training time  0.016753673553466797 milli-second\n"
          ]
        }
      ]
    },
    {
      "cell_type": "code",
      "source": [
        "print('DecisionTreeClassifierModel Train Score is : ' , DecisionTreeClassifierModel.score(X_train, y_train))"
      ],
      "metadata": {
        "colab": {
          "base_uri": "https://localhost:8080/"
        },
        "id": "LHmYh5rHxoLf",
        "outputId": "9d389693-314c-42cd-e200-1c0f8a82ae18"
      },
      "execution_count": null,
      "outputs": [
        {
          "output_type": "stream",
          "name": "stdout",
          "text": [
            "DecisionTreeClassifierModel Train Score is :  1.0\n"
          ]
        }
      ]
    },
    {
      "cell_type": "code",
      "source": [
        "t_initial = time.time()\n",
        "y_pred_DT = DecisionTreeClassifierModel.predict(X_validation)\n",
        "print(\"The Validation time \" , time.time() - t_initial , \"milli-second\")\n",
        "print(\"Validation Accuracy \" , accuracy_score(y_validation , y_pred_DT))"
      ],
      "metadata": {
        "colab": {
          "base_uri": "https://localhost:8080/"
        },
        "id": "mOdbgjX5xrVU",
        "outputId": "6f69f6cb-9017-403c-d344-cb83e4b42338"
      },
      "execution_count": null,
      "outputs": [
        {
          "output_type": "stream",
          "name": "stdout",
          "text": [
            "The Validation time  0.0007581710815429688 milli-second\n",
            "Validation Accuracy  1.0\n"
          ]
        }
      ]
    },
    {
      "cell_type": "markdown",
      "source": [
        "# `Confusion Matrix For Decision Tree `"
      ],
      "metadata": {
        "id": "bo7_rt3ryRe1"
      }
    },
    {
      "cell_type": "code",
      "source": [
        "CM_DT = confusion_matrix(y_validation , y_pred_DT)\n",
        "sns.heatmap(CM_DT , annot=True, fmt='.3g')\n",
        "plt.title('Confusion matrix');\n",
        "plt.xlabel('Predicted');\n",
        "plt.ylabel('Actual');\n",
        "\n",
        "plt.show()"
      ],
      "metadata": {
        "colab": {
          "base_uri": "https://localhost:8080/",
          "height": 295
        },
        "id": "jkOdp3Xmxw1_",
        "outputId": "07b517c8-f7cb-41a6-e920-8a0d1b0ff9f2"
      },
      "execution_count": null,
      "outputs": [
        {
          "output_type": "display_data",
          "data": {
            "text/plain": [
              "<Figure size 432x288 with 2 Axes>"
            ],
            "image/png": "[encoded data removed]"
          },
          "metadata": {
            "needs_background": "light"
          }
        }
      ]
    },
    {
      "cell_type": "markdown",
      "source": [
        "# `F1 Score , Precision Score , Recall Score For the Decision Tree `"
      ],
      "metadata": {
        "id": "h6hLmHoy6Zyz"
      }
    },
    {
      "cell_type": "code",
      "source": [
        "print(\"The F1 Score is :\" , f1_score(y_validation , y_pred_DT , average = \"micro\"))\n",
        "print(\"The Recall score is :\" , recall_score(y_validation , y_pred_DT , average = \"micro\"))\n",
        "print(\"The Precision score is :\" , precision_score(y_validation , y_pred_DT , average = \"micro\"))"
      ],
      "metadata": {
        "colab": {
          "base_uri": "https://localhost:8080/"
        },
        "id": "g8DLr9kE6ZIb",
        "outputId": "42d792a7-12b9-4f3a-a65e-879aa3fb91c0"
      },
      "execution_count": null,
      "outputs": [
        {
          "output_type": "stream",
          "name": "stdout",
          "text": [
            "The F1 Score is : 1.0\n",
            "The Recall score is : 1.0\n",
            "The Precision score is : 1.0\n"
          ]
        }
      ]
    },
    {
      "cell_type": "markdown",
      "source": [
        "# `Random Forest Model `"
      ],
      "metadata": {
        "id": "08oj6OuEzGT9"
      }
    },
    {
      "cell_type": "code",
      "source": [
        "t_initial = time.time()\n",
        "RandomForestClassifierModel = RandomForestClassifier(criterion = 'entropy', max_depth=14, n_estimators=100, random_state=44)\n",
        "RandomForestClassifierModel.fit(X_train, y_train)\n",
        "print(\"The Training time \" , time.time() - t_initial , \"milli-second\")"
      ],
      "metadata": {
        "colab": {
          "base_uri": "https://localhost:8080/"
        },
        "id": "NS_w4QRByPh9",
        "outputId": "520571d0-b2bd-4069-8b78-022b8f7e4ac0"
      },
      "execution_count": null,
      "outputs": [
        {
          "output_type": "stream",
          "name": "stdout",
          "text": [
            "The Training time  1.2939138412475586 milli-second\n"
          ]
        }
      ]
    },
    {
      "cell_type": "code",
      "source": [
        "print('RandomForestClassifierModel Train Score is : ' , RandomForestClassifierModel.score(X_train, y_train))"
      ],
      "metadata": {
        "colab": {
          "base_uri": "https://localhost:8080/"
        },
        "id": "1WqZnCbIzRr2",
        "outputId": "eee67280-ef7f-4f54-90e1-6c6b4e3b383b"
      },
      "execution_count": null,
      "outputs": [
        {
          "output_type": "stream",
          "name": "stdout",
          "text": [
            "RandomForestClassifierModel Train Score is :  1.0\n"
          ]
        }
      ]
    },
    {
      "cell_type": "code",
      "source": [
        "t_initial = time.time()\n",
        "y_pred_RF = RandomForestClassifierModel.predict(X_validation)\n",
        "print(\"The Validation time \" , time.time() - t_initial , \"milli-second\")\n",
        "print(\"Validation Accuracy\" ,accuracy_score(y_validation , y_pred_RF))"
      ],
      "metadata": {
        "colab": {
          "base_uri": "https://localhost:8080/"
        },
        "id": "t7hgKDFWzX7s",
        "outputId": "fe5ef0b9-a855-4edc-98cf-9d62f85bc6c3"
      },
      "execution_count": null,
      "outputs": [
        {
          "output_type": "stream",
          "name": "stdout",
          "text": [
            "The Validation time  0.04023170471191406 milli-second\n",
            "Validation Accuracy 1.0\n"
          ]
        }
      ]
    },
    {
      "cell_type": "markdown",
      "source": [
        "# `Confusion Matrix For Random Forest Model `"
      ],
      "metadata": {
        "id": "0Ch331wxzcW6"
      }
    },
    {
      "cell_type": "code",
      "source": [
        "CM_RF = confusion_matrix(y_validation , y_pred_RF)\n",
        "sns.heatmap(CM_RF , annot=True, fmt='.3g')\n",
        "plt.title('Confusion matrix');\n",
        "plt.xlabel('Predicted');\n",
        "plt.ylabel('Actual');\n",
        "\n",
        "plt.show()"
      ],
      "metadata": {
        "colab": {
          "base_uri": "https://localhost:8080/",
          "height": 295
        },
        "id": "fl-z1q51zhz2",
        "outputId": "773e426f-efef-40cb-f46a-555ef673e08e"
      },
      "execution_count": null,
      "outputs": [
        {
          "output_type": "display_data",
          "data": {
            "text/plain": [
              "<Figure size 432x288 with 2 Axes>"
            ],
            "image/png": "[encoded data removed]"
          },
          "metadata": {
            "needs_background": "light"
          }
        }
      ]
    },
    {
      "cell_type": "markdown",
      "source": [
        "# `The Precision , Recall and F1 Score For the Random Forest Model `"
      ],
      "metadata": {
        "id": "5d79ST3u7Hfx"
      }
    },
    {
      "cell_type": "code",
      "source": [
        "print(\"The F1 Score is :\" , f1_score(y_validation , y_pred_RF , average = \"micro\"))\n",
        "print(\"The Recall score is :\" , recall_score(y_validation , y_pred_RF , average = \"micro\"))\n",
        "print(\"The Precision score is :\" , precision_score(y_validation , y_pred_RF , average = \"micro\"))"
      ],
      "metadata": {
        "colab": {
          "base_uri": "https://localhost:8080/"
        },
        "id": "j9p9km3z7GJE",
        "outputId": "39ccc5cb-9dad-48f0-fe1e-cd586fea5a81"
      },
      "execution_count": null,
      "outputs": [
        {
          "output_type": "stream",
          "name": "stdout",
          "text": [
            "The F1 Score is : 1.0\n",
            "The Recall score is : 1.0\n",
            "The Precision score is : 1.0\n"
          ]
        }
      ]
    },
    {
      "cell_type": "markdown",
      "source": [
        "# `Gradient Boosting Model `"
      ],
      "metadata": {
        "id": "p6tpOdrCz5JH"
      }
    },
    {
      "cell_type": "code",
      "source": [
        "t_initial = time.time()\n",
        "GBCModel = GradientBoostingClassifier(n_estimators=100, max_depth=5, learning_rate=0.1, random_state=44)\n",
        "GBCModel.fit(X_train, y_train)\n",
        "print(\"The Training time \" , time.time() - t_initial , \"milli-second\")\n",
        "print('GBCModel Train Score is : ' , GBCModel.score(X_train, y_train))"
      ],
      "metadata": {
        "colab": {
          "base_uri": "https://localhost:8080/"
        },
        "id": "7eR5kmuozvh7",
        "outputId": "0f5aef56-46a9-42cc-d8c7-67ff3df5058c"
      },
      "execution_count": null,
      "outputs": [
        {
          "output_type": "stream",
          "name": "stdout",
          "text": [
            "The Training time  6.465634346008301 milli-second\n",
            "GBCModel Train Score is :  1.0\n"
          ]
        }
      ]
    },
    {
      "cell_type": "code",
      "source": [
        "t_initial = time.time()\n",
        "y_pred_GB = RandomForestClassifierModel.predict(X_validation)\n",
        "print(\"The Validation time \" , time.time() - t_initial , \"milli-second\")\n",
        "print(\"Validation Accuracy :\" , accuracy_score(y_validation , y_pred_GB))"
      ],
      "metadata": {
        "colab": {
          "base_uri": "https://localhost:8080/"
        },
        "id": "K1MAzEFc0Dei",
        "outputId": "b11962ea-1996-4626-e0cc-629f54b97017"
      },
      "execution_count": null,
      "outputs": [
        {
          "output_type": "stream",
          "name": "stdout",
          "text": [
            "The Validation time  0.045926570892333984 milli-second\n",
            "Validation Accuracy : 1.0\n"
          ]
        }
      ]
    },
    {
      "cell_type": "code",
      "source": [
        "CM_GB = confusion_matrix(y_validation , y_pred_GB)\n",
        "sns.heatmap(CM_GB , annot=True, fmt='.3g')\n",
        "plt.title('Confusion matrix');\n",
        "plt.xlabel('Predicted');\n",
        "plt.ylabel('Actual');\n",
        "\n",
        "plt.show()"
      ],
      "metadata": {
        "colab": {
          "base_uri": "https://localhost:8080/",
          "height": 295
        },
        "id": "ADKrDtFf0GHB",
        "outputId": "67a6911c-02b0-499e-a8fb-659345326e14"
      },
      "execution_count": null,
      "outputs": [
        {
          "output_type": "display_data",
          "data": {
            "text/plain": [
              "<Figure size 432x288 with 2 Axes>"
            ],
            "image/png": "[encoded data removed]"
          },
          "metadata": {
            "needs_background": "light"
          }
        }
      ]
    },
    {
      "cell_type": "markdown",
      "source": [
        "# `F1 Score , Precision Score , Recall Score For the Gradient Boosting Model `"
      ],
      "metadata": {
        "id": "i5MTWNzE73Op"
      }
    },
    {
      "cell_type": "code",
      "source": [
        "print(\"The F1 Score is :\" , f1_score(y_validation , y_pred_GB , average = \"micro\"))\n",
        "print(\"The Recall score is :\" , recall_score(y_validation , y_pred_GB , average = \"micro\"))\n",
        "print(\"The Precision score is :\" , precision_score(y_validation , y_pred_GB , average = \"micro\"))"
      ],
      "metadata": {
        "colab": {
          "base_uri": "https://localhost:8080/"
        },
        "id": "-mWTnSct7_Lv",
        "outputId": "a81578bb-32b6-4c90-8b7d-a76b80e03114"
      },
      "execution_count": null,
      "outputs": [
        {
          "output_type": "stream",
          "name": "stdout",
          "text": [
            "The F1 Score is : 1.0\n",
            "The Recall score is : 1.0\n",
            "The Precision score is : 1.0\n"
          ]
        }
      ]
    },
    {
      "cell_type": "markdown",
      "source": [
        "# `AdaBoost Classifier `"
      ],
      "metadata": {
        "id": "UsZ1LEJOAPhV"
      }
    },
    {
      "cell_type": "code",
      "source": [
        "# Create adaboost classifer object\n",
        "AdaBoostModel = AdaBoostClassifier(n_estimators=50, learning_rate=1)\n",
        "# Train Adaboost Classifer\n",
        "t_initial = time.time()\n",
        "AdaBoostModel.fit(X_train, y_train)\n",
        "print(\"The Training time \" , time.time() - t_initial , \"milli-second\")"
      ],
      "metadata": {
        "colab": {
          "base_uri": "https://localhost:8080/"
        },
        "id": "YylyzYPYAS9e",
        "outputId": "d559e359-508c-4d24-b311-ebeae51f8f2f"
      },
      "execution_count": null,
      "outputs": [
        {
          "output_type": "stream",
          "name": "stdout",
          "text": [
            "The Training time  0.732534646987915 milli-second\n"
          ]
        }
      ]
    },
    {
      "cell_type": "code",
      "source": [
        "print('AdaBoost Train Score is : ' , AdaBoostModel.score(X_train, y_train))"
      ],
      "metadata": {
        "colab": {
          "base_uri": "https://localhost:8080/"
        },
        "id": "LntMLglGA4IJ",
        "outputId": "5cc4c3df-5cde-4462-ad84-f717567b552a"
      },
      "execution_count": null,
      "outputs": [
        {
          "output_type": "stream",
          "name": "stdout",
          "text": [
            "AdaBoost Train Score is :  1.0\n"
          ]
        }
      ]
    },
    {
      "cell_type": "code",
      "source": [
        "t_initial = time.time()\n",
        "y_pred_AB = AdaBoostModel.predict(X_validation)\n",
        "print(\"The Validation time \" , time.time() - t_initial , \"milli-second\")\n",
        "print(\"Validation Accuracy :\" , accuracy_score(y_validation , y_pred_AB))"
      ],
      "metadata": {
        "colab": {
          "base_uri": "https://localhost:8080/"
        },
        "id": "oArBBzrjA8h2",
        "outputId": "4751323c-20d5-4bb4-a3ad-c8cf0fc290f1"
      },
      "execution_count": null,
      "outputs": [
        {
          "output_type": "stream",
          "name": "stdout",
          "text": [
            "The Validation time  0.042832374572753906 milli-second\n",
            "Validation Accuracy : 1.0\n"
          ]
        }
      ]
    },
    {
      "cell_type": "markdown",
      "source": [
        "# `Confusion Matrix For AdaBoost `"
      ],
      "metadata": {
        "id": "q9mAOirQB8iu"
      }
    },
    {
      "cell_type": "code",
      "source": [
        "CM_AB = confusion_matrix(y_validation , y_pred_AB)\n",
        "sns.heatmap(CM_AB , annot=True, fmt='.3g')\n",
        "plt.title('Confusion matrix');\n",
        "plt.xlabel('Predicted');\n",
        "plt.ylabel('Actual');\n",
        "\n",
        "plt.show()"
      ],
      "metadata": {
        "colab": {
          "base_uri": "https://localhost:8080/",
          "height": 295
        },
        "id": "1lchD6vNBzWW",
        "outputId": "0faac8aa-b27f-498f-ab7a-d2e67b844401"
      },
      "execution_count": null,
      "outputs": [
        {
          "output_type": "display_data",
          "data": {
            "text/plain": [
              "<Figure size 432x288 with 2 Axes>"
            ],
            "image/png": "[encoded data removed]"
          },
          "metadata": {
            "needs_background": "light"
          }
        }
      ]
    },
    {
      "cell_type": "markdown",
      "source": [
        "# `Precision , Recall and F1 Score For Adaptive Boost`"
      ],
      "metadata": {
        "id": "n2Xl0u7iBki4"
      }
    },
    {
      "cell_type": "code",
      "source": [
        "print(\"The F1 Score is :\" , f1_score(y_validation , y_pred_AB , average = \"micro\"))\n",
        "print(\"The Recall score is :\" , recall_score(y_validation , y_pred_AB , average = \"micro\"))\n",
        "print(\"The Precision score is :\" , precision_score(y_validation , y_pred_AB , average = \"micro\"))"
      ],
      "metadata": {
        "colab": {
          "base_uri": "https://localhost:8080/"
        },
        "id": "qFc9zDjgBf8V",
        "outputId": "d205f3b6-0e88-4353-c19a-1d793886a5bc"
      },
      "execution_count": null,
      "outputs": [
        {
          "output_type": "stream",
          "name": "stdout",
          "text": [
            "The F1 Score is : 1.0\n",
            "The Recall score is : 1.0\n",
            "The Precision score is : 1.0\n"
          ]
        }
      ]
    },
    {
      "cell_type": "markdown",
      "source": [
        "# `KNN Classifier`"
      ],
      "metadata": {
        "id": "x7Ocv3amIEZJ"
      }
    },
    {
      "cell_type": "code",
      "source": [
        "from sklearn.neighbors import KNeighborsClassifier\n",
        "KNNModel = KNeighborsClassifier(n_neighbors=1)\n",
        "t_initial = time.time()\n",
        "KNNModel.fit(X_train,y_train)\n",
        "print(\"The Training time \" , time.time() - t_initial , \"milli-second\")"
      ],
      "metadata": {
        "colab": {
          "base_uri": "https://localhost:8080/"
        },
        "id": "aH9Z8YOXGwBc",
        "outputId": "d20db1b9-21a1-455f-c08c-3ad1558a43fb"
      },
      "execution_count": null,
      "outputs": [
        {
          "output_type": "stream",
          "name": "stdout",
          "text": [
            "The Training time  0.02554488182067871 milli-second\n"
          ]
        }
      ]
    },
    {
      "cell_type": "code",
      "source": [
        "print('KNN Train Score is : ' , KNNModel.score(X_train, y_train))"
      ],
      "metadata": {
        "colab": {
          "base_uri": "https://localhost:8080/"
        },
        "id": "Qsm1Ro7sG1D3",
        "outputId": "72c3ffe6-659b-4ca6-d6be-6f53ebc3a95b"
      },
      "execution_count": null,
      "outputs": [
        {
          "output_type": "stream",
          "name": "stdout",
          "text": [
            "KNN Train Score is :  1.0\n"
          ]
        }
      ]
    },
    {
      "cell_type": "code",
      "source": [
        "t_initial = time.time()\n",
        "y_pred_KNN = KNNModel.predict(X_validation)\n",
        "print(\"The Validation time \" , time.time() - t_initial , \"milli-second\")\n",
        "print(\"Validation Accuracy :\" , accuracy_score(y_validation , y_pred_KNN))"
      ],
      "metadata": {
        "colab": {
          "base_uri": "https://localhost:8080/"
        },
        "id": "VI-xRO01G7LO",
        "outputId": "1c6e9e9c-cd71-4208-bb14-305b3db96527"
      },
      "execution_count": null,
      "outputs": [
        {
          "output_type": "stream",
          "name": "stdout",
          "text": [
            "The Validation time  0.19300055503845215 milli-second\n",
            "Validation Accuracy : 1.0\n"
          ]
        }
      ]
    },
    {
      "cell_type": "markdown",
      "source": [
        "# `Confusion Matrix For KNN `"
      ],
      "metadata": {
        "id": "tVU83-hXIKTo"
      }
    },
    {
      "cell_type": "code",
      "source": [
        "CM_KNN = confusion_matrix(y_validation , y_pred_KNN)\n",
        "sns.heatmap(CM_KNN , annot=True, fmt='.3g')\n",
        "plt.title('Confusion matrix');\n",
        "plt.xlabel('Predicted');\n",
        "plt.ylabel('Actual');\n",
        "\n",
        "plt.show()"
      ],
      "metadata": {
        "colab": {
          "base_uri": "https://localhost:8080/",
          "height": 295
        },
        "id": "orfkQYZtIUTR",
        "outputId": "300c37bd-9456-40e2-8bcf-8f75e86ae188"
      },
      "execution_count": null,
      "outputs": [
        {
          "output_type": "display_data",
          "data": {
            "text/plain": [
              "<Figure size 432x288 with 2 Axes>"
            ],
            "image/png": "[encoded data removed]"
          },
          "metadata": {
            "needs_background": "light"
          }
        }
      ]
    },
    {
      "cell_type": "markdown",
      "source": [
        "# `Precision , Recall and F1 Score `"
      ],
      "metadata": {
        "id": "G5RRq_QkIlyL"
      }
    },
    {
      "cell_type": "code",
      "source": [
        "print(\"The F1 Score is :\" , f1_score(y_validation , y_pred_KNN , average = \"micro\"))\n",
        "print(\"The Recall score is :\" , recall_score(y_validation , y_pred_KNN , average = \"micro\"))\n",
        "print(\"The Precision score is :\" , precision_score(y_validation , y_pred_KNN , average = \"micro\"))"
      ],
      "metadata": {
        "colab": {
          "base_uri": "https://localhost:8080/"
        },
        "id": "8e93TXrGIYwT",
        "outputId": "482540ae-90a7-468c-c1a3-a70bec42e947"
      },
      "execution_count": null,
      "outputs": [
        {
          "output_type": "stream",
          "name": "stdout",
          "text": [
            "The F1 Score is : 1.0\n",
            "The Recall score is : 1.0\n",
            "The Precision score is : 1.0\n"
          ]
        }
      ]
    },
    {
      "cell_type": "markdown",
      "source": [
        "# `Ensemble Methods Voting Classifier `"
      ],
      "metadata": {
        "id": "Q_oUpx4Yv9J6"
      }
    },
    {
      "cell_type": "code",
      "source": [
        "VotingClassifierModel = VotingClassifier(estimators=[('LRModel', LogisticRegressionModel),\n",
        "                                                     ('GBCModel',GBCModel),\n",
        "                                                     ('RFCModel',RandomForestClassifierModel),\n",
        "                                                     ('TDCModel',DecisionTreeClassifierModel),\n",
        "                                                     ('ADBModel' , AdaBoostModel),\n",
        "                                                     ('KNNModel' , KNNModel) ,\n",
        "                                                    ],\n",
        "                                         voting='hard')"
      ],
      "metadata": {
        "id": "0WKvVhW0wJIP"
      },
      "execution_count": null,
      "outputs": []
    },
    {
      "cell_type": "code",
      "source": [
        "t_initial = time.time()\n",
        "VotingClassifierModel.fit(X_train, y_train)\n",
        "print(\"The Training time \" , time.time() - t_initial , \"milli-second\")\n",
        "print('VotingClassifierModel Train Score is : ' , VotingClassifierModel.score(X_train, y_train))"
      ],
      "metadata": {
        "colab": {
          "base_uri": "https://localhost:8080/"
        },
        "id": "aNbJ0tuywRUr",
        "outputId": "d1238415-2919-4353-a2de-04b3f2c528fd"
      },
      "execution_count": null,
      "outputs": [
        {
          "output_type": "stream",
          "name": "stdout",
          "text": [
            "The Training time  19.853009939193726 milli-second\n",
            "VotingClassifierModel Train Score is :  1.0\n"
          ]
        }
      ]
    },
    {
      "cell_type": "code",
      "source": [
        "t_initial = time.time()\n",
        "y_pred_VT = VotingClassifierModel.predict(X_validation)\n",
        "print(\"The Validation time \" , time.time() - t_initial , \"milli-second\")\n",
        "print('Testing Accuracy :' , accuracy_score(y_validation, y_pred_VT))"
      ],
      "metadata": {
        "colab": {
          "base_uri": "https://localhost:8080/"
        },
        "id": "7hGM5eTkwVMA",
        "outputId": "530b9c43-812a-4b6b-977b-bc8a71205303"
      },
      "execution_count": null,
      "outputs": [
        {
          "output_type": "stream",
          "name": "stdout",
          "text": [
            "The Validation time  0.44545435905456543 milli-second\n",
            "Testing Accuracy : 1.0\n"
          ]
        }
      ]
    },
    {
      "cell_type": "markdown",
      "source": [
        "# `Choosing The Best Model `"
      ],
      "metadata": {
        "id": "I2Nnd7zROWn1"
      }
    },
    {
      "cell_type": "code",
      "source": [
        "# we chose random forest as our model\n",
        "import time\n",
        "RandomForestClassifierModel = RandomForestClassifier(criterion = 'entropy', max_depth=14, n_estimators=100, random_state=44)\n",
        "t_initial = time.time()\n",
        "RandomForestClassifierModel.fit(X_train, y_train)\n",
        "print(\"The training time \" , time.time() - t_initial , \"milli-second\")"
      ],
      "metadata": {
        "colab": {
          "base_uri": "https://localhost:8080/"
        },
        "id": "oxFVGzCa3zvT",
        "outputId": "a0cabcc1-d204-452d-84f9-1bd5b590d2e4"
      },
      "execution_count": null,
      "outputs": [
        {
          "output_type": "stream",
          "name": "stdout",
          "text": [
            "The training time  2.715005874633789 milli-second\n"
          ]
        }
      ]
    },
    {
      "cell_type": "code",
      "source": [
        "print('RandomForestClassifierModel Train Score is : ' , RandomForestClassifierModel.score(X_train, y_train))"
      ],
      "metadata": {
        "colab": {
          "base_uri": "https://localhost:8080/"
        },
        "id": "IiZ-BM1COnt0",
        "outputId": "ea001273-92b5-484a-b357-d082e57a45c1"
      },
      "execution_count": null,
      "outputs": [
        {
          "output_type": "stream",
          "name": "stdout",
          "text": [
            "RandomForestClassifierModel Train Score is :  1.0\n"
          ]
        }
      ]
    },
    {
      "cell_type": "code",
      "source": [
        "t_initial = time.time()\n",
        "y_pred_RF = RandomForestClassifierModel.predict(X_validation)\n",
        "print(\"Validation Accuracy\" ,accuracy_score(y_validation , y_pred_RF))\n",
        "print(\"The validating time \" , time.time() - t_initial , \"milli-second\")"
      ],
      "metadata": {
        "colab": {
          "base_uri": "https://localhost:8080/"
        },
        "id": "mGTsM5f1OsGx",
        "outputId": "73fb7f08-7287-4f52-e068-9f341c871352"
      },
      "execution_count": null,
      "outputs": [
        {
          "output_type": "stream",
          "name": "stdout",
          "text": [
            "Validation Accuracy 1.0\n",
            "The validating time  0.05869936943054199 milli-second\n"
          ]
        }
      ]
    },
    {
      "cell_type": "code",
      "source": [
        "CM_RF = confusion_matrix(y_validation , y_pred_RF)\n",
        "sns.heatmap(CM_RF , annot=True, fmt='.3g')\n",
        "plt.title('Confusion matrix');\n",
        "plt.xlabel('Predicted');\n",
        "plt.ylabel('Actual');\n",
        "\n",
        "plt.show()"
      ],
      "metadata": {
        "colab": {
          "base_uri": "https://localhost:8080/",
          "height": 295
        },
        "id": "cyUC3HXdOyqx",
        "outputId": "70556eb3-6c8f-450b-f211-f249d9809ead"
      },
      "execution_count": null,
      "outputs": [
        {
          "output_type": "display_data",
          "data": {
            "text/plain": [
              "<Figure size 432x288 with 2 Axes>"
            ],
            "image/png": "[encoded data removed]"
          },
          "metadata": {
            "needs_background": "light"
          }
        }
      ]
    },
    {
      "cell_type": "code",
      "source": [
        "print(\"The F1 Score is :\" , f1_score(y_validation , y_pred_RF , average = \"micro\"))\n",
        "print(\"The Recall score is :\" , recall_score(y_validation , y_pred_RF , average = \"micro\"))\n",
        "print(\"The Precision score is :\" , precision_score(y_validation , y_pred_RF , average = \"micro\"))"
      ],
      "metadata": {
        "colab": {
          "base_uri": "https://localhost:8080/"
        },
        "id": "NCbcl4jKO3KQ",
        "outputId": "7ccc4854-de13-4702-9a3a-c79d4b712069"
      },
      "execution_count": null,
      "outputs": [
        {
          "output_type": "stream",
          "name": "stdout",
          "text": [
            "The F1 Score is : 1.0\n",
            "The Recall score is : 1.0\n",
            "The Precision score is : 1.0\n"
          ]
        }
      ]
    },
    {
      "cell_type": "markdown",
      "source": [
        "# `Saving The Model`"
      ],
      "metadata": {
        "id": "dRQMkVGnTeSP"
      }
    },
    {
      "cell_type": "code",
      "source": [
        "import pickle\n",
        "data = {\"model\":RandomForestClassifierModel}\n",
        "with open(\"Saved_Model.pkl\" , \"wb\") as file:\n",
        "  pickle.dump(data , file)"
      ],
      "metadata": {
        "id": "FSaUT2T7QVaC"
      },
      "execution_count": null,
      "outputs": []
    },
    {
      "cell_type": "markdown",
      "source": [
        "# `To load the model `"
      ],
      "metadata": {
        "id": "jBU3s3fJT7pc"
      }
    },
    {
      "cell_type": "code",
      "source": [
        "with open(\"Saved_Model.pkl\" , \"rb\") as file:\n",
        "  data = pickle.load(file)\n",
        "random_forest = data[\"model\"]"
      ],
      "metadata": {
        "id": "onuW21xlT9Sy"
      },
      "execution_count": null,
      "outputs": []
    },
    {
      "cell_type": "code",
      "source": [
        "print('RandomForestClassifierModel Train Score is : ' , random_forest.score(X_train, y_train))"
      ],
      "metadata": {
        "colab": {
          "base_uri": "https://localhost:8080/"
        },
        "id": "f55ob2T-UdLp",
        "outputId": "f9c2dccb-ca2f-4ce7-f18a-4a4489a1337b"
      },
      "execution_count": null,
      "outputs": [
        {
          "output_type": "stream",
          "name": "stdout",
          "text": [
            "RandomForestClassifierModel Train Score is :  1.0\n"
          ]
        }
      ]
    },
    {
      "cell_type": "code",
      "source": [
        "y_pred_RF = random_forest.predict(X_validation)\n",
        "print(\"Validation Accuracy\" ,accuracy_score(y_validation , y_pred_RF))"
      ],
      "metadata": {
        "colab": {
          "base_uri": "https://localhost:8080/"
        },
        "id": "dCIL19phUgGT",
        "outputId": "618fadad-aa3d-4e97-9b76-230e66270915"
      },
      "execution_count": null,
      "outputs": [
        {
          "output_type": "stream",
          "name": "stdout",
          "text": [
            "Validation Accuracy 1.0\n"
          ]
        }
      ]
    },
    {
      "cell_type": "code",
      "source": [
        "print(\"The F1 Score is :\" , f1_score(y_validation , y_pred_RF , average = \"micro\"))\n",
        "print(\"The Recall score is :\" , recall_score(y_validation , y_pred_RF , average = \"micro\"))\n",
        "print(\"The Precision score is :\" , precision_score(y_validation , y_pred_RF , average = \"micro\"))"
      ],
      "metadata": {
        "colab": {
          "base_uri": "https://localhost:8080/"
        },
        "id": "coLEdAORMY4L",
        "outputId": "0763263a-d303-4d9c-e193-a58885e1e376"
      },
      "execution_count": null,
      "outputs": [
        {
          "output_type": "stream",
          "name": "stdout",
          "text": [
            "The F1 Score is : 1.0\n",
            "The Recall score is : 1.0\n",
            "The Precision score is : 1.0\n"
          ]
        }
      ]
    },
    {
      "cell_type": "code",
      "source": [
        "CM_RF = confusion_matrix(y_validation , y_pred_RF)\n",
        "sns.heatmap(CM_RF , annot=True, fmt='.3g')\n",
        "plt.title('Confusion matrix');\n",
        "plt.xlabel('Predicted');\n",
        "plt.ylabel('Actual');\n",
        "\n",
        "plt.show()"
      ],
      "metadata": {
        "colab": {
          "base_uri": "https://localhost:8080/",
          "height": 295
        },
        "id": "VwOYQMjVUjVD",
        "outputId": "780a442d-3152-49ad-f01a-b6185a87212f"
      },
      "execution_count": null,
      "outputs": [
        {
          "output_type": "display_data",
          "data": {
            "text/plain": [
              "<Figure size 432x288 with 2 Axes>"
            ],
            "image/png": "[encoded data removed]"
          },
          "metadata": {
            "needs_background": "light"
          }
        }
      ]
    },
    {
      "cell_type": "code",
      "source": [
        "print(\"The F1 Score is :\" , f1_score(y_validation , y_pred_RF , average = \"micro\"))\n",
        "print(\"The Recall score is :\" , recall_score(y_validation , y_pred_RF , average = \"micro\"))\n",
        "print(\"The Precision score is :\" , precision_score(y_validation , y_pred_RF , average = \"micro\"))"
      ],
      "metadata": {
        "colab": {
          "base_uri": "https://localhost:8080/"
        },
        "id": "jwsktB4MUl3n",
        "outputId": "1dd47697-bd38-4e73-af55-786ad5019e2e"
      },
      "execution_count": null,
      "outputs": [
        {
          "output_type": "stream",
          "name": "stdout",
          "text": [
            "The F1 Score is : 1.0\n",
            "The Recall score is : 1.0\n",
            "The Precision score is : 1.0\n"
          ]
        }
      ]
    },
    {
      "cell_type": "markdown",
      "source": [
        "# `Testing Dataset `"
      ],
      "metadata": {
        "id": "QJbBw55ZLSxa"
      }
    },
    {
      "cell_type": "code",
      "source": [
        "import os\n",
        "data_dir = '/content/drive/MyDrive/testSetFinal.csv'"
      ],
      "metadata": {
        "id": "NjWkKSNSh1aN"
      },
      "execution_count": null,
      "outputs": []
    },
    {
      "cell_type": "code",
      "source": [
        "# # read the csv file using pandas\n",
        "import pandas as pd\n",
        "data_frame = pd.read_csv(data_dir)"
      ],
      "metadata": {
        "id": "8jI6yo1GLiq2"
      },
      "execution_count": null,
      "outputs": []
    },
    {
      "cell_type": "code",
      "source": [],
      "metadata": {
        "id": "pyYjMyeJNnQK"
      },
      "execution_count": null,
      "outputs": []
    },
    {
      "cell_type": "code",
      "source": [
        "# dropping these will actually increases the accuracy\n",
        "# dropping these will actually increases the accuracy\n",
        "data_frame = data_frame.drop([\"type_current_vac\" , \"current_preg_vac\" , \"current_anc\" , \"freq_tt_vac\" , \"other_place\"] , axis = 1)"
      ],
      "metadata": {
        "id": "irrwF_NpLyDS"
      },
      "execution_count": null,
      "outputs": []
    },
    {
      "cell_type": "code",
      "source": [
        "# # replace some of the features with their mean values\n",
        "data_frame =  data_frame.replace(999 , data_frame[\"anc_freq\"].mean())\n",
        "data_frame =  data_frame.replace(999 ,  data_frame[\"duration_pregnancy\"].mean())\n",
        "data_frame =  data_frame.replace(999 ,  data_frame[\"preg_total\"].mean())\n",
        "data_frame =  data_frame.replace(999 ,  X_test[\"prev_outcome\"].mean())"
      ],
      "metadata": {
        "id": "n09JoOixL4Da"
      },
      "execution_count": null,
      "outputs": []
    },
    {
      "cell_type": "code",
      "source": [
        "X = data_frame.drop(columns = [\"type\"])\n",
        "y = data_frame[\"type\"]"
      ],
      "metadata": {
        "id": "AbrXMcSlFi7S"
      },
      "execution_count": null,
      "outputs": []
    },
    {
      "cell_type": "markdown",
      "source": [],
      "metadata": {
        "id": "Vsv2_JZ7UJ9a"
      }
    },
    {
      "cell_type": "code",
      "source": [
        "y_pred_RF = RandomForestClassifierModel.predict(X)\n",
        "print(\"Validation Accuracy\" ,accuracy_score(y , y_pred_RF))"
      ],
      "metadata": {
        "colab": {
          "base_uri": "https://localhost:8080/",
          "height": 383
        },
        "id": "TlIoCCDyChID",
        "outputId": "028cc43f-62fc-4c83-bfec-fd786ae63ebc"
      },
      "execution_count": null,
      "outputs": [
        {
          "output_type": "stream",
          "name": "stderr",
          "text": [
            "/usr/local/lib/python3.8/dist-packages/sklearn/base.py:443: UserWarning: X has feature names, but RandomForestClassifier was fitted without feature names\n",
            "  warnings.warn(\n"
          ]
        },
        {
          "output_type": "error",
          "ename": "ValueError",
          "evalue": "ignored",
          "traceback": [
            "\u001b[0;31m---------------------------------------------------------------------------\u001b[0m",
            "\u001b[0;31mValueError\u001b[0m                                Traceback (most recent call last)",
            "\u001b[0;32m<ipython-input-107-8bbb5c1f523b>\u001b[0m in \u001b[0;36m<module>\u001b[0;34m\u001b[0m\n\u001b[0;32m----> 1\u001b[0;31m \u001b[0my_pred_RF\u001b[0m \u001b[0;34m=\u001b[0m \u001b[0mRandomForestClassifierModel\u001b[0m\u001b[0;34m.\u001b[0m\u001b[0mpredict\u001b[0m\u001b[0;34m(\u001b[0m\u001b[0mX\u001b[0m\u001b[0;34m)\u001b[0m\u001b[0;34m\u001b[0m\u001b[0;34m\u001b[0m\u001b[0m\n\u001b[0m\u001b[1;32m      2\u001b[0m \u001b[0mprint\u001b[0m\u001b[0;34m(\u001b[0m\u001b[0;34m\"Validation Accuracy\"\u001b[0m \u001b[0;34m,\u001b[0m\u001b[0maccuracy_score\u001b[0m\u001b[0;34m(\u001b[0m\u001b[0my\u001b[0m \u001b[0;34m,\u001b[0m \u001b[0my_pred_RF\u001b[0m\u001b[0;34m)\u001b[0m\u001b[0;34m)\u001b[0m\u001b[0;34m\u001b[0m\u001b[0;34m\u001b[0m\u001b[0m\n",
            "\u001b[0;32m/usr/local/lib/python3.8/dist-packages/sklearn/ensemble/_forest.py\u001b[0m in \u001b[0;36mpredict\u001b[0;34m(self, X)\u001b[0m\n\u001b[1;32m    806\u001b[0m             \u001b[0mThe\u001b[0m \u001b[0mpredicted\u001b[0m \u001b[0mclasses\u001b[0m\u001b[0;34m.\u001b[0m\u001b[0;34m\u001b[0m\u001b[0;34m\u001b[0m\u001b[0m\n\u001b[1;32m    807\u001b[0m         \"\"\"\n\u001b[0;32m--> 808\u001b[0;31m         \u001b[0mproba\u001b[0m \u001b[0;34m=\u001b[0m \u001b[0mself\u001b[0m\u001b[0;34m.\u001b[0m\u001b[0mpredict_proba\u001b[0m\u001b[0;34m(\u001b[0m\u001b[0mX\u001b[0m\u001b[0;34m)\u001b[0m\u001b[0;34m\u001b[0m\u001b[0;34m\u001b[0m\u001b[0m\n\u001b[0m\u001b[1;32m    809\u001b[0m \u001b[0;34m\u001b[0m\u001b[0m\n\u001b[1;32m    810\u001b[0m         \u001b[0;32mif\u001b[0m \u001b[0mself\u001b[0m\u001b[0;34m.\u001b[0m\u001b[0mn_outputs_\u001b[0m \u001b[0;34m==\u001b[0m \u001b[0;36m1\u001b[0m\u001b[0;34m:\u001b[0m\u001b[0;34m\u001b[0m\u001b[0;34m\u001b[0m\u001b[0m\n",
            "\u001b[0;32m/usr/local/lib/python3.8/dist-packages/sklearn/ensemble/_forest.py\u001b[0m in \u001b[0;36mpredict_proba\u001b[0;34m(self, X)\u001b[0m\n\u001b[1;32m    848\u001b[0m         \u001b[0mcheck_is_fitted\u001b[0m\u001b[0;34m(\u001b[0m\u001b[0mself\u001b[0m\u001b[0;34m)\u001b[0m\u001b[0;34m\u001b[0m\u001b[0;34m\u001b[0m\u001b[0m\n\u001b[1;32m    849\u001b[0m         \u001b[0;31m# Check data\u001b[0m\u001b[0;34m\u001b[0m\u001b[0;34m\u001b[0m\u001b[0;34m\u001b[0m\u001b[0m\n\u001b[0;32m--> 850\u001b[0;31m         \u001b[0mX\u001b[0m \u001b[0;34m=\u001b[0m \u001b[0mself\u001b[0m\u001b[0;34m.\u001b[0m\u001b[0m_validate_X_predict\u001b[0m\u001b[0;34m(\u001b[0m\u001b[0mX\u001b[0m\u001b[0;34m)\u001b[0m\u001b[0;34m\u001b[0m\u001b[0;34m\u001b[0m\u001b[0m\n\u001b[0m\u001b[1;32m    851\u001b[0m \u001b[0;34m\u001b[0m\u001b[0m\n\u001b[1;32m    852\u001b[0m         \u001b[0;31m# Assign chunk of trees to jobs\u001b[0m\u001b[0;34m\u001b[0m\u001b[0;34m\u001b[0m\u001b[0;34m\u001b[0m\u001b[0m\n",
            "\u001b[0;32m/usr/local/lib/python3.8/dist-packages/sklearn/ensemble/_forest.py\u001b[0m in \u001b[0;36m_validate_X_predict\u001b[0;34m(self, X)\u001b[0m\n\u001b[1;32m    577\u001b[0m         Validate X whenever one tries to predict, apply, predict_proba.\"\"\"\n\u001b[1;32m    578\u001b[0m         \u001b[0mcheck_is_fitted\u001b[0m\u001b[0;34m(\u001b[0m\u001b[0mself\u001b[0m\u001b[0;34m)\u001b[0m\u001b[0;34m\u001b[0m\u001b[0;34m\u001b[0m\u001b[0m\n\u001b[0;32m--> 579\u001b[0;31m         \u001b[0mX\u001b[0m \u001b[0;34m=\u001b[0m \u001b[0mself\u001b[0m\u001b[0;34m.\u001b[0m\u001b[0m_validate_data\u001b[0m\u001b[0;34m(\u001b[0m\u001b[0mX\u001b[0m\u001b[0;34m,\u001b[0m \u001b[0mdtype\u001b[0m\u001b[0;34m=\u001b[0m\u001b[0mDTYPE\u001b[0m\u001b[0;34m,\u001b[0m \u001b[0maccept_sparse\u001b[0m\u001b[0;34m=\u001b[0m\u001b[0;34m\"csr\"\u001b[0m\u001b[0;34m,\u001b[0m \u001b[0mreset\u001b[0m\u001b[0;34m=\u001b[0m\u001b[0;32mFalse\u001b[0m\u001b[0;34m)\u001b[0m\u001b[0;34m\u001b[0m\u001b[0;34m\u001b[0m\u001b[0m\n\u001b[0m\u001b[1;32m    580\u001b[0m         \u001b[0;32mif\u001b[0m \u001b[0missparse\u001b[0m\u001b[0;34m(\u001b[0m\u001b[0mX\u001b[0m\u001b[0;34m)\u001b[0m \u001b[0;32mand\u001b[0m \u001b[0;34m(\u001b[0m\u001b[0mX\u001b[0m\u001b[0;34m.\u001b[0m\u001b[0mindices\u001b[0m\u001b[0;34m.\u001b[0m\u001b[0mdtype\u001b[0m \u001b[0;34m!=\u001b[0m \u001b[0mnp\u001b[0m\u001b[0;34m.\u001b[0m\u001b[0mintc\u001b[0m \u001b[0;32mor\u001b[0m \u001b[0mX\u001b[0m\u001b[0;34m.\u001b[0m\u001b[0mindptr\u001b[0m\u001b[0;34m.\u001b[0m\u001b[0mdtype\u001b[0m \u001b[0;34m!=\u001b[0m \u001b[0mnp\u001b[0m\u001b[0;34m.\u001b[0m\u001b[0mintc\u001b[0m\u001b[0;34m)\u001b[0m\u001b[0;34m:\u001b[0m\u001b[0;34m\u001b[0m\u001b[0;34m\u001b[0m\u001b[0m\n\u001b[1;32m    581\u001b[0m             \u001b[0;32mraise\u001b[0m \u001b[0mValueError\u001b[0m\u001b[0;34m(\u001b[0m\u001b[0;34m\"No support for np.int64 index based sparse matrices\"\u001b[0m\u001b[0;34m)\u001b[0m\u001b[0;34m\u001b[0m\u001b[0;34m\u001b[0m\u001b[0m\n",
            "\u001b[0;32m/usr/local/lib/python3.8/dist-packages/sklearn/base.py\u001b[0m in \u001b[0;36m_validate_data\u001b[0;34m(self, X, y, reset, validate_separately, **check_params)\u001b[0m\n\u001b[1;32m    583\u001b[0m \u001b[0;34m\u001b[0m\u001b[0m\n\u001b[1;32m    584\u001b[0m         \u001b[0;32mif\u001b[0m \u001b[0;32mnot\u001b[0m \u001b[0mno_val_X\u001b[0m \u001b[0;32mand\u001b[0m \u001b[0mcheck_params\u001b[0m\u001b[0;34m.\u001b[0m\u001b[0mget\u001b[0m\u001b[0;34m(\u001b[0m\u001b[0;34m\"ensure_2d\"\u001b[0m\u001b[0;34m,\u001b[0m \u001b[0;32mTrue\u001b[0m\u001b[0;34m)\u001b[0m\u001b[0;34m:\u001b[0m\u001b[0;34m\u001b[0m\u001b[0;34m\u001b[0m\u001b[0m\n\u001b[0;32m--> 585\u001b[0;31m             \u001b[0mself\u001b[0m\u001b[0;34m.\u001b[0m\u001b[0m_check_n_features\u001b[0m\u001b[0;34m(\u001b[0m\u001b[0mX\u001b[0m\u001b[0;34m,\u001b[0m \u001b[0mreset\u001b[0m\u001b[0;34m=\u001b[0m\u001b[0mreset\u001b[0m\u001b[0;34m)\u001b[0m\u001b[0;34m\u001b[0m\u001b[0;34m\u001b[0m\u001b[0m\n\u001b[0m\u001b[1;32m    586\u001b[0m \u001b[0;34m\u001b[0m\u001b[0m\n\u001b[1;32m    587\u001b[0m         \u001b[0;32mreturn\u001b[0m \u001b[0mout\u001b[0m\u001b[0;34m\u001b[0m\u001b[0;34m\u001b[0m\u001b[0m\n",
            "\u001b[0;32m/usr/local/lib/python3.8/dist-packages/sklearn/base.py\u001b[0m in \u001b[0;36m_check_n_features\u001b[0;34m(self, X, reset)\u001b[0m\n\u001b[1;32m    398\u001b[0m \u001b[0;34m\u001b[0m\u001b[0m\n\u001b[1;32m    399\u001b[0m         \u001b[0;32mif\u001b[0m \u001b[0mn_features\u001b[0m \u001b[0;34m!=\u001b[0m \u001b[0mself\u001b[0m\u001b[0;34m.\u001b[0m\u001b[0mn_features_in_\u001b[0m\u001b[0;34m:\u001b[0m\u001b[0;34m\u001b[0m\u001b[0;34m\u001b[0m\u001b[0m\n\u001b[0;32m--> 400\u001b[0;31m             raise ValueError(\n\u001b[0m\u001b[1;32m    401\u001b[0m                 \u001b[0;34mf\"X has {n_features} features, but {self.__class__.__name__} \"\u001b[0m\u001b[0;34m\u001b[0m\u001b[0;34m\u001b[0m\u001b[0m\n\u001b[1;32m    402\u001b[0m                 \u001b[0;34mf\"is expecting {self.n_features_in_} features as input.\"\u001b[0m\u001b[0;34m\u001b[0m\u001b[0;34m\u001b[0m\u001b[0m\n",
            "\u001b[0;31mValueError\u001b[0m: X has 23 features, but RandomForestClassifier is expecting 3 features as input."
          ]
        }
      ]
    },
    {
      "cell_type": "code",
      "source": [
        "print(\"The F1 Score is :\" , f1_score(y_test , y_pred_RF , average = \"micro\"))\n",
        "print(\"The Recall score is :\" , recall_score(y_test , y_pred_RF , average = \"micro\"))\n",
        "print(\"The Precision score is :\" , precision_score(y_test , y_pred_RF , average = \"micro\"))"
      ],
      "metadata": {
        "id": "xOrKEsmLOPKa",
        "colab": {
          "base_uri": "https://localhost:8080/",
          "height": 345
        },
        "outputId": "593b282e-530d-4396-bb95-5ffdfbdb80fe"
      },
      "execution_count": null,
      "outputs": [
        {
          "output_type": "error",
          "ename": "ValueError",
          "evalue": "ignored",
          "traceback": [
            "\u001b[0;31m---------------------------------------------------------------------------\u001b[0m",
            "\u001b[0;31mValueError\u001b[0m                                Traceback (most recent call last)",
            "\u001b[0;32m<ipython-input-98-f5c98418cd76>\u001b[0m in \u001b[0;36m<module>\u001b[0;34m\u001b[0m\n\u001b[0;32m----> 1\u001b[0;31m \u001b[0mprint\u001b[0m\u001b[0;34m(\u001b[0m\u001b[0;34m\"The F1 Score is :\"\u001b[0m \u001b[0;34m,\u001b[0m \u001b[0mf1_score\u001b[0m\u001b[0;34m(\u001b[0m\u001b[0my_test\u001b[0m \u001b[0;34m,\u001b[0m \u001b[0my_pred_RF\u001b[0m \u001b[0;34m,\u001b[0m \u001b[0maverage\u001b[0m \u001b[0;34m=\u001b[0m \u001b[0;34m\"micro\"\u001b[0m\u001b[0;34m)\u001b[0m\u001b[0;34m)\u001b[0m\u001b[0;34m\u001b[0m\u001b[0;34m\u001b[0m\u001b[0m\n\u001b[0m\u001b[1;32m      2\u001b[0m \u001b[0mprint\u001b[0m\u001b[0;34m(\u001b[0m\u001b[0;34m\"The Recall score is :\"\u001b[0m \u001b[0;34m,\u001b[0m \u001b[0mrecall_score\u001b[0m\u001b[0;34m(\u001b[0m\u001b[0my_test\u001b[0m \u001b[0;34m,\u001b[0m \u001b[0my_pred_RF\u001b[0m \u001b[0;34m,\u001b[0m \u001b[0maverage\u001b[0m \u001b[0;34m=\u001b[0m \u001b[0;34m\"micro\"\u001b[0m\u001b[0;34m)\u001b[0m\u001b[0;34m)\u001b[0m\u001b[0;34m\u001b[0m\u001b[0;34m\u001b[0m\u001b[0m\n\u001b[1;32m      3\u001b[0m \u001b[0mprint\u001b[0m\u001b[0;34m(\u001b[0m\u001b[0;34m\"The Precision score is :\"\u001b[0m \u001b[0;34m,\u001b[0m \u001b[0mprecision_score\u001b[0m\u001b[0;34m(\u001b[0m\u001b[0my_test\u001b[0m \u001b[0;34m,\u001b[0m \u001b[0my_pred_RF\u001b[0m \u001b[0;34m,\u001b[0m \u001b[0maverage\u001b[0m \u001b[0;34m=\u001b[0m \u001b[0;34m\"micro\"\u001b[0m\u001b[0;34m)\u001b[0m\u001b[0;34m)\u001b[0m\u001b[0;34m\u001b[0m\u001b[0;34m\u001b[0m\u001b[0m\n",
            "\u001b[0;32m/usr/local/lib/python3.8/dist-packages/sklearn/metrics/_classification.py\u001b[0m in \u001b[0;36mf1_score\u001b[0;34m(y_true, y_pred, labels, pos_label, average, sample_weight, zero_division)\u001b[0m\n\u001b[1;32m   1121\u001b[0m     \u001b[0mmodified\u001b[0m \u001b[0;32mwith\u001b[0m\u001b[0;31m \u001b[0m\u001b[0;31m`\u001b[0m\u001b[0;31m`\u001b[0m\u001b[0mzero_division\u001b[0m\u001b[0;31m`\u001b[0m\u001b[0;31m`\u001b[0m\u001b[0;34m.\u001b[0m\u001b[0;34m\u001b[0m\u001b[0;34m\u001b[0m\u001b[0m\n\u001b[1;32m   1122\u001b[0m     \"\"\"\n\u001b[0;32m-> 1123\u001b[0;31m     return fbeta_score(\n\u001b[0m\u001b[1;32m   1124\u001b[0m         \u001b[0my_true\u001b[0m\u001b[0;34m,\u001b[0m\u001b[0;34m\u001b[0m\u001b[0;34m\u001b[0m\u001b[0m\n\u001b[1;32m   1125\u001b[0m         \u001b[0my_pred\u001b[0m\u001b[0;34m,\u001b[0m\u001b[0;34m\u001b[0m\u001b[0;34m\u001b[0m\u001b[0m\n",
            "\u001b[0;32m/usr/local/lib/python3.8/dist-packages/sklearn/metrics/_classification.py\u001b[0m in \u001b[0;36mfbeta_score\u001b[0;34m(y_true, y_pred, beta, labels, pos_label, average, sample_weight, zero_division)\u001b[0m\n\u001b[1;32m   1259\u001b[0m     \"\"\"\n\u001b[1;32m   1260\u001b[0m \u001b[0;34m\u001b[0m\u001b[0m\n\u001b[0;32m-> 1261\u001b[0;31m     _, _, f, _ = precision_recall_fscore_support(\n\u001b[0m\u001b[1;32m   1262\u001b[0m         \u001b[0my_true\u001b[0m\u001b[0;34m,\u001b[0m\u001b[0;34m\u001b[0m\u001b[0;34m\u001b[0m\u001b[0m\n\u001b[1;32m   1263\u001b[0m         \u001b[0my_pred\u001b[0m\u001b[0;34m,\u001b[0m\u001b[0;34m\u001b[0m\u001b[0;34m\u001b[0m\u001b[0m\n",
            "\u001b[0;32m/usr/local/lib/python3.8/dist-packages/sklearn/metrics/_classification.py\u001b[0m in \u001b[0;36mprecision_recall_fscore_support\u001b[0;34m(y_true, y_pred, beta, labels, pos_label, average, warn_for, sample_weight, zero_division)\u001b[0m\n\u001b[1;32m   1542\u001b[0m     \u001b[0;32mif\u001b[0m \u001b[0mbeta\u001b[0m \u001b[0;34m<\u001b[0m \u001b[0;36m0\u001b[0m\u001b[0;34m:\u001b[0m\u001b[0;34m\u001b[0m\u001b[0;34m\u001b[0m\u001b[0m\n\u001b[1;32m   1543\u001b[0m         \u001b[0;32mraise\u001b[0m \u001b[0mValueError\u001b[0m\u001b[0;34m(\u001b[0m\u001b[0;34m\"beta should be >=0 in the F-beta score\"\u001b[0m\u001b[0;34m)\u001b[0m\u001b[0;34m\u001b[0m\u001b[0;34m\u001b[0m\u001b[0m\n\u001b[0;32m-> 1544\u001b[0;31m     \u001b[0mlabels\u001b[0m \u001b[0;34m=\u001b[0m \u001b[0m_check_set_wise_labels\u001b[0m\u001b[0;34m(\u001b[0m\u001b[0my_true\u001b[0m\u001b[0;34m,\u001b[0m \u001b[0my_pred\u001b[0m\u001b[0;34m,\u001b[0m \u001b[0maverage\u001b[0m\u001b[0;34m,\u001b[0m \u001b[0mlabels\u001b[0m\u001b[0;34m,\u001b[0m \u001b[0mpos_label\u001b[0m\u001b[0;34m)\u001b[0m\u001b[0;34m\u001b[0m\u001b[0;34m\u001b[0m\u001b[0m\n\u001b[0m\u001b[1;32m   1545\u001b[0m \u001b[0;34m\u001b[0m\u001b[0m\n\u001b[1;32m   1546\u001b[0m     \u001b[0;31m# Calculate tp_sum, pred_sum, true_sum ###\u001b[0m\u001b[0;34m\u001b[0m\u001b[0;34m\u001b[0m\u001b[0;34m\u001b[0m\u001b[0m\n",
            "\u001b[0;32m/usr/local/lib/python3.8/dist-packages/sklearn/metrics/_classification.py\u001b[0m in \u001b[0;36m_check_set_wise_labels\u001b[0;34m(y_true, y_pred, average, labels, pos_label)\u001b[0m\n\u001b[1;32m   1346\u001b[0m         \u001b[0;32mraise\u001b[0m \u001b[0mValueError\u001b[0m\u001b[0;34m(\u001b[0m\u001b[0;34m\"average has to be one of \"\u001b[0m \u001b[0;34m+\u001b[0m \u001b[0mstr\u001b[0m\u001b[0;34m(\u001b[0m\u001b[0maverage_options\u001b[0m\u001b[0;34m)\u001b[0m\u001b[0;34m)\u001b[0m\u001b[0;34m\u001b[0m\u001b[0;34m\u001b[0m\u001b[0m\n\u001b[1;32m   1347\u001b[0m \u001b[0;34m\u001b[0m\u001b[0m\n\u001b[0;32m-> 1348\u001b[0;31m     \u001b[0my_type\u001b[0m\u001b[0;34m,\u001b[0m \u001b[0my_true\u001b[0m\u001b[0;34m,\u001b[0m \u001b[0my_pred\u001b[0m \u001b[0;34m=\u001b[0m \u001b[0m_check_targets\u001b[0m\u001b[0;34m(\u001b[0m\u001b[0my_true\u001b[0m\u001b[0;34m,\u001b[0m \u001b[0my_pred\u001b[0m\u001b[0;34m)\u001b[0m\u001b[0;34m\u001b[0m\u001b[0;34m\u001b[0m\u001b[0m\n\u001b[0m\u001b[1;32m   1349\u001b[0m     \u001b[0;31m# Convert to Python primitive type to avoid NumPy type / Python str\u001b[0m\u001b[0;34m\u001b[0m\u001b[0;34m\u001b[0m\u001b[0;34m\u001b[0m\u001b[0m\n\u001b[1;32m   1350\u001b[0m     \u001b[0;31m# comparison. See https://github.com/numpy/numpy/issues/6784\u001b[0m\u001b[0;34m\u001b[0m\u001b[0;34m\u001b[0m\u001b[0;34m\u001b[0m\u001b[0m\n",
            "\u001b[0;32m/usr/local/lib/python3.8/dist-packages/sklearn/metrics/_classification.py\u001b[0m in \u001b[0;36m_check_targets\u001b[0;34m(y_true, y_pred)\u001b[0m\n\u001b[1;32m     82\u001b[0m     \u001b[0my_pred\u001b[0m \u001b[0;34m:\u001b[0m \u001b[0marray\u001b[0m \u001b[0;32mor\u001b[0m \u001b[0mindicator\u001b[0m \u001b[0mmatrix\u001b[0m\u001b[0;34m\u001b[0m\u001b[0;34m\u001b[0m\u001b[0m\n\u001b[1;32m     83\u001b[0m     \"\"\"\n\u001b[0;32m---> 84\u001b[0;31m     \u001b[0mcheck_consistent_length\u001b[0m\u001b[0;34m(\u001b[0m\u001b[0my_true\u001b[0m\u001b[0;34m,\u001b[0m \u001b[0my_pred\u001b[0m\u001b[0;34m)\u001b[0m\u001b[0;34m\u001b[0m\u001b[0;34m\u001b[0m\u001b[0m\n\u001b[0m\u001b[1;32m     85\u001b[0m     \u001b[0mtype_true\u001b[0m \u001b[0;34m=\u001b[0m \u001b[0mtype_of_target\u001b[0m\u001b[0;34m(\u001b[0m\u001b[0my_true\u001b[0m\u001b[0;34m)\u001b[0m\u001b[0;34m\u001b[0m\u001b[0;34m\u001b[0m\u001b[0m\n\u001b[1;32m     86\u001b[0m     \u001b[0mtype_pred\u001b[0m \u001b[0;34m=\u001b[0m \u001b[0mtype_of_target\u001b[0m\u001b[0;34m(\u001b[0m\u001b[0my_pred\u001b[0m\u001b[0;34m)\u001b[0m\u001b[0;34m\u001b[0m\u001b[0;34m\u001b[0m\u001b[0m\n",
            "\u001b[0;32m/usr/local/lib/python3.8/dist-packages/sklearn/utils/validation.py\u001b[0m in \u001b[0;36mcheck_consistent_length\u001b[0;34m(*arrays)\u001b[0m\n\u001b[1;32m    330\u001b[0m     \u001b[0muniques\u001b[0m \u001b[0;34m=\u001b[0m \u001b[0mnp\u001b[0m\u001b[0;34m.\u001b[0m\u001b[0munique\u001b[0m\u001b[0;34m(\u001b[0m\u001b[0mlengths\u001b[0m\u001b[0;34m)\u001b[0m\u001b[0;34m\u001b[0m\u001b[0;34m\u001b[0m\u001b[0m\n\u001b[1;32m    331\u001b[0m     \u001b[0;32mif\u001b[0m \u001b[0mlen\u001b[0m\u001b[0;34m(\u001b[0m\u001b[0muniques\u001b[0m\u001b[0;34m)\u001b[0m \u001b[0;34m>\u001b[0m \u001b[0;36m1\u001b[0m\u001b[0;34m:\u001b[0m\u001b[0;34m\u001b[0m\u001b[0;34m\u001b[0m\u001b[0m\n\u001b[0;32m--> 332\u001b[0;31m         raise ValueError(\n\u001b[0m\u001b[1;32m    333\u001b[0m             \u001b[0;34m\"Found input variables with inconsistent numbers of samples: %r\"\u001b[0m\u001b[0;34m\u001b[0m\u001b[0;34m\u001b[0m\u001b[0m\n\u001b[1;32m    334\u001b[0m             \u001b[0;34m%\u001b[0m \u001b[0;34m[\u001b[0m\u001b[0mint\u001b[0m\u001b[0;34m(\u001b[0m\u001b[0ml\u001b[0m\u001b[0;34m)\u001b[0m \u001b[0;32mfor\u001b[0m \u001b[0ml\u001b[0m \u001b[0;32min\u001b[0m \u001b[0mlengths\u001b[0m\u001b[0;34m]\u001b[0m\u001b[0;34m\u001b[0m\u001b[0;34m\u001b[0m\u001b[0m\n",
            "\u001b[0;31mValueError\u001b[0m: Found input variables with inconsistent numbers of samples: [1436, 3255]"
          ]
        }
      ]
    },
    {
      "cell_type": "code",
      "source": [
        "CM_RF = confusion_matrix(y_test , y_pred_RF)\n",
        "sns.heatmap(CM_RF , annot=True, fmt='.3g')\n",
        "plt.title('Confusion matrix');\n",
        "plt.xlabel('Predicted');\n",
        "plt.ylabel('Actual');\n",
        "\n",
        "plt.show()"
      ],
      "metadata": {
        "id": "uJXt5ApSThkS"
      },
      "execution_count": null,
      "outputs": []
    }
  ]
}