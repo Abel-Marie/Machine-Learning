{
  "cells": [
    {
      "cell_type": "markdown",
      "metadata": {
        "id": "8Gf0u3uzd7oM"
      },
      "source": [
        "# Assignment - Sentiment Analysis of Movie Reviews\n",
        "\n",
        "![](https://i.imgur.com/6Wfmf2S.png)\n",
        "\n",
        "> **Problem Statement**: Apply the TF-IDF technique to train ML models for sentiment analysis using data from the \"[Sentiment Analysis on Movie Reviews](https://www.kaggle.com/c/sentiment-analysis-on-movie-reviews)\" Kaggle competition.\n",
        "\n",
        "\n",
        "Outline:\n",
        "\n",
        "1. Download and Explore Dataset\n",
        "2. Implement the TF-IDF Technique\n",
        "3. Train baseline model & submit to Kaggle\n",
        "4. Train & finetune different ML models\n",
        "3. Document & submit your notebook\n",
        "\n",
        "\n",
        "Dataset: https://www.kaggle.com/c/sentiment-analysis-on-movie-reviews\n"
      ]
    },
    {
      "cell_type": "markdown",
      "metadata": {
        "id": "hw0pygCOefi9"
      },
      "source": [
        "## Download and Explore the Data\n",
        "\n",
        "Outline:\n",
        "\n",
        "1. Download Dataset from Kaggle\n",
        "2. Explore and visualize data"
      ]
    },
    {
      "cell_type": "markdown",
      "metadata": {
        "id": "KPS8buEdtllZ"
      },
      "source": [
        "### Download Dataset from Kaggle\n",
        "\n",
        "- Read the \"Description\", \"Evaluation\" and \"Data\" sections on the Kaggle competition page carefully\n",
        "- Make sure to download the `kaggle.json` file from your [Kaggle account](https://kaggle.com/me/account) and upload it on Colab"
      ]
    },
    {
      "cell_type": "code",
      "execution_count": null,
      "metadata": {
        "id": "gxy61a0QCnsC"
      },
      "outputs": [],
      "source": [
        "import os"
      ]
    },
    {
      "cell_type": "code",
      "execution_count": null,
      "metadata": {
        "colab": {
          "base_uri": "https://localhost:8080/"
        },
        "id": "qsFSEkklDD3M",
        "outputId": "c2d046ca-44b8-4e88-f6b3-76d5e38f314e"
      },
      "outputs": [
        {
          "name": "stdout",
          "output_type": "stream",
          "text": [
            "/content\n"
          ]
        }
      ],
      "source": [
        "!pwd"
      ]
    },
    {
      "cell_type": "code",
      "execution_count": null,
      "metadata": {
        "id": "s7Ly7it2Cmi2"
      },
      "outputs": [],
      "source": [
        "os.environ['KAGGLE_CONFIG_DIR'] = '/content'"
      ]
    },
    {
      "cell_type": "code",
      "execution_count": null,
      "metadata": {
        "colab": {
          "base_uri": "https://localhost:8080/"
        },
        "id": "FnaGd60Zuxgg",
        "outputId": "f7b54102-69fe-4d68-b255-c6157102abc5"
      },
      "outputs": [
        {
          "name": "stdout",
          "output_type": "stream",
          "text": [
            "Warning: Your Kaggle API key is readable by other users on this system! To fix this, you can run 'chmod 600 /content/kaggle.json'\n",
            "Downloading sentiment-analysis-on-movie-reviews.zip to /content\n",
            "  0% 0.00/1.90M [00:00<?, ?B/s]\n",
            "100% 1.90M/1.90M [00:00<00:00, 164MB/s]\n"
          ]
        }
      ],
      "source": [
        "!kaggle competitions download -c sentiment-analysis-on-movie-reviews"
      ]
    },
    {
      "cell_type": "code",
      "execution_count": null,
      "metadata": {
        "colab": {
          "base_uri": "https://localhost:8080/"
        },
        "id": "lcRhDakmuxEm",
        "outputId": "ac442a07-8418-45bf-b293-43f7692a210c"
      },
      "outputs": [
        {
          "name": "stdout",
          "output_type": "stream",
          "text": [
            "Archive:  sentiment-analysis-on-movie-reviews.zip\n",
            "  inflating: data/sampleSubmission.csv  \n",
            "  inflating: data/test.tsv.zip       \n",
            "  inflating: data/train.tsv.zip      \n"
          ]
        }
      ],
      "source": [
        "!unzip sentiment-analysis-on-movie-reviews.zip -d data"
      ]
    },
    {
      "cell_type": "code",
      "execution_count": null,
      "metadata": {
        "id": "MdQqvmtvend_"
      },
      "outputs": [],
      "source": [
        "train_fname = 'data/train.tsv.zip'\n",
        "test_fname = 'data/test.tsv.zip'\n",
        "sub_fname = 'data/sampleSubmission.csv'"
      ]
    },
    {
      "cell_type": "markdown",
      "metadata": {
        "id": "CVbujLQ9tpAb"
      },
      "source": [
        "### Explore and Visualize Data\n",
        "\n",
        "* Load the train, test, and submission files using Pandas\n",
        "* Explore rows, columns, sample values etc.\n",
        "* Visualize distribution of target columns"
      ]
    },
    {
      "cell_type": "code",
      "execution_count": null,
      "metadata": {
        "id": "H2JenReXw7SI"
      },
      "outputs": [],
      "source": [
        "import pandas as pd"
      ]
    },
    {
      "cell_type": "code",
      "execution_count": null,
      "metadata": {
        "id": "oPwLSKsrvdTa"
      },
      "outputs": [],
      "source": [
        "raw_df = pd.read_csv(train_fname, sep='\\t')"
      ]
    },
    {
      "cell_type": "code",
      "execution_count": null,
      "metadata": {
        "colab": {
          "base_uri": "https://localhost:8080/",
          "height": 424
        },
        "id": "4-cvRH3HenYx",
        "outputId": "a7dee83b-1abe-4247-faad-1a9f7fc470cc"
      },
      "outputs": [
        {
          "data": {
            "text/html": [
              "\n",
              "  <div id=\"df-9ee9ec3e-255f-42fc-a767-55078cfe69c2\">\n",
              "    <div class=\"colab-df-container\">\n",
              "      <div>\n",
              "<style scoped>\n",
              "    .dataframe tbody tr th:only-of-type {\n",
              "        vertical-align: middle;\n",
              "    }\n",
              "\n",
              "    .dataframe tbody tr th {\n",
              "        vertical-align: top;\n",
              "    }\n",
              "\n",
              "    .dataframe thead th {\n",
              "        text-align: right;\n",
              "    }\n",
              "</style>\n",
              "<table border=\"1\" class=\"dataframe\">\n",
              "  <thead>\n",
              "    <tr style=\"text-align: right;\">\n",
              "      <th></th>\n",
              "      <th>PhraseId</th>\n",
              "      <th>SentenceId</th>\n",
              "      <th>Phrase</th>\n",
              "      <th>Sentiment</th>\n",
              "    </tr>\n",
              "  </thead>\n",
              "  <tbody>\n",
              "    <tr>\n",
              "      <th>0</th>\n",
              "      <td>1</td>\n",
              "      <td>1</td>\n",
              "      <td>A series of escapades demonstrating the adage ...</td>\n",
              "      <td>1</td>\n",
              "    </tr>\n",
              "    <tr>\n",
              "      <th>1</th>\n",
              "      <td>2</td>\n",
              "      <td>1</td>\n",
              "      <td>A series of escapades demonstrating the adage ...</td>\n",
              "      <td>2</td>\n",
              "    </tr>\n",
              "    <tr>\n",
              "      <th>2</th>\n",
              "      <td>3</td>\n",
              "      <td>1</td>\n",
              "      <td>A series</td>\n",
              "      <td>2</td>\n",
              "    </tr>\n",
              "    <tr>\n",
              "      <th>3</th>\n",
              "      <td>4</td>\n",
              "      <td>1</td>\n",
              "      <td>A</td>\n",
              "      <td>2</td>\n",
              "    </tr>\n",
              "    <tr>\n",
              "      <th>4</th>\n",
              "      <td>5</td>\n",
              "      <td>1</td>\n",
              "      <td>series</td>\n",
              "      <td>2</td>\n",
              "    </tr>\n",
              "    <tr>\n",
              "      <th>...</th>\n",
              "      <td>...</td>\n",
              "      <td>...</td>\n",
              "      <td>...</td>\n",
              "      <td>...</td>\n",
              "    </tr>\n",
              "    <tr>\n",
              "      <th>156055</th>\n",
              "      <td>156056</td>\n",
              "      <td>8544</td>\n",
              "      <td>Hearst 's</td>\n",
              "      <td>2</td>\n",
              "    </tr>\n",
              "    <tr>\n",
              "      <th>156056</th>\n",
              "      <td>156057</td>\n",
              "      <td>8544</td>\n",
              "      <td>forced avuncular chortles</td>\n",
              "      <td>1</td>\n",
              "    </tr>\n",
              "    <tr>\n",
              "      <th>156057</th>\n",
              "      <td>156058</td>\n",
              "      <td>8544</td>\n",
              "      <td>avuncular chortles</td>\n",
              "      <td>3</td>\n",
              "    </tr>\n",
              "    <tr>\n",
              "      <th>156058</th>\n",
              "      <td>156059</td>\n",
              "      <td>8544</td>\n",
              "      <td>avuncular</td>\n",
              "      <td>2</td>\n",
              "    </tr>\n",
              "    <tr>\n",
              "      <th>156059</th>\n",
              "      <td>156060</td>\n",
              "      <td>8544</td>\n",
              "      <td>chortles</td>\n",
              "      <td>2</td>\n",
              "    </tr>\n",
              "  </tbody>\n",
              "</table>\n",
              "<p>156060 rows × 4 columns</p>\n",
              "</div>\n",
              "      <button class=\"colab-df-convert\" onclick=\"convertToInteractive('df-9ee9ec3e-255f-42fc-a767-55078cfe69c2')\"\n",
              "              title=\"Convert this dataframe to an interactive table.\"\n",
              "              style=\"display:none;\">\n",
              "        \n",
              "  <svg xmlns=\"http://www.w3.org/2000/svg\" height=\"24px\"viewBox=\"0 0 24 24\"\n",
              "       width=\"24px\">\n",
              "    <path d=\"M0 0h24v24H0V0z\" fill=\"none\"/>\n",
              "    <path d=\"M18.56 5.44l.94 2.06.94-2.06 2.06-.94-2.06-.94-.94-2.06-.94 2.06-2.06.94zm-11 1L8.5 8.5l.94-2.06 2.06-.94-2.06-.94L8.5 2.5l-.94 2.06-2.06.94zm10 10l.94 2.06.94-2.06 2.06-.94-2.06-.94-.94-2.06-.94 2.06-2.06.94z\"/><path d=\"M17.41 7.96l-1.37-1.37c-.4-.4-.92-.59-1.43-.59-.52 0-1.04.2-1.43.59L10.3 9.45l-7.72 7.72c-.78.78-.78 2.05 0 2.83L4 21.41c.39.39.9.59 1.41.59.51 0 1.02-.2 1.41-.59l7.78-7.78 2.81-2.81c.8-.78.8-2.07 0-2.86zM5.41 20L4 18.59l7.72-7.72 1.47 1.35L5.41 20z\"/>\n",
              "  </svg>\n",
              "      </button>\n",
              "      \n",
              "  <style>\n",
              "    .colab-df-container {\n",
              "      display:flex;\n",
              "      flex-wrap:wrap;\n",
              "      gap: 12px;\n",
              "    }\n",
              "\n",
              "    .colab-df-convert {\n",
              "      background-color: #E8F0FE;\n",
              "      border: none;\n",
              "      border-radius: 50%;\n",
              "      cursor: pointer;\n",
              "      display: none;\n",
              "      fill: #1967D2;\n",
              "      height: 32px;\n",
              "      padding: 0 0 0 0;\n",
              "      width: 32px;\n",
              "    }\n",
              "\n",
              "    .colab-df-convert:hover {\n",
              "      background-color: #E2EBFA;\n",
              "      box-shadow: 0px 1px 2px rgba(60, 64, 67, 0.3), 0px 1px 3px 1px rgba(60, 64, 67, 0.15);\n",
              "      fill: #174EA6;\n",
              "    }\n",
              "\n",
              "    [theme=dark] .colab-df-convert {\n",
              "      background-color: #3B4455;\n",
              "      fill: #D2E3FC;\n",
              "    }\n",
              "\n",
              "    [theme=dark] .colab-df-convert:hover {\n",
              "      background-color: #434B5C;\n",
              "      box-shadow: 0px 1px 3px 1px rgba(0, 0, 0, 0.15);\n",
              "      filter: drop-shadow(0px 1px 2px rgba(0, 0, 0, 0.3));\n",
              "      fill: #FFFFFF;\n",
              "    }\n",
              "  </style>\n",
              "\n",
              "      <script>\n",
              "        const buttonEl =\n",
              "          document.querySelector('#df-9ee9ec3e-255f-42fc-a767-55078cfe69c2 button.colab-df-convert');\n",
              "        buttonEl.style.display =\n",
              "          google.colab.kernel.accessAllowed ? 'block' : 'none';\n",
              "\n",
              "        async function convertToInteractive(key) {\n",
              "          const element = document.querySelector('#df-9ee9ec3e-255f-42fc-a767-55078cfe69c2');\n",
              "          const dataTable =\n",
              "            await google.colab.kernel.invokeFunction('convertToInteractive',\n",
              "                                                     [key], {});\n",
              "          if (!dataTable) return;\n",
              "\n",
              "          const docLinkHtml = 'Like what you see? Visit the ' +\n",
              "            '<a target=\"_blank\" href=https://colab.research.google.com/notebooks/data_table.ipynb>data table notebook</a>'\n",
              "            + ' to learn more about interactive tables.';\n",
              "          element.innerHTML = '';\n",
              "          dataTable['output_type'] = 'display_data';\n",
              "          await google.colab.output.renderOutput(dataTable, element);\n",
              "          const docLink = document.createElement('div');\n",
              "          docLink.innerHTML = docLinkHtml;\n",
              "          element.appendChild(docLink);\n",
              "        }\n",
              "      </script>\n",
              "    </div>\n",
              "  </div>\n",
              "  "
            ],
            "text/plain": [
              "        PhraseId  SentenceId  \\\n",
              "0              1           1   \n",
              "1              2           1   \n",
              "2              3           1   \n",
              "3              4           1   \n",
              "4              5           1   \n",
              "...          ...         ...   \n",
              "156055    156056        8544   \n",
              "156056    156057        8544   \n",
              "156057    156058        8544   \n",
              "156058    156059        8544   \n",
              "156059    156060        8544   \n",
              "\n",
              "                                                   Phrase  Sentiment  \n",
              "0       A series of escapades demonstrating the adage ...          1  \n",
              "1       A series of escapades demonstrating the adage ...          2  \n",
              "2                                                A series          2  \n",
              "3                                                       A          2  \n",
              "4                                                  series          2  \n",
              "...                                                   ...        ...  \n",
              "156055                                          Hearst 's          2  \n",
              "156056                          forced avuncular chortles          1  \n",
              "156057                                 avuncular chortles          3  \n",
              "156058                                          avuncular          2  \n",
              "156059                                           chortles          2  \n",
              "\n",
              "[156060 rows x 4 columns]"
            ]
          },
          "execution_count": 9,
          "metadata": {},
          "output_type": "execute_result"
        }
      ],
      "source": [
        "raw_df"
      ]
    },
    {
      "cell_type": "code",
      "execution_count": null,
      "metadata": {
        "colab": {
          "base_uri": "https://localhost:8080/"
        },
        "id": "EF3B9tjTxJVn",
        "outputId": "c0a07b18-fd4c-43bf-c0eb-062df75ed18c"
      },
      "outputs": [
        {
          "data": {
            "text/plain": [
              "array(['the screen at times',\n",
              "       'justice for two crimes from which many of us have not yet recovered',\n",
              "       'Koury frighteningly and honestly',\n",
              "       '-LRB- Siegel -RRB- and co-writers Lisa Bazadona and Grace Woodard have relied too much on convention in creating the characters who surround Frankie .',\n",
              "       'finds warmth in the coldest environment and',\n",
              "       ', glaring and unforgettable .',\n",
              "       'from a surprisingly sensitive script co-written',\n",
              "       'creative interference', 'massive cardiac arrest', 'charred'],\n",
              "      dtype=object)"
            ]
          },
          "execution_count": 10,
          "metadata": {},
          "output_type": "execute_result"
        }
      ],
      "source": [
        "raw_df.Phrase.sample(10).values"
      ]
    },
    {
      "cell_type": "code",
      "execution_count": null,
      "metadata": {
        "id": "ZwubETUvxTBo"
      },
      "outputs": [],
      "source": [
        "test_df = pd.read_csv(test_fname, sep=('\\t'))"
      ]
    },
    {
      "cell_type": "code",
      "execution_count": null,
      "metadata": {
        "colab": {
          "base_uri": "https://localhost:8080/",
          "height": 424
        },
        "id": "l0Skd9KnxdjV",
        "outputId": "b8e23fc1-0f9e-4d12-e0fc-87c2f1cf2240"
      },
      "outputs": [
        {
          "data": {
            "text/html": [
              "\n",
              "  <div id=\"df-27bbcd54-fc7a-4e02-b1fd-2b3e14877e26\">\n",
              "    <div class=\"colab-df-container\">\n",
              "      <div>\n",
              "<style scoped>\n",
              "    .dataframe tbody tr th:only-of-type {\n",
              "        vertical-align: middle;\n",
              "    }\n",
              "\n",
              "    .dataframe tbody tr th {\n",
              "        vertical-align: top;\n",
              "    }\n",
              "\n",
              "    .dataframe thead th {\n",
              "        text-align: right;\n",
              "    }\n",
              "</style>\n",
              "<table border=\"1\" class=\"dataframe\">\n",
              "  <thead>\n",
              "    <tr style=\"text-align: right;\">\n",
              "      <th></th>\n",
              "      <th>PhraseId</th>\n",
              "      <th>SentenceId</th>\n",
              "      <th>Phrase</th>\n",
              "    </tr>\n",
              "  </thead>\n",
              "  <tbody>\n",
              "    <tr>\n",
              "      <th>0</th>\n",
              "      <td>156061</td>\n",
              "      <td>8545</td>\n",
              "      <td>An intermittently pleasing but mostly routine ...</td>\n",
              "    </tr>\n",
              "    <tr>\n",
              "      <th>1</th>\n",
              "      <td>156062</td>\n",
              "      <td>8545</td>\n",
              "      <td>An intermittently pleasing but mostly routine ...</td>\n",
              "    </tr>\n",
              "    <tr>\n",
              "      <th>2</th>\n",
              "      <td>156063</td>\n",
              "      <td>8545</td>\n",
              "      <td>An</td>\n",
              "    </tr>\n",
              "    <tr>\n",
              "      <th>3</th>\n",
              "      <td>156064</td>\n",
              "      <td>8545</td>\n",
              "      <td>intermittently pleasing but mostly routine effort</td>\n",
              "    </tr>\n",
              "    <tr>\n",
              "      <th>4</th>\n",
              "      <td>156065</td>\n",
              "      <td>8545</td>\n",
              "      <td>intermittently pleasing but mostly routine</td>\n",
              "    </tr>\n",
              "    <tr>\n",
              "      <th>...</th>\n",
              "      <td>...</td>\n",
              "      <td>...</td>\n",
              "      <td>...</td>\n",
              "    </tr>\n",
              "    <tr>\n",
              "      <th>66287</th>\n",
              "      <td>222348</td>\n",
              "      <td>11855</td>\n",
              "      <td>A long-winded , predictable scenario .</td>\n",
              "    </tr>\n",
              "    <tr>\n",
              "      <th>66288</th>\n",
              "      <td>222349</td>\n",
              "      <td>11855</td>\n",
              "      <td>A long-winded , predictable scenario</td>\n",
              "    </tr>\n",
              "    <tr>\n",
              "      <th>66289</th>\n",
              "      <td>222350</td>\n",
              "      <td>11855</td>\n",
              "      <td>A long-winded ,</td>\n",
              "    </tr>\n",
              "    <tr>\n",
              "      <th>66290</th>\n",
              "      <td>222351</td>\n",
              "      <td>11855</td>\n",
              "      <td>A long-winded</td>\n",
              "    </tr>\n",
              "    <tr>\n",
              "      <th>66291</th>\n",
              "      <td>222352</td>\n",
              "      <td>11855</td>\n",
              "      <td>predictable scenario</td>\n",
              "    </tr>\n",
              "  </tbody>\n",
              "</table>\n",
              "<p>66292 rows × 3 columns</p>\n",
              "</div>\n",
              "      <button class=\"colab-df-convert\" onclick=\"convertToInteractive('df-27bbcd54-fc7a-4e02-b1fd-2b3e14877e26')\"\n",
              "              title=\"Convert this dataframe to an interactive table.\"\n",
              "              style=\"display:none;\">\n",
              "        \n",
              "  <svg xmlns=\"http://www.w3.org/2000/svg\" height=\"24px\"viewBox=\"0 0 24 24\"\n",
              "       width=\"24px\">\n",
              "    <path d=\"M0 0h24v24H0V0z\" fill=\"none\"/>\n",
              "    <path d=\"M18.56 5.44l.94 2.06.94-2.06 2.06-.94-2.06-.94-.94-2.06-.94 2.06-2.06.94zm-11 1L8.5 8.5l.94-2.06 2.06-.94-2.06-.94L8.5 2.5l-.94 2.06-2.06.94zm10 10l.94 2.06.94-2.06 2.06-.94-2.06-.94-.94-2.06-.94 2.06-2.06.94z\"/><path d=\"M17.41 7.96l-1.37-1.37c-.4-.4-.92-.59-1.43-.59-.52 0-1.04.2-1.43.59L10.3 9.45l-7.72 7.72c-.78.78-.78 2.05 0 2.83L4 21.41c.39.39.9.59 1.41.59.51 0 1.02-.2 1.41-.59l7.78-7.78 2.81-2.81c.8-.78.8-2.07 0-2.86zM5.41 20L4 18.59l7.72-7.72 1.47 1.35L5.41 20z\"/>\n",
              "  </svg>\n",
              "      </button>\n",
              "      \n",
              "  <style>\n",
              "    .colab-df-container {\n",
              "      display:flex;\n",
              "      flex-wrap:wrap;\n",
              "      gap: 12px;\n",
              "    }\n",
              "\n",
              "    .colab-df-convert {\n",
              "      background-color: #E8F0FE;\n",
              "      border: none;\n",
              "      border-radius: 50%;\n",
              "      cursor: pointer;\n",
              "      display: none;\n",
              "      fill: #1967D2;\n",
              "      height: 32px;\n",
              "      padding: 0 0 0 0;\n",
              "      width: 32px;\n",
              "    }\n",
              "\n",
              "    .colab-df-convert:hover {\n",
              "      background-color: #E2EBFA;\n",
              "      box-shadow: 0px 1px 2px rgba(60, 64, 67, 0.3), 0px 1px 3px 1px rgba(60, 64, 67, 0.15);\n",
              "      fill: #174EA6;\n",
              "    }\n",
              "\n",
              "    [theme=dark] .colab-df-convert {\n",
              "      background-color: #3B4455;\n",
              "      fill: #D2E3FC;\n",
              "    }\n",
              "\n",
              "    [theme=dark] .colab-df-convert:hover {\n",
              "      background-color: #434B5C;\n",
              "      box-shadow: 0px 1px 3px 1px rgba(0, 0, 0, 0.15);\n",
              "      filter: drop-shadow(0px 1px 2px rgba(0, 0, 0, 0.3));\n",
              "      fill: #FFFFFF;\n",
              "    }\n",
              "  </style>\n",
              "\n",
              "      <script>\n",
              "        const buttonEl =\n",
              "          document.querySelector('#df-27bbcd54-fc7a-4e02-b1fd-2b3e14877e26 button.colab-df-convert');\n",
              "        buttonEl.style.display =\n",
              "          google.colab.kernel.accessAllowed ? 'block' : 'none';\n",
              "\n",
              "        async function convertToInteractive(key) {\n",
              "          const element = document.querySelector('#df-27bbcd54-fc7a-4e02-b1fd-2b3e14877e26');\n",
              "          const dataTable =\n",
              "            await google.colab.kernel.invokeFunction('convertToInteractive',\n",
              "                                                     [key], {});\n",
              "          if (!dataTable) return;\n",
              "\n",
              "          const docLinkHtml = 'Like what you see? Visit the ' +\n",
              "            '<a target=\"_blank\" href=https://colab.research.google.com/notebooks/data_table.ipynb>data table notebook</a>'\n",
              "            + ' to learn more about interactive tables.';\n",
              "          element.innerHTML = '';\n",
              "          dataTable['output_type'] = 'display_data';\n",
              "          await google.colab.output.renderOutput(dataTable, element);\n",
              "          const docLink = document.createElement('div');\n",
              "          docLink.innerHTML = docLinkHtml;\n",
              "          element.appendChild(docLink);\n",
              "        }\n",
              "      </script>\n",
              "    </div>\n",
              "  </div>\n",
              "  "
            ],
            "text/plain": [
              "       PhraseId  SentenceId                                             Phrase\n",
              "0        156061        8545  An intermittently pleasing but mostly routine ...\n",
              "1        156062        8545  An intermittently pleasing but mostly routine ...\n",
              "2        156063        8545                                                 An\n",
              "3        156064        8545  intermittently pleasing but mostly routine effort\n",
              "4        156065        8545         intermittently pleasing but mostly routine\n",
              "...         ...         ...                                                ...\n",
              "66287    222348       11855             A long-winded , predictable scenario .\n",
              "66288    222349       11855               A long-winded , predictable scenario\n",
              "66289    222350       11855                                    A long-winded ,\n",
              "66290    222351       11855                                      A long-winded\n",
              "66291    222352       11855                               predictable scenario\n",
              "\n",
              "[66292 rows x 3 columns]"
            ]
          },
          "execution_count": 12,
          "metadata": {},
          "output_type": "execute_result"
        }
      ],
      "source": [
        "test_df"
      ]
    },
    {
      "cell_type": "code",
      "execution_count": null,
      "metadata": {
        "id": "1ao58CXLx15G"
      },
      "outputs": [],
      "source": [
        "sub_df = pd.read_csv (sub_fname)"
      ]
    },
    {
      "cell_type": "code",
      "execution_count": null,
      "metadata": {
        "colab": {
          "base_uri": "https://localhost:8080/",
          "height": 424
        },
        "id": "-uae8Me6tt4I",
        "outputId": "6b1ed3d4-8516-448f-f476-ffc263560dbb"
      },
      "outputs": [
        {
          "data": {
            "text/html": [
              "\n",
              "  <div id=\"df-9e808bde-0583-4bd8-812a-0d3c3da36755\">\n",
              "    <div class=\"colab-df-container\">\n",
              "      <div>\n",
              "<style scoped>\n",
              "    .dataframe tbody tr th:only-of-type {\n",
              "        vertical-align: middle;\n",
              "    }\n",
              "\n",
              "    .dataframe tbody tr th {\n",
              "        vertical-align: top;\n",
              "    }\n",
              "\n",
              "    .dataframe thead th {\n",
              "        text-align: right;\n",
              "    }\n",
              "</style>\n",
              "<table border=\"1\" class=\"dataframe\">\n",
              "  <thead>\n",
              "    <tr style=\"text-align: right;\">\n",
              "      <th></th>\n",
              "      <th>PhraseId</th>\n",
              "      <th>Sentiment</th>\n",
              "    </tr>\n",
              "  </thead>\n",
              "  <tbody>\n",
              "    <tr>\n",
              "      <th>0</th>\n",
              "      <td>156061</td>\n",
              "      <td>2</td>\n",
              "    </tr>\n",
              "    <tr>\n",
              "      <th>1</th>\n",
              "      <td>156062</td>\n",
              "      <td>2</td>\n",
              "    </tr>\n",
              "    <tr>\n",
              "      <th>2</th>\n",
              "      <td>156063</td>\n",
              "      <td>2</td>\n",
              "    </tr>\n",
              "    <tr>\n",
              "      <th>3</th>\n",
              "      <td>156064</td>\n",
              "      <td>2</td>\n",
              "    </tr>\n",
              "    <tr>\n",
              "      <th>4</th>\n",
              "      <td>156065</td>\n",
              "      <td>2</td>\n",
              "    </tr>\n",
              "    <tr>\n",
              "      <th>...</th>\n",
              "      <td>...</td>\n",
              "      <td>...</td>\n",
              "    </tr>\n",
              "    <tr>\n",
              "      <th>66287</th>\n",
              "      <td>222348</td>\n",
              "      <td>2</td>\n",
              "    </tr>\n",
              "    <tr>\n",
              "      <th>66288</th>\n",
              "      <td>222349</td>\n",
              "      <td>2</td>\n",
              "    </tr>\n",
              "    <tr>\n",
              "      <th>66289</th>\n",
              "      <td>222350</td>\n",
              "      <td>2</td>\n",
              "    </tr>\n",
              "    <tr>\n",
              "      <th>66290</th>\n",
              "      <td>222351</td>\n",
              "      <td>2</td>\n",
              "    </tr>\n",
              "    <tr>\n",
              "      <th>66291</th>\n",
              "      <td>222352</td>\n",
              "      <td>2</td>\n",
              "    </tr>\n",
              "  </tbody>\n",
              "</table>\n",
              "<p>66292 rows × 2 columns</p>\n",
              "</div>\n",
              "      <button class=\"colab-df-convert\" onclick=\"convertToInteractive('df-9e808bde-0583-4bd8-812a-0d3c3da36755')\"\n",
              "              title=\"Convert this dataframe to an interactive table.\"\n",
              "              style=\"display:none;\">\n",
              "        \n",
              "  <svg xmlns=\"http://www.w3.org/2000/svg\" height=\"24px\"viewBox=\"0 0 24 24\"\n",
              "       width=\"24px\">\n",
              "    <path d=\"M0 0h24v24H0V0z\" fill=\"none\"/>\n",
              "    <path d=\"M18.56 5.44l.94 2.06.94-2.06 2.06-.94-2.06-.94-.94-2.06-.94 2.06-2.06.94zm-11 1L8.5 8.5l.94-2.06 2.06-.94-2.06-.94L8.5 2.5l-.94 2.06-2.06.94zm10 10l.94 2.06.94-2.06 2.06-.94-2.06-.94-.94-2.06-.94 2.06-2.06.94z\"/><path d=\"M17.41 7.96l-1.37-1.37c-.4-.4-.92-.59-1.43-.59-.52 0-1.04.2-1.43.59L10.3 9.45l-7.72 7.72c-.78.78-.78 2.05 0 2.83L4 21.41c.39.39.9.59 1.41.59.51 0 1.02-.2 1.41-.59l7.78-7.78 2.81-2.81c.8-.78.8-2.07 0-2.86zM5.41 20L4 18.59l7.72-7.72 1.47 1.35L5.41 20z\"/>\n",
              "  </svg>\n",
              "      </button>\n",
              "      \n",
              "  <style>\n",
              "    .colab-df-container {\n",
              "      display:flex;\n",
              "      flex-wrap:wrap;\n",
              "      gap: 12px;\n",
              "    }\n",
              "\n",
              "    .colab-df-convert {\n",
              "      background-color: #E8F0FE;\n",
              "      border: none;\n",
              "      border-radius: 50%;\n",
              "      cursor: pointer;\n",
              "      display: none;\n",
              "      fill: #1967D2;\n",
              "      height: 32px;\n",
              "      padding: 0 0 0 0;\n",
              "      width: 32px;\n",
              "    }\n",
              "\n",
              "    .colab-df-convert:hover {\n",
              "      background-color: #E2EBFA;\n",
              "      box-shadow: 0px 1px 2px rgba(60, 64, 67, 0.3), 0px 1px 3px 1px rgba(60, 64, 67, 0.15);\n",
              "      fill: #174EA6;\n",
              "    }\n",
              "\n",
              "    [theme=dark] .colab-df-convert {\n",
              "      background-color: #3B4455;\n",
              "      fill: #D2E3FC;\n",
              "    }\n",
              "\n",
              "    [theme=dark] .colab-df-convert:hover {\n",
              "      background-color: #434B5C;\n",
              "      box-shadow: 0px 1px 3px 1px rgba(0, 0, 0, 0.15);\n",
              "      filter: drop-shadow(0px 1px 2px rgba(0, 0, 0, 0.3));\n",
              "      fill: #FFFFFF;\n",
              "    }\n",
              "  </style>\n",
              "\n",
              "      <script>\n",
              "        const buttonEl =\n",
              "          document.querySelector('#df-9e808bde-0583-4bd8-812a-0d3c3da36755 button.colab-df-convert');\n",
              "        buttonEl.style.display =\n",
              "          google.colab.kernel.accessAllowed ? 'block' : 'none';\n",
              "\n",
              "        async function convertToInteractive(key) {\n",
              "          const element = document.querySelector('#df-9e808bde-0583-4bd8-812a-0d3c3da36755');\n",
              "          const dataTable =\n",
              "            await google.colab.kernel.invokeFunction('convertToInteractive',\n",
              "                                                     [key], {});\n",
              "          if (!dataTable) return;\n",
              "\n",
              "          const docLinkHtml = 'Like what you see? Visit the ' +\n",
              "            '<a target=\"_blank\" href=https://colab.research.google.com/notebooks/data_table.ipynb>data table notebook</a>'\n",
              "            + ' to learn more about interactive tables.';\n",
              "          element.innerHTML = '';\n",
              "          dataTable['output_type'] = 'display_data';\n",
              "          await google.colab.output.renderOutput(dataTable, element);\n",
              "          const docLink = document.createElement('div');\n",
              "          docLink.innerHTML = docLinkHtml;\n",
              "          element.appendChild(docLink);\n",
              "        }\n",
              "      </script>\n",
              "    </div>\n",
              "  </div>\n",
              "  "
            ],
            "text/plain": [
              "       PhraseId  Sentiment\n",
              "0        156061          2\n",
              "1        156062          2\n",
              "2        156063          2\n",
              "3        156064          2\n",
              "4        156065          2\n",
              "...         ...        ...\n",
              "66287    222348          2\n",
              "66288    222349          2\n",
              "66289    222350          2\n",
              "66290    222351          2\n",
              "66291    222352          2\n",
              "\n",
              "[66292 rows x 2 columns]"
            ]
          },
          "execution_count": 14,
          "metadata": {},
          "output_type": "execute_result"
        }
      ],
      "source": [
        "sub_df"
      ]
    },
    {
      "cell_type": "code",
      "execution_count": null,
      "metadata": {
        "colab": {
          "base_uri": "https://localhost:8080/"
        },
        "id": "Y8mJk3hxx1qA",
        "outputId": "dbe7c70b-e1b9-40b6-bd7d-7ab9d9bb840c"
      },
      "outputs": [
        {
          "data": {
            "text/plain": [
              "2    0.509945\n",
              "3    0.210989\n",
              "1    0.174760\n",
              "4    0.058990\n",
              "0    0.045316\n",
              "Name: Sentiment, dtype: float64"
            ]
          },
          "execution_count": 15,
          "metadata": {},
          "output_type": "execute_result"
        }
      ],
      "source": [
        "raw_df.Sentiment.value_counts(normalize=True)"
      ]
    },
    {
      "cell_type": "code",
      "execution_count": null,
      "metadata": {
        "colab": {
          "base_uri": "https://localhost:8080/",
          "height": 279
        },
        "id": "vr4snVlXHRCG",
        "outputId": "5aec6575-ba84-4e07-818d-4ec46b770d68"
      },
      "outputs": [
        {
          "data": {
            "text/plain": [
              "<matplotlib.axes._subplots.AxesSubplot at 0x7fac3d55c210>"
            ]
          },
          "execution_count": 16,
          "metadata": {},
          "output_type": "execute_result"
        },
        {
          "data": {
            "image/png": "[encoded data removed]",
            "text/plain": [
              "<Figure size 432x288 with 1 Axes>"
            ]
          },
          "metadata": {
            "needs_background": "light"
          },
          "output_type": "display_data"
        }
      ],
      "source": [
        "raw_df.Sentiment.value_counts(normalize=True).sort_index().plot(kind='bar')"
      ]
    },
    {
      "cell_type": "code",
      "execution_count": null,
      "metadata": {
        "id": "SNJPKZrXHQoS"
      },
      "outputs": [],
      "source": []
    },
    {
      "cell_type": "markdown",
      "metadata": {
        "id": "yESLHuK3x65P"
      },
      "source": [
        "Summarize your insights and learnings from the dataset below:\n",
        "\n",
        "* We use the movie review datset to train a model to label phrases on a scale of five values.\n",
        "  * 0 - negative\n",
        "  * 1 - somewhat negative\n",
        "  * 2 - neutral\n",
        "  * 3 - somewhat positive\n",
        "  * 4 - positive\n",
        "* in this assignment we got .tsv files. the difference between .csv file and .tsv file is that .tsv file use 'tab' as a separator instead of 'comma'\n",
        "* the train dataset contains Sentiment so we can train our model on, but the test dataset doesn't contain Sentiment"
      ]
    },
    {
      "cell_type": "markdown",
      "metadata": {
        "id": "pYaRDixJen33"
      },
      "source": [
        "## Implement TF-IDF Technique\n",
        "\n",
        "![](https://i.imgur.com/5VbUPup.png)\n",
        "\n",
        "Outline:\n",
        "\n",
        "1. Learn the vocabulary using `TfidfVectorizer`\n",
        "3. Transform training and test data"
      ]
    },
    {
      "cell_type": "markdown",
      "metadata": {
        "id": "m3cu-meXuETm"
      },
      "source": [
        "#### Learn Vocabulary using `TfidfVectorizer `\n",
        "\n",
        "* Create custom tokenizer with stemming\n",
        "* Create a list of stop words\n",
        "* Configure and create `TfidfVectorizer `\n",
        "* Learn vocubulary from training set\n",
        "* View sample entries from vocabulary"
      ]
    },
    {
      "cell_type": "code",
      "execution_count": null,
      "metadata": {
        "id": "u7pWYRHnzUWW"
      },
      "outputs": [],
      "source": [
        "import nltk\n",
        "from nltk.tokenize import word_tokenize\n",
        "from nltk.stem.snowball import SnowballStemmer"
      ]
    },
    {
      "cell_type": "code",
      "execution_count": null,
      "metadata": {
        "colab": {
          "base_uri": "https://localhost:8080/"
        },
        "id": "JqoQBQxoMCB-",
        "outputId": "8a3a2284-9fba-4838-996c-e8e71780034d"
      },
      "outputs": [
        {
          "name": "stderr",
          "output_type": "stream",
          "text": [
            "[nltk_data] Downloading package punkt to /root/nltk_data...\n",
            "[nltk_data]   Unzipping tokenizers/punkt.zip.\n"
          ]
        },
        {
          "data": {
            "text/plain": [
              "True"
            ]
          },
          "execution_count": 18,
          "metadata": {},
          "output_type": "execute_result"
        }
      ],
      "source": [
        "nltk.download('punkt')"
      ]
    },
    {
      "cell_type": "code",
      "execution_count": null,
      "metadata": {
        "id": "yvszQ51OL_ry"
      },
      "outputs": [],
      "source": [
        "stemmer = SnowballStemmer(language='english')"
      ]
    },
    {
      "cell_type": "code",
      "execution_count": null,
      "metadata": {
        "id": "ChJNM7D7M2RF"
      },
      "outputs": [],
      "source": [
        "def tokenize(text):\n",
        "  return [stemmer.stem(token) for token in word_tokenize(text) if token.isalpha()]\n"
      ]
    },
    {
      "cell_type": "code",
      "execution_count": null,
      "metadata": {
        "colab": {
          "base_uri": "https://localhost:8080/"
        },
        "id": "Ag_lyI8mzbqE",
        "outputId": "175e2e9a-2b94-4b87-b989-6dd5c5bafd1a"
      },
      "outputs": [
        {
          "data": {
            "text/plain": [
              "['is', 'this', 'the', 'realli', 'life', 'or', 'is', 'it', 'just', 'fantasi']"
            ]
          },
          "execution_count": 21,
          "metadata": {},
          "output_type": "execute_result"
        }
      ],
      "source": [
        "tokenize('Is this (the) really life, or is it just fantasy?')"
      ]
    },
    {
      "cell_type": "code",
      "execution_count": null,
      "metadata": {
        "colab": {
          "base_uri": "https://localhost:8080/"
        },
        "id": "x8GyvyWdQ7xA",
        "outputId": "cc5ab4ac-402c-44c4-db44-c8c84632d6e9"
      },
      "outputs": [
        {
          "name": "stderr",
          "output_type": "stream",
          "text": [
            "[nltk_data] Downloading package stopwords to /root/nltk_data...\n",
            "[nltk_data]   Unzipping corpora/stopwords.zip.\n"
          ]
        },
        {
          "data": {
            "text/plain": [
              "True"
            ]
          },
          "execution_count": 22,
          "metadata": {},
          "output_type": "execute_result"
        }
      ],
      "source": [
        "nltk.download('stopwords')"
      ]
    },
    {
      "cell_type": "code",
      "execution_count": null,
      "metadata": {
        "id": "meyRSZkhRIQR"
      },
      "outputs": [],
      "source": [
        "from nltk.corpus import stopwords"
      ]
    },
    {
      "cell_type": "code",
      "execution_count": null,
      "metadata": {
        "id": "wHTSjdHFSxM_"
      },
      "outputs": [],
      "source": [
        "english_stopwords = stopwords.words('english')"
      ]
    },
    {
      "cell_type": "code",
      "execution_count": null,
      "metadata": {
        "colab": {
          "base_uri": "https://localhost:8080/",
          "height": 122
        },
        "id": "qJkxE2ZuSbkn",
        "outputId": "c6d443f2-5513-408a-8351-ac2c7a5307be"
      },
      "outputs": [
        {
          "data": {
            "application/vnd.google.colaboratory.intrinsic+json": {
              "type": "string"
            },
            "text/plain": [
              "\"i, me, my, myself, we, our, ours, ourselves, you, you're, you've, you'll, you'd, your, yours, yourself, yourselves, he, him, his, himself, she, she's, her, hers, herself, it, it's, its, itself, they, them, their, theirs, themselves, what, which, who, whom, this, that, that'll, these, those, am, is, are, was, were, be, been, being, have, has, had, having, do, does, did, doing, a, an, the, and, but, if, or, because, as, until, while, of, at, by, for, with, about, against, between, into, through, during, before, after, above, below, to, from, up, down, in, out, on, off, over, under, again, further, then, once, here, there, when, where, why, how, all, any, both, each, few, more, most, other, some\""
            ]
          },
          "execution_count": 25,
          "metadata": {},
          "output_type": "execute_result"
        }
      ],
      "source": [
        "\", \".join(english_stopwords[:115])"
      ]
    },
    {
      "cell_type": "code",
      "execution_count": null,
      "metadata": {
        "id": "SmR_kpUfTxef"
      },
      "outputs": [],
      "source": [
        "selected_stopwords = english_stopwords[:115]"
      ]
    },
    {
      "cell_type": "code",
      "execution_count": null,
      "metadata": {
        "id": "4vzkmwVG0GGE"
      },
      "outputs": [],
      "source": [
        "from sklearn.feature_extraction.text import TfidfVectorizer"
      ]
    },
    {
      "cell_type": "code",
      "execution_count": null,
      "metadata": {
        "id": "DxZWPPfE0FeN"
      },
      "outputs": [],
      "source": [
        "vectorizer = TfidfVectorizer(tokenizer=tokenize,\n",
        "                             stop_words=selected_stopwords,\n",
        "                             ngram_range=(1, 2),\n",
        "                             max_features=2000)"
      ]
    },
    {
      "cell_type": "code",
      "execution_count": null,
      "metadata": {
        "colab": {
          "base_uri": "https://localhost:8080/"
        },
        "id": "ffPOWbhdd7oP",
        "outputId": "c92233e5-1292-45d3-9a0d-b511a8466138"
      },
      "outputs": [
        {
          "name": "stderr",
          "output_type": "stream",
          "text": [
            "/usr/local/lib/python3.7/dist-packages/sklearn/feature_extraction/text.py:517: UserWarning: The parameter 'token_pattern' will not be used since 'tokenizer' is not None'\n",
            "  \"The parameter 'token_pattern' will not be used\"\n",
            "/usr/local/lib/python3.7/dist-packages/sklearn/feature_extraction/text.py:401: UserWarning: Your stop_words may be inconsistent with your preprocessing. Tokenizing the stop words generated tokens ['abov', 'ani', 'becaus', 'befor', 'doe', 'dure', 'onc', 'ourselv', 'themselv', 'whi', 'yourselv'] not in stop_words.\n",
            "  % sorted(inconsistent)\n"
          ]
        },
        {
          "data": {
            "text/plain": [
              "TfidfVectorizer(max_features=2000, ngram_range=(1, 2),\n",
              "                stop_words=['i', 'me', 'my', 'myself', 'we', 'our', 'ours',\n",
              "                            'ourselves', 'you', \"you're\", \"you've\", \"you'll\",\n",
              "                            \"you'd\", 'your', 'yours', 'yourself', 'yourselves',\n",
              "                            'he', 'him', 'his', 'himself', 'she', \"she's\",\n",
              "                            'her', 'hers', 'herself', 'it', \"it's\", 'its',\n",
              "                            'itself', ...],\n",
              "                tokenizer=<function tokenize at 0x7fac2cb34710>)"
            ]
          },
          "execution_count": 29,
          "metadata": {},
          "output_type": "execute_result"
        }
      ],
      "source": [
        "vectorizer.fit(raw_df.Phrase)"
      ]
    },
    {
      "cell_type": "code",
      "execution_count": null,
      "metadata": {
        "colab": {
          "base_uri": "https://localhost:8080/"
        },
        "id": "Tp3P0zaw0ATc",
        "outputId": "cbb3bd23-2641-4a0c-84a6-baac69d41507"
      },
      "outputs": [
        {
          "data": {
            "text/plain": [
              "2000"
            ]
          },
          "execution_count": 30,
          "metadata": {},
          "output_type": "execute_result"
        }
      ],
      "source": [
        "len(vectorizer.vocabulary_)"
      ]
    },
    {
      "cell_type": "code",
      "execution_count": null,
      "metadata": {
        "colab": {
          "base_uri": "https://localhost:8080/"
        },
        "id": "aggX4uwmeswS",
        "outputId": "802f48ba-fe13-44cc-b3cb-7c8b7e2171d0"
      },
      "outputs": [
        {
          "data": {
            "text/plain": [
              "array(['abandon', 'abil', 'abl', 'abov', 'absolut', 'absorb', 'abstract',\n",
              "       'absurd', 'abus', 'accent', 'accept', 'access', 'accomplish',\n",
              "       'accur', 'ach', 'achiev', 'across', 'act', 'action', 'action film',\n",
              "       'action movi', 'action sequenc', 'actor', 'actress', 'actual',\n",
              "       'ad', 'adam', 'adam sandler', 'adapt', 'add', 'addit', 'adequ',\n",
              "       'admir', 'admit', 'adolesc', 'adult', 'adventur', 'affair',\n",
              "       'affect', 'afraid', 'age', 'ago', 'ahead', 'aim', 'aimless', 'air',\n",
              "       'alien', 'aliv', 'allen', 'allow', 'almost', 'alon', 'along',\n",
              "       'alreadi', 'also', 'altern', 'although', 'alway', 'amateurish',\n",
              "       'amaz', 'ambigu', 'ambit', 'ambiti', 'america', 'american',\n",
              "       'among', 'amount', 'amus', 'analyz', 'angel', 'angst', 'ani',\n",
              "       'anim', 'ann', 'annoy', 'anoth', 'answer', 'anyon', 'anyth',\n",
              "       'apart', 'appar', 'appeal', 'appear', 'appli', 'appreci',\n",
              "       'approach', 'appropri', 'area', 'argu', 'argument', 'around',\n",
              "       'arriv', 'art', 'artifici', 'artist', 'ask', 'aspect', 'aspir',\n",
              "       'assassin', 'associ', 'assur', 'astonish', 'atmospher', 'attack',\n",
              "       'attempt', 'attent', 'attract', 'audienc', 'authent', 'author',\n",
              "       'averag', 'avoid', 'aw', 'award', 'away', 'awkward', 'b', 'back',\n",
              "       'background', 'bad', 'bad movi', 'baffl', 'bag', 'balanc', 'banal',\n",
              "       'band', 'bare', 'barrel', 'barri', 'base', 'basic', 'battl',\n",
              "       'bear', 'beast', 'beat', 'beauti', 'becaus', 'becom', 'befor',\n",
              "       'begin', 'behavior', 'behind', 'believ', 'belli', 'belt',\n",
              "       'beneath', 'benefit', 'benigni', 'best', 'best film', 'better',\n",
              "       'better than', 'beyond', 'big', 'big screen', 'bigger', 'bill',\n",
              "       'bit', 'bite', 'bitter', 'bittersweet', 'bizarr', 'black', 'blade',\n",
              "       'blair', 'blair witch', 'bland', 'blank', 'blast', 'bleak',\n",
              "       'blend', 'blockbust', 'blood', 'blow', 'blue', 'boat', 'bodi',\n",
              "       'bold', 'bond', 'bone', 'book', 'border', 'bore', 'bother',\n",
              "       'bottom', 'box', 'boy', 'brain', 'break', 'breath', 'breathtak',\n",
              "       'bright', 'brilliant', 'bring', 'brit', 'british', 'britney',\n",
              "       'broad', 'broken', 'broomfield'], dtype=object)"
            ]
          },
          "execution_count": 31,
          "metadata": {},
          "output_type": "execute_result"
        }
      ],
      "source": [
        "vectorizer.get_feature_names_out()[:200]"
      ]
    },
    {
      "cell_type": "markdown",
      "metadata": {
        "id": "N83nLs4juO67"
      },
      "source": [
        "### Transform Training & Test Data\n",
        "\n",
        "* Transform phrases from training set\n",
        "* Transform phrases from test set\n",
        "* Look at some example values"
      ]
    },
    {
      "cell_type": "code",
      "execution_count": null,
      "metadata": {
        "colab": {
          "base_uri": "https://localhost:8080/",
          "height": 424
        },
        "id": "xEySXxMMuuFv",
        "outputId": "5bac3a50-523f-4f01-ea18-d16b2d2e5e93"
      },
      "outputs": [
        {
          "data": {
            "text/html": [
              "\n",
              "  <div id=\"df-8f19ff18-8e32-4e9e-bd05-a4d2e72e99dd\">\n",
              "    <div class=\"colab-df-container\">\n",
              "      <div>\n",
              "<style scoped>\n",
              "    .dataframe tbody tr th:only-of-type {\n",
              "        vertical-align: middle;\n",
              "    }\n",
              "\n",
              "    .dataframe tbody tr th {\n",
              "        vertical-align: top;\n",
              "    }\n",
              "\n",
              "    .dataframe thead th {\n",
              "        text-align: right;\n",
              "    }\n",
              "</style>\n",
              "<table border=\"1\" class=\"dataframe\">\n",
              "  <thead>\n",
              "    <tr style=\"text-align: right;\">\n",
              "      <th></th>\n",
              "      <th>PhraseId</th>\n",
              "      <th>SentenceId</th>\n",
              "      <th>Phrase</th>\n",
              "      <th>Sentiment</th>\n",
              "    </tr>\n",
              "  </thead>\n",
              "  <tbody>\n",
              "    <tr>\n",
              "      <th>0</th>\n",
              "      <td>1</td>\n",
              "      <td>1</td>\n",
              "      <td>A series of escapades demonstrating the adage ...</td>\n",
              "      <td>1</td>\n",
              "    </tr>\n",
              "    <tr>\n",
              "      <th>1</th>\n",
              "      <td>2</td>\n",
              "      <td>1</td>\n",
              "      <td>A series of escapades demonstrating the adage ...</td>\n",
              "      <td>2</td>\n",
              "    </tr>\n",
              "    <tr>\n",
              "      <th>2</th>\n",
              "      <td>3</td>\n",
              "      <td>1</td>\n",
              "      <td>A series</td>\n",
              "      <td>2</td>\n",
              "    </tr>\n",
              "    <tr>\n",
              "      <th>3</th>\n",
              "      <td>4</td>\n",
              "      <td>1</td>\n",
              "      <td>A</td>\n",
              "      <td>2</td>\n",
              "    </tr>\n",
              "    <tr>\n",
              "      <th>4</th>\n",
              "      <td>5</td>\n",
              "      <td>1</td>\n",
              "      <td>series</td>\n",
              "      <td>2</td>\n",
              "    </tr>\n",
              "    <tr>\n",
              "      <th>...</th>\n",
              "      <td>...</td>\n",
              "      <td>...</td>\n",
              "      <td>...</td>\n",
              "      <td>...</td>\n",
              "    </tr>\n",
              "    <tr>\n",
              "      <th>156055</th>\n",
              "      <td>156056</td>\n",
              "      <td>8544</td>\n",
              "      <td>Hearst 's</td>\n",
              "      <td>2</td>\n",
              "    </tr>\n",
              "    <tr>\n",
              "      <th>156056</th>\n",
              "      <td>156057</td>\n",
              "      <td>8544</td>\n",
              "      <td>forced avuncular chortles</td>\n",
              "      <td>1</td>\n",
              "    </tr>\n",
              "    <tr>\n",
              "      <th>156057</th>\n",
              "      <td>156058</td>\n",
              "      <td>8544</td>\n",
              "      <td>avuncular chortles</td>\n",
              "      <td>3</td>\n",
              "    </tr>\n",
              "    <tr>\n",
              "      <th>156058</th>\n",
              "      <td>156059</td>\n",
              "      <td>8544</td>\n",
              "      <td>avuncular</td>\n",
              "      <td>2</td>\n",
              "    </tr>\n",
              "    <tr>\n",
              "      <th>156059</th>\n",
              "      <td>156060</td>\n",
              "      <td>8544</td>\n",
              "      <td>chortles</td>\n",
              "      <td>2</td>\n",
              "    </tr>\n",
              "  </tbody>\n",
              "</table>\n",
              "<p>156060 rows × 4 columns</p>\n",
              "</div>\n",
              "      <button class=\"colab-df-convert\" onclick=\"convertToInteractive('df-8f19ff18-8e32-4e9e-bd05-a4d2e72e99dd')\"\n",
              "              title=\"Convert this dataframe to an interactive table.\"\n",
              "              style=\"display:none;\">\n",
              "        \n",
              "  <svg xmlns=\"http://www.w3.org/2000/svg\" height=\"24px\"viewBox=\"0 0 24 24\"\n",
              "       width=\"24px\">\n",
              "    <path d=\"M0 0h24v24H0V0z\" fill=\"none\"/>\n",
              "    <path d=\"M18.56 5.44l.94 2.06.94-2.06 2.06-.94-2.06-.94-.94-2.06-.94 2.06-2.06.94zm-11 1L8.5 8.5l.94-2.06 2.06-.94-2.06-.94L8.5 2.5l-.94 2.06-2.06.94zm10 10l.94 2.06.94-2.06 2.06-.94-2.06-.94-.94-2.06-.94 2.06-2.06.94z\"/><path d=\"M17.41 7.96l-1.37-1.37c-.4-.4-.92-.59-1.43-.59-.52 0-1.04.2-1.43.59L10.3 9.45l-7.72 7.72c-.78.78-.78 2.05 0 2.83L4 21.41c.39.39.9.59 1.41.59.51 0 1.02-.2 1.41-.59l7.78-7.78 2.81-2.81c.8-.78.8-2.07 0-2.86zM5.41 20L4 18.59l7.72-7.72 1.47 1.35L5.41 20z\"/>\n",
              "  </svg>\n",
              "      </button>\n",
              "      \n",
              "  <style>\n",
              "    .colab-df-container {\n",
              "      display:flex;\n",
              "      flex-wrap:wrap;\n",
              "      gap: 12px;\n",
              "    }\n",
              "\n",
              "    .colab-df-convert {\n",
              "      background-color: #E8F0FE;\n",
              "      border: none;\n",
              "      border-radius: 50%;\n",
              "      cursor: pointer;\n",
              "      display: none;\n",
              "      fill: #1967D2;\n",
              "      height: 32px;\n",
              "      padding: 0 0 0 0;\n",
              "      width: 32px;\n",
              "    }\n",
              "\n",
              "    .colab-df-convert:hover {\n",
              "      background-color: #E2EBFA;\n",
              "      box-shadow: 0px 1px 2px rgba(60, 64, 67, 0.3), 0px 1px 3px 1px rgba(60, 64, 67, 0.15);\n",
              "      fill: #174EA6;\n",
              "    }\n",
              "\n",
              "    [theme=dark] .colab-df-convert {\n",
              "      background-color: #3B4455;\n",
              "      fill: #D2E3FC;\n",
              "    }\n",
              "\n",
              "    [theme=dark] .colab-df-convert:hover {\n",
              "      background-color: #434B5C;\n",
              "      box-shadow: 0px 1px 3px 1px rgba(0, 0, 0, 0.15);\n",
              "      filter: drop-shadow(0px 1px 2px rgba(0, 0, 0, 0.3));\n",
              "      fill: #FFFFFF;\n",
              "    }\n",
              "  </style>\n",
              "\n",
              "      <script>\n",
              "        const buttonEl =\n",
              "          document.querySelector('#df-8f19ff18-8e32-4e9e-bd05-a4d2e72e99dd button.colab-df-convert');\n",
              "        buttonEl.style.display =\n",
              "          google.colab.kernel.accessAllowed ? 'block' : 'none';\n",
              "\n",
              "        async function convertToInteractive(key) {\n",
              "          const element = document.querySelector('#df-8f19ff18-8e32-4e9e-bd05-a4d2e72e99dd');\n",
              "          const dataTable =\n",
              "            await google.colab.kernel.invokeFunction('convertToInteractive',\n",
              "                                                     [key], {});\n",
              "          if (!dataTable) return;\n",
              "\n",
              "          const docLinkHtml = 'Like what you see? Visit the ' +\n",
              "            '<a target=\"_blank\" href=https://colab.research.google.com/notebooks/data_table.ipynb>data table notebook</a>'\n",
              "            + ' to learn more about interactive tables.';\n",
              "          element.innerHTML = '';\n",
              "          dataTable['output_type'] = 'display_data';\n",
              "          await google.colab.output.renderOutput(dataTable, element);\n",
              "          const docLink = document.createElement('div');\n",
              "          docLink.innerHTML = docLinkHtml;\n",
              "          element.appendChild(docLink);\n",
              "        }\n",
              "      </script>\n",
              "    </div>\n",
              "  </div>\n",
              "  "
            ],
            "text/plain": [
              "        PhraseId  SentenceId  \\\n",
              "0              1           1   \n",
              "1              2           1   \n",
              "2              3           1   \n",
              "3              4           1   \n",
              "4              5           1   \n",
              "...          ...         ...   \n",
              "156055    156056        8544   \n",
              "156056    156057        8544   \n",
              "156057    156058        8544   \n",
              "156058    156059        8544   \n",
              "156059    156060        8544   \n",
              "\n",
              "                                                   Phrase  Sentiment  \n",
              "0       A series of escapades demonstrating the adage ...          1  \n",
              "1       A series of escapades demonstrating the adage ...          2  \n",
              "2                                                A series          2  \n",
              "3                                                       A          2  \n",
              "4                                                  series          2  \n",
              "...                                                   ...        ...  \n",
              "156055                                          Hearst 's          2  \n",
              "156056                          forced avuncular chortles          1  \n",
              "156057                                 avuncular chortles          3  \n",
              "156058                                          avuncular          2  \n",
              "156059                                           chortles          2  \n",
              "\n",
              "[156060 rows x 4 columns]"
            ]
          },
          "execution_count": 32,
          "metadata": {},
          "output_type": "execute_result"
        }
      ],
      "source": [
        "raw_df"
      ]
    },
    {
      "cell_type": "code",
      "execution_count": null,
      "metadata": {
        "id": "B6WXWiQzuOcX"
      },
      "outputs": [],
      "source": [
        "inputs = vectorizer.transform(raw_df.Phrase)"
      ]
    },
    {
      "cell_type": "code",
      "execution_count": null,
      "metadata": {
        "colab": {
          "base_uri": "https://localhost:8080/"
        },
        "id": "0BDzHuBbuPSz",
        "outputId": "e1446147-e446-4b3d-dbee-49185acd22b0"
      },
      "outputs": [
        {
          "data": {
            "text/plain": [
              "(156060, 2000)"
            ]
          },
          "execution_count": 34,
          "metadata": {},
          "output_type": "execute_result"
        }
      ],
      "source": [
        "inputs.shape"
      ]
    },
    {
      "cell_type": "code",
      "execution_count": null,
      "metadata": {
        "colab": {
          "base_uri": "https://localhost:8080/"
        },
        "id": "sEnfZpS83eUr",
        "outputId": "7b57e8e8-9ad4-4e0b-9e50-3c1b6686a360"
      },
      "outputs": [
        {
          "data": {
            "text/plain": [
              "array([0.        , 0.        , 0.        , 0.        , 0.        ,\n",
              "       0.        , 0.        , 0.        , 0.        , 0.        ,\n",
              "       0.        , 0.        , 0.        , 0.        , 0.        ,\n",
              "       0.        , 0.        , 0.        , 0.        , 0.        ,\n",
              "       0.        , 0.        , 0.        , 0.        , 0.        ,\n",
              "       0.        , 0.        , 0.        , 0.        , 0.        ,\n",
              "       0.        , 0.        , 0.        , 0.        , 0.        ,\n",
              "       0.        , 0.        , 0.        , 0.        , 0.        ,\n",
              "       0.        , 0.        , 0.        , 0.        , 0.        ,\n",
              "       0.        , 0.        , 0.        , 0.        , 0.        ,\n",
              "       0.        , 0.        , 0.        , 0.        , 0.27620188,\n",
              "       0.        , 0.        , 0.        , 0.        , 0.        ,\n",
              "       0.        , 0.        , 0.        , 0.        , 0.        ,\n",
              "       0.        , 0.33022325, 0.29314979, 0.        , 0.        ,\n",
              "       0.        , 0.        , 0.        , 0.        , 0.        ,\n",
              "       0.        , 0.        , 0.        , 0.        , 0.        ,\n",
              "       0.        , 0.        , 0.        , 0.        , 0.        ,\n",
              "       0.        , 0.        , 0.        , 0.        , 0.        ,\n",
              "       0.        , 0.        , 0.        , 0.        , 0.        ,\n",
              "       0.        , 0.        , 0.        , 0.        , 0.        ])"
            ]
          },
          "execution_count": 35,
          "metadata": {},
          "output_type": "execute_result"
        }
      ],
      "source": [
        "inputs.toarray()[0][:100]"
      ]
    },
    {
      "cell_type": "code",
      "execution_count": null,
      "metadata": {
        "colab": {
          "base_uri": "https://localhost:8080/",
          "height": 424
        },
        "id": "cT0noJAwwQbr",
        "outputId": "d0b55e65-7344-4aab-8391-d562b5b2e8d6"
      },
      "outputs": [
        {
          "data": {
            "text/html": [
              "\n",
              "  <div id=\"df-c5912c18-256c-4eee-91cf-6cdb3bd2490f\">\n",
              "    <div class=\"colab-df-container\">\n",
              "      <div>\n",
              "<style scoped>\n",
              "    .dataframe tbody tr th:only-of-type {\n",
              "        vertical-align: middle;\n",
              "    }\n",
              "\n",
              "    .dataframe tbody tr th {\n",
              "        vertical-align: top;\n",
              "    }\n",
              "\n",
              "    .dataframe thead th {\n",
              "        text-align: right;\n",
              "    }\n",
              "</style>\n",
              "<table border=\"1\" class=\"dataframe\">\n",
              "  <thead>\n",
              "    <tr style=\"text-align: right;\">\n",
              "      <th></th>\n",
              "      <th>PhraseId</th>\n",
              "      <th>SentenceId</th>\n",
              "      <th>Phrase</th>\n",
              "    </tr>\n",
              "  </thead>\n",
              "  <tbody>\n",
              "    <tr>\n",
              "      <th>0</th>\n",
              "      <td>156061</td>\n",
              "      <td>8545</td>\n",
              "      <td>An intermittently pleasing but mostly routine ...</td>\n",
              "    </tr>\n",
              "    <tr>\n",
              "      <th>1</th>\n",
              "      <td>156062</td>\n",
              "      <td>8545</td>\n",
              "      <td>An intermittently pleasing but mostly routine ...</td>\n",
              "    </tr>\n",
              "    <tr>\n",
              "      <th>2</th>\n",
              "      <td>156063</td>\n",
              "      <td>8545</td>\n",
              "      <td>An</td>\n",
              "    </tr>\n",
              "    <tr>\n",
              "      <th>3</th>\n",
              "      <td>156064</td>\n",
              "      <td>8545</td>\n",
              "      <td>intermittently pleasing but mostly routine effort</td>\n",
              "    </tr>\n",
              "    <tr>\n",
              "      <th>4</th>\n",
              "      <td>156065</td>\n",
              "      <td>8545</td>\n",
              "      <td>intermittently pleasing but mostly routine</td>\n",
              "    </tr>\n",
              "    <tr>\n",
              "      <th>...</th>\n",
              "      <td>...</td>\n",
              "      <td>...</td>\n",
              "      <td>...</td>\n",
              "    </tr>\n",
              "    <tr>\n",
              "      <th>66287</th>\n",
              "      <td>222348</td>\n",
              "      <td>11855</td>\n",
              "      <td>A long-winded , predictable scenario .</td>\n",
              "    </tr>\n",
              "    <tr>\n",
              "      <th>66288</th>\n",
              "      <td>222349</td>\n",
              "      <td>11855</td>\n",
              "      <td>A long-winded , predictable scenario</td>\n",
              "    </tr>\n",
              "    <tr>\n",
              "      <th>66289</th>\n",
              "      <td>222350</td>\n",
              "      <td>11855</td>\n",
              "      <td>A long-winded ,</td>\n",
              "    </tr>\n",
              "    <tr>\n",
              "      <th>66290</th>\n",
              "      <td>222351</td>\n",
              "      <td>11855</td>\n",
              "      <td>A long-winded</td>\n",
              "    </tr>\n",
              "    <tr>\n",
              "      <th>66291</th>\n",
              "      <td>222352</td>\n",
              "      <td>11855</td>\n",
              "      <td>predictable scenario</td>\n",
              "    </tr>\n",
              "  </tbody>\n",
              "</table>\n",
              "<p>66292 rows × 3 columns</p>\n",
              "</div>\n",
              "      <button class=\"colab-df-convert\" onclick=\"convertToInteractive('df-c5912c18-256c-4eee-91cf-6cdb3bd2490f')\"\n",
              "              title=\"Convert this dataframe to an interactive table.\"\n",
              "              style=\"display:none;\">\n",
              "        \n",
              "  <svg xmlns=\"http://www.w3.org/2000/svg\" height=\"24px\"viewBox=\"0 0 24 24\"\n",
              "       width=\"24px\">\n",
              "    <path d=\"M0 0h24v24H0V0z\" fill=\"none\"/>\n",
              "    <path d=\"M18.56 5.44l.94 2.06.94-2.06 2.06-.94-2.06-.94-.94-2.06-.94 2.06-2.06.94zm-11 1L8.5 8.5l.94-2.06 2.06-.94-2.06-.94L8.5 2.5l-.94 2.06-2.06.94zm10 10l.94 2.06.94-2.06 2.06-.94-2.06-.94-.94-2.06-.94 2.06-2.06.94z\"/><path d=\"M17.41 7.96l-1.37-1.37c-.4-.4-.92-.59-1.43-.59-.52 0-1.04.2-1.43.59L10.3 9.45l-7.72 7.72c-.78.78-.78 2.05 0 2.83L4 21.41c.39.39.9.59 1.41.59.51 0 1.02-.2 1.41-.59l7.78-7.78 2.81-2.81c.8-.78.8-2.07 0-2.86zM5.41 20L4 18.59l7.72-7.72 1.47 1.35L5.41 20z\"/>\n",
              "  </svg>\n",
              "      </button>\n",
              "      \n",
              "  <style>\n",
              "    .colab-df-container {\n",
              "      display:flex;\n",
              "      flex-wrap:wrap;\n",
              "      gap: 12px;\n",
              "    }\n",
              "\n",
              "    .colab-df-convert {\n",
              "      background-color: #E8F0FE;\n",
              "      border: none;\n",
              "      border-radius: 50%;\n",
              "      cursor: pointer;\n",
              "      display: none;\n",
              "      fill: #1967D2;\n",
              "      height: 32px;\n",
              "      padding: 0 0 0 0;\n",
              "      width: 32px;\n",
              "    }\n",
              "\n",
              "    .colab-df-convert:hover {\n",
              "      background-color: #E2EBFA;\n",
              "      box-shadow: 0px 1px 2px rgba(60, 64, 67, 0.3), 0px 1px 3px 1px rgba(60, 64, 67, 0.15);\n",
              "      fill: #174EA6;\n",
              "    }\n",
              "\n",
              "    [theme=dark] .colab-df-convert {\n",
              "      background-color: #3B4455;\n",
              "      fill: #D2E3FC;\n",
              "    }\n",
              "\n",
              "    [theme=dark] .colab-df-convert:hover {\n",
              "      background-color: #434B5C;\n",
              "      box-shadow: 0px 1px 3px 1px rgba(0, 0, 0, 0.15);\n",
              "      filter: drop-shadow(0px 1px 2px rgba(0, 0, 0, 0.3));\n",
              "      fill: #FFFFFF;\n",
              "    }\n",
              "  </style>\n",
              "\n",
              "      <script>\n",
              "        const buttonEl =\n",
              "          document.querySelector('#df-c5912c18-256c-4eee-91cf-6cdb3bd2490f button.colab-df-convert');\n",
              "        buttonEl.style.display =\n",
              "          google.colab.kernel.accessAllowed ? 'block' : 'none';\n",
              "\n",
              "        async function convertToInteractive(key) {\n",
              "          const element = document.querySelector('#df-c5912c18-256c-4eee-91cf-6cdb3bd2490f');\n",
              "          const dataTable =\n",
              "            await google.colab.kernel.invokeFunction('convertToInteractive',\n",
              "                                                     [key], {});\n",
              "          if (!dataTable) return;\n",
              "\n",
              "          const docLinkHtml = 'Like what you see? Visit the ' +\n",
              "            '<a target=\"_blank\" href=https://colab.research.google.com/notebooks/data_table.ipynb>data table notebook</a>'\n",
              "            + ' to learn more about interactive tables.';\n",
              "          element.innerHTML = '';\n",
              "          dataTable['output_type'] = 'display_data';\n",
              "          await google.colab.output.renderOutput(dataTable, element);\n",
              "          const docLink = document.createElement('div');\n",
              "          docLink.innerHTML = docLinkHtml;\n",
              "          element.appendChild(docLink);\n",
              "        }\n",
              "      </script>\n",
              "    </div>\n",
              "  </div>\n",
              "  "
            ],
            "text/plain": [
              "       PhraseId  SentenceId                                             Phrase\n",
              "0        156061        8545  An intermittently pleasing but mostly routine ...\n",
              "1        156062        8545  An intermittently pleasing but mostly routine ...\n",
              "2        156063        8545                                                 An\n",
              "3        156064        8545  intermittently pleasing but mostly routine effort\n",
              "4        156065        8545         intermittently pleasing but mostly routine\n",
              "...         ...         ...                                                ...\n",
              "66287    222348       11855             A long-winded , predictable scenario .\n",
              "66288    222349       11855               A long-winded , predictable scenario\n",
              "66289    222350       11855                                    A long-winded ,\n",
              "66290    222351       11855                                      A long-winded\n",
              "66291    222352       11855                               predictable scenario\n",
              "\n",
              "[66292 rows x 3 columns]"
            ]
          },
          "execution_count": 36,
          "metadata": {},
          "output_type": "execute_result"
        }
      ],
      "source": [
        "test_df"
      ]
    },
    {
      "cell_type": "code",
      "execution_count": null,
      "metadata": {
        "id": "QLngc6g5yspe"
      },
      "outputs": [],
      "source": [
        "test_inputs = vectorizer.transform(test_df.Phrase)"
      ]
    },
    {
      "cell_type": "code",
      "execution_count": null,
      "metadata": {
        "colab": {
          "base_uri": "https://localhost:8080/"
        },
        "id": "z9JRRv_Q4QNf",
        "outputId": "a96c75bb-4ee1-49cc-da1c-58ae48ac6abc"
      },
      "outputs": [
        {
          "data": {
            "text/plain": [
              "(66292, 2000)"
            ]
          },
          "execution_count": 38,
          "metadata": {},
          "output_type": "execute_result"
        }
      ],
      "source": [
        "test_inputs.shape"
      ]
    },
    {
      "cell_type": "markdown",
      "metadata": {
        "id": "TwLM4r3EetEK"
      },
      "source": [
        "## Train Baseline Model & Submit to Kaggle\n",
        "\n",
        "1. Split training and validation sets\n",
        "2. Train logistic regression model\n",
        "3. Study predictions on sample phrases\n",
        "4. Make predictions and submit to Kaggle\n",
        "\n",
        "\n"
      ]
    },
    {
      "cell_type": "markdown",
      "metadata": {
        "id": "NAZkydfs4wrX"
      },
      "source": [
        "### Split Training and Validation Sets\n",
        "\n",
        "Tip: Don't use a random sample for validation set (why?)"
      ]
    },
    {
      "cell_type": "code",
      "execution_count": null,
      "metadata": {
        "colab": {
          "base_uri": "https://localhost:8080/",
          "height": 424
        },
        "id": "_9wZLI9i4rlB",
        "outputId": "33dd92c1-34b1-4010-a040-7aaa729b29ad"
      },
      "outputs": [
        {
          "data": {
            "text/html": [
              "\n",
              "  <div id=\"df-59fd6b58-a2f6-4cc7-8ab7-34c1f4ceed93\">\n",
              "    <div class=\"colab-df-container\">\n",
              "      <div>\n",
              "<style scoped>\n",
              "    .dataframe tbody tr th:only-of-type {\n",
              "        vertical-align: middle;\n",
              "    }\n",
              "\n",
              "    .dataframe tbody tr th {\n",
              "        vertical-align: top;\n",
              "    }\n",
              "\n",
              "    .dataframe thead th {\n",
              "        text-align: right;\n",
              "    }\n",
              "</style>\n",
              "<table border=\"1\" class=\"dataframe\">\n",
              "  <thead>\n",
              "    <tr style=\"text-align: right;\">\n",
              "      <th></th>\n",
              "      <th>PhraseId</th>\n",
              "      <th>SentenceId</th>\n",
              "      <th>Phrase</th>\n",
              "      <th>Sentiment</th>\n",
              "    </tr>\n",
              "  </thead>\n",
              "  <tbody>\n",
              "    <tr>\n",
              "      <th>0</th>\n",
              "      <td>1</td>\n",
              "      <td>1</td>\n",
              "      <td>A series of escapades demonstrating the adage ...</td>\n",
              "      <td>1</td>\n",
              "    </tr>\n",
              "    <tr>\n",
              "      <th>1</th>\n",
              "      <td>2</td>\n",
              "      <td>1</td>\n",
              "      <td>A series of escapades demonstrating the adage ...</td>\n",
              "      <td>2</td>\n",
              "    </tr>\n",
              "    <tr>\n",
              "      <th>2</th>\n",
              "      <td>3</td>\n",
              "      <td>1</td>\n",
              "      <td>A series</td>\n",
              "      <td>2</td>\n",
              "    </tr>\n",
              "    <tr>\n",
              "      <th>3</th>\n",
              "      <td>4</td>\n",
              "      <td>1</td>\n",
              "      <td>A</td>\n",
              "      <td>2</td>\n",
              "    </tr>\n",
              "    <tr>\n",
              "      <th>4</th>\n",
              "      <td>5</td>\n",
              "      <td>1</td>\n",
              "      <td>series</td>\n",
              "      <td>2</td>\n",
              "    </tr>\n",
              "    <tr>\n",
              "      <th>...</th>\n",
              "      <td>...</td>\n",
              "      <td>...</td>\n",
              "      <td>...</td>\n",
              "      <td>...</td>\n",
              "    </tr>\n",
              "    <tr>\n",
              "      <th>156055</th>\n",
              "      <td>156056</td>\n",
              "      <td>8544</td>\n",
              "      <td>Hearst 's</td>\n",
              "      <td>2</td>\n",
              "    </tr>\n",
              "    <tr>\n",
              "      <th>156056</th>\n",
              "      <td>156057</td>\n",
              "      <td>8544</td>\n",
              "      <td>forced avuncular chortles</td>\n",
              "      <td>1</td>\n",
              "    </tr>\n",
              "    <tr>\n",
              "      <th>156057</th>\n",
              "      <td>156058</td>\n",
              "      <td>8544</td>\n",
              "      <td>avuncular chortles</td>\n",
              "      <td>3</td>\n",
              "    </tr>\n",
              "    <tr>\n",
              "      <th>156058</th>\n",
              "      <td>156059</td>\n",
              "      <td>8544</td>\n",
              "      <td>avuncular</td>\n",
              "      <td>2</td>\n",
              "    </tr>\n",
              "    <tr>\n",
              "      <th>156059</th>\n",
              "      <td>156060</td>\n",
              "      <td>8544</td>\n",
              "      <td>chortles</td>\n",
              "      <td>2</td>\n",
              "    </tr>\n",
              "  </tbody>\n",
              "</table>\n",
              "<p>156060 rows × 4 columns</p>\n",
              "</div>\n",
              "      <button class=\"colab-df-convert\" onclick=\"convertToInteractive('df-59fd6b58-a2f6-4cc7-8ab7-34c1f4ceed93')\"\n",
              "              title=\"Convert this dataframe to an interactive table.\"\n",
              "              style=\"display:none;\">\n",
              "        \n",
              "  <svg xmlns=\"http://www.w3.org/2000/svg\" height=\"24px\"viewBox=\"0 0 24 24\"\n",
              "       width=\"24px\">\n",
              "    <path d=\"M0 0h24v24H0V0z\" fill=\"none\"/>\n",
              "    <path d=\"M18.56 5.44l.94 2.06.94-2.06 2.06-.94-2.06-.94-.94-2.06-.94 2.06-2.06.94zm-11 1L8.5 8.5l.94-2.06 2.06-.94-2.06-.94L8.5 2.5l-.94 2.06-2.06.94zm10 10l.94 2.06.94-2.06 2.06-.94-2.06-.94-.94-2.06-.94 2.06-2.06.94z\"/><path d=\"M17.41 7.96l-1.37-1.37c-.4-.4-.92-.59-1.43-.59-.52 0-1.04.2-1.43.59L10.3 9.45l-7.72 7.72c-.78.78-.78 2.05 0 2.83L4 21.41c.39.39.9.59 1.41.59.51 0 1.02-.2 1.41-.59l7.78-7.78 2.81-2.81c.8-.78.8-2.07 0-2.86zM5.41 20L4 18.59l7.72-7.72 1.47 1.35L5.41 20z\"/>\n",
              "  </svg>\n",
              "      </button>\n",
              "      \n",
              "  <style>\n",
              "    .colab-df-container {\n",
              "      display:flex;\n",
              "      flex-wrap:wrap;\n",
              "      gap: 12px;\n",
              "    }\n",
              "\n",
              "    .colab-df-convert {\n",
              "      background-color: #E8F0FE;\n",
              "      border: none;\n",
              "      border-radius: 50%;\n",
              "      cursor: pointer;\n",
              "      display: none;\n",
              "      fill: #1967D2;\n",
              "      height: 32px;\n",
              "      padding: 0 0 0 0;\n",
              "      width: 32px;\n",
              "    }\n",
              "\n",
              "    .colab-df-convert:hover {\n",
              "      background-color: #E2EBFA;\n",
              "      box-shadow: 0px 1px 2px rgba(60, 64, 67, 0.3), 0px 1px 3px 1px rgba(60, 64, 67, 0.15);\n",
              "      fill: #174EA6;\n",
              "    }\n",
              "\n",
              "    [theme=dark] .colab-df-convert {\n",
              "      background-color: #3B4455;\n",
              "      fill: #D2E3FC;\n",
              "    }\n",
              "\n",
              "    [theme=dark] .colab-df-convert:hover {\n",
              "      background-color: #434B5C;\n",
              "      box-shadow: 0px 1px 3px 1px rgba(0, 0, 0, 0.15);\n",
              "      filter: drop-shadow(0px 1px 2px rgba(0, 0, 0, 0.3));\n",
              "      fill: #FFFFFF;\n",
              "    }\n",
              "  </style>\n",
              "\n",
              "      <script>\n",
              "        const buttonEl =\n",
              "          document.querySelector('#df-59fd6b58-a2f6-4cc7-8ab7-34c1f4ceed93 button.colab-df-convert');\n",
              "        buttonEl.style.display =\n",
              "          google.colab.kernel.accessAllowed ? 'block' : 'none';\n",
              "\n",
              "        async function convertToInteractive(key) {\n",
              "          const element = document.querySelector('#df-59fd6b58-a2f6-4cc7-8ab7-34c1f4ceed93');\n",
              "          const dataTable =\n",
              "            await google.colab.kernel.invokeFunction('convertToInteractive',\n",
              "                                                     [key], {});\n",
              "          if (!dataTable) return;\n",
              "\n",
              "          const docLinkHtml = 'Like what you see? Visit the ' +\n",
              "            '<a target=\"_blank\" href=https://colab.research.google.com/notebooks/data_table.ipynb>data table notebook</a>'\n",
              "            + ' to learn more about interactive tables.';\n",
              "          element.innerHTML = '';\n",
              "          dataTable['output_type'] = 'display_data';\n",
              "          await google.colab.output.renderOutput(dataTable, element);\n",
              "          const docLink = document.createElement('div');\n",
              "          docLink.innerHTML = docLinkHtml;\n",
              "          element.appendChild(docLink);\n",
              "        }\n",
              "      </script>\n",
              "    </div>\n",
              "  </div>\n",
              "  "
            ],
            "text/plain": [
              "        PhraseId  SentenceId  \\\n",
              "0              1           1   \n",
              "1              2           1   \n",
              "2              3           1   \n",
              "3              4           1   \n",
              "4              5           1   \n",
              "...          ...         ...   \n",
              "156055    156056        8544   \n",
              "156056    156057        8544   \n",
              "156057    156058        8544   \n",
              "156058    156059        8544   \n",
              "156059    156060        8544   \n",
              "\n",
              "                                                   Phrase  Sentiment  \n",
              "0       A series of escapades demonstrating the adage ...          1  \n",
              "1       A series of escapades demonstrating the adage ...          2  \n",
              "2                                                A series          2  \n",
              "3                                                       A          2  \n",
              "4                                                  series          2  \n",
              "...                                                   ...        ...  \n",
              "156055                                          Hearst 's          2  \n",
              "156056                          forced avuncular chortles          1  \n",
              "156057                                 avuncular chortles          3  \n",
              "156058                                          avuncular          2  \n",
              "156059                                           chortles          2  \n",
              "\n",
              "[156060 rows x 4 columns]"
            ]
          },
          "execution_count": 39,
          "metadata": {},
          "output_type": "execute_result"
        }
      ],
      "source": [
        "raw_df"
      ]
    },
    {
      "cell_type": "code",
      "execution_count": null,
      "metadata": {
        "colab": {
          "base_uri": "https://localhost:8080/"
        },
        "id": "FnALsBHr4aQt",
        "outputId": "78db1301-5091-4237-e10d-5aad9a3b8ef0"
      },
      "outputs": [
        {
          "data": {
            "text/plain": [
              "<156060x2000 sparse matrix of type '<class 'numpy.float64'>'\n",
              "\twith 473102 stored elements in Compressed Sparse Row format>"
            ]
          },
          "execution_count": 40,
          "metadata": {},
          "output_type": "execute_result"
        }
      ],
      "source": [
        "inputs"
      ]
    },
    {
      "cell_type": "code",
      "execution_count": null,
      "metadata": {
        "id": "EF8dHyrF4S3R"
      },
      "outputs": [],
      "source": [
        "TRAIN_SIZE = 110_000"
      ]
    },
    {
      "cell_type": "code",
      "execution_count": null,
      "metadata": {
        "id": "-gVm5-Feyl75"
      },
      "outputs": [],
      "source": [
        "train_inputs = inputs[:TRAIN_SIZE]\n",
        "train_targets = raw_df.Sentiment[:TRAIN_SIZE]"
      ]
    },
    {
      "cell_type": "code",
      "execution_count": null,
      "metadata": {
        "colab": {
          "base_uri": "https://localhost:8080/"
        },
        "id": "JXg0N5Tset2n",
        "outputId": "9dde990a-4b2e-4a35-9f0c-e0da3dda0fbf"
      },
      "outputs": [
        {
          "data": {
            "text/plain": [
              "((110000, 2000), (110000,))"
            ]
          },
          "execution_count": 43,
          "metadata": {},
          "output_type": "execute_result"
        }
      ],
      "source": [
        "train_inputs.shape, train_targets.shape"
      ]
    },
    {
      "cell_type": "code",
      "execution_count": null,
      "metadata": {
        "id": "5-VO-Ad25CUt"
      },
      "outputs": [],
      "source": [
        "val_inputs = inputs[TRAIN_SIZE:]\n",
        "val_targets = raw_df.Sentiment[TRAIN_SIZE:]"
      ]
    },
    {
      "cell_type": "code",
      "execution_count": null,
      "metadata": {
        "colab": {
          "base_uri": "https://localhost:8080/"
        },
        "id": "T5IWqURF5ELL",
        "outputId": "d81a1bb9-9868-4d3b-b376-e3d3d4a5f6bc"
      },
      "outputs": [
        {
          "data": {
            "text/plain": [
              "((46060, 2000), (46060,))"
            ]
          },
          "execution_count": 45,
          "metadata": {},
          "output_type": "execute_result"
        }
      ],
      "source": [
        "val_inputs.shape, val_targets.shape"
      ]
    },
    {
      "cell_type": "markdown",
      "metadata": {
        "id": "DHoTrGTM5Bo9"
      },
      "source": [
        "### Train Logistic Regression Model\n",
        "\n"
      ]
    },
    {
      "cell_type": "code",
      "execution_count": null,
      "metadata": {
        "id": "jEHCuRAt7swN"
      },
      "outputs": [],
      "source": [
        "from sklearn.linear_model import LogisticRegression"
      ]
    },
    {
      "cell_type": "code",
      "execution_count": null,
      "metadata": {
        "id": "7klXZoh-7st2"
      },
      "outputs": [],
      "source": [
        "model = LogisticRegression()"
      ]
    },
    {
      "cell_type": "code",
      "execution_count": null,
      "metadata": {
        "colab": {
          "base_uri": "https://localhost:8080/"
        },
        "id": "THyNzV9J7srO",
        "outputId": "197a625c-df7e-4551-b23e-cfa72eb839f6"
      },
      "outputs": [
        {
          "name": "stderr",
          "output_type": "stream",
          "text": [
            "/usr/local/lib/python3.7/dist-packages/sklearn/linear_model/_logistic.py:818: ConvergenceWarning: lbfgs failed to converge (status=1):\n",
            "STOP: TOTAL NO. of ITERATIONS REACHED LIMIT.\n",
            "\n",
            "Increase the number of iterations (max_iter) or scale the data as shown in:\n",
            "    https://scikit-learn.org/stable/modules/preprocessing.html\n",
            "Please also refer to the documentation for alternative solver options:\n",
            "    https://scikit-learn.org/stable/modules/linear_model.html#logistic-regression\n",
            "  extra_warning_msg=_LOGISTIC_SOLVER_CONVERGENCE_MSG,\n"
          ]
        },
        {
          "data": {
            "text/plain": [
              "LogisticRegression()"
            ]
          },
          "execution_count": 48,
          "metadata": {},
          "output_type": "execute_result"
        }
      ],
      "source": [
        "model.fit(train_inputs, train_targets)"
      ]
    },
    {
      "cell_type": "code",
      "execution_count": null,
      "metadata": {
        "id": "qQ0HAnwP8k1S"
      },
      "outputs": [],
      "source": [
        "train_preds = model.predict(train_inputs)"
      ]
    },
    {
      "cell_type": "code",
      "execution_count": null,
      "metadata": {
        "colab": {
          "base_uri": "https://localhost:8080/"
        },
        "id": "6KG3JeiM0ONy",
        "outputId": "16a8750b-b8ad-475a-a228-4c86969d0039"
      },
      "outputs": [
        {
          "data": {
            "text/plain": [
              "0         1\n",
              "1         2\n",
              "2         2\n",
              "3         2\n",
              "4         2\n",
              "         ..\n",
              "109995    1\n",
              "109996    0\n",
              "109997    1\n",
              "109998    0\n",
              "109999    2\n",
              "Name: Sentiment, Length: 110000, dtype: int64"
            ]
          },
          "execution_count": 50,
          "metadata": {},
          "output_type": "execute_result"
        }
      ],
      "source": [
        "train_targets"
      ]
    },
    {
      "cell_type": "code",
      "execution_count": null,
      "metadata": {
        "colab": {
          "base_uri": "https://localhost:8080/"
        },
        "id": "TFXjhxfS70Ny",
        "outputId": "ade45bbf-2c66-47ba-bedf-baeb5dd58133"
      },
      "outputs": [
        {
          "data": {
            "text/plain": [
              "array([3, 2, 2, ..., 0, 0, 2])"
            ]
          },
          "execution_count": 51,
          "metadata": {},
          "output_type": "execute_result"
        }
      ],
      "source": [
        "train_preds"
      ]
    },
    {
      "cell_type": "code",
      "execution_count": null,
      "metadata": {
        "id": "lT_-tby27so2"
      },
      "outputs": [],
      "source": [
        "from sklearn.metrics import accuracy_score"
      ]
    },
    {
      "cell_type": "code",
      "execution_count": null,
      "metadata": {
        "colab": {
          "base_uri": "https://localhost:8080/"
        },
        "id": "lKraUQ2k0omQ",
        "outputId": "b4a673cd-c23a-4f2f-c15b-33ce2feef7c8"
      },
      "outputs": [
        {
          "data": {
            "text/plain": [
              "0.6381818181818182"
            ]
          },
          "execution_count": 53,
          "metadata": {},
          "output_type": "execute_result"
        }
      ],
      "source": [
        "accuracy_score(train_targets, train_preds)"
      ]
    },
    {
      "cell_type": "code",
      "execution_count": null,
      "metadata": {
        "id": "9REmRH8O07eG"
      },
      "outputs": [],
      "source": [
        "val_preds = model.predict(val_inputs)"
      ]
    },
    {
      "cell_type": "code",
      "execution_count": null,
      "metadata": {
        "colab": {
          "base_uri": "https://localhost:8080/"
        },
        "id": "hji22pOB1IeD",
        "outputId": "a35641df-4c6c-4eef-cf5c-fdde00aa38bb"
      },
      "outputs": [
        {
          "data": {
            "text/plain": [
              "0.5795049934867564"
            ]
          },
          "execution_count": 55,
          "metadata": {},
          "output_type": "execute_result"
        }
      ],
      "source": [
        "accuracy_score(val_targets, val_preds)"
      ]
    },
    {
      "cell_type": "markdown",
      "metadata": {
        "id": "RS2HgpkL_J0G"
      },
      "source": [
        "### Study Predictions on Sample Inputs"
      ]
    },
    {
      "cell_type": "code",
      "execution_count": null,
      "metadata": {
        "id": "Kvb-G3EU-3sD"
      },
      "outputs": [],
      "source": [
        "small_df = raw_df.sample(20)"
      ]
    },
    {
      "cell_type": "code",
      "execution_count": null,
      "metadata": {
        "colab": {
          "base_uri": "https://localhost:8080/",
          "height": 677
        },
        "id": "96pSFU6Q-3m_",
        "outputId": "4477ea83-21c5-4b47-f794-c5f9aeab1b44"
      },
      "outputs": [
        {
          "data": {
            "text/html": [
              "\n",
              "  <div id=\"df-a9405107-76cf-40ba-ae10-a3d4cf655ebe\">\n",
              "    <div class=\"colab-df-container\">\n",
              "      <div>\n",
              "<style scoped>\n",
              "    .dataframe tbody tr th:only-of-type {\n",
              "        vertical-align: middle;\n",
              "    }\n",
              "\n",
              "    .dataframe tbody tr th {\n",
              "        vertical-align: top;\n",
              "    }\n",
              "\n",
              "    .dataframe thead th {\n",
              "        text-align: right;\n",
              "    }\n",
              "</style>\n",
              "<table border=\"1\" class=\"dataframe\">\n",
              "  <thead>\n",
              "    <tr style=\"text-align: right;\">\n",
              "      <th></th>\n",
              "      <th>PhraseId</th>\n",
              "      <th>SentenceId</th>\n",
              "      <th>Phrase</th>\n",
              "      <th>Sentiment</th>\n",
              "    </tr>\n",
              "  </thead>\n",
              "  <tbody>\n",
              "    <tr>\n",
              "      <th>99647</th>\n",
              "      <td>99648</td>\n",
              "      <td>5227</td>\n",
              "      <td>casting excellent Latin actors of all ages --</td>\n",
              "      <td>4</td>\n",
              "    </tr>\n",
              "    <tr>\n",
              "      <th>78107</th>\n",
              "      <td>78108</td>\n",
              "      <td>4020</td>\n",
              "      <td>'s been 13 months and 295 preview screenings s...</td>\n",
              "      <td>0</td>\n",
              "    </tr>\n",
              "    <tr>\n",
              "      <th>97137</th>\n",
              "      <td>97138</td>\n",
              "      <td>5079</td>\n",
              "      <td>Nicks</td>\n",
              "      <td>2</td>\n",
              "    </tr>\n",
              "    <tr>\n",
              "      <th>48966</th>\n",
              "      <td>48967</td>\n",
              "      <td>2390</td>\n",
              "      <td>it can only encourage us to see Samira Makhmal...</td>\n",
              "      <td>3</td>\n",
              "    </tr>\n",
              "    <tr>\n",
              "      <th>79198</th>\n",
              "      <td>79199</td>\n",
              "      <td>4079</td>\n",
              "      <td>surprisingly sensitive script co-written</td>\n",
              "      <td>3</td>\n",
              "    </tr>\n",
              "    <tr>\n",
              "      <th>21323</th>\n",
              "      <td>21324</td>\n",
              "      <td>953</td>\n",
              "      <td>have worn threadbare .</td>\n",
              "      <td>0</td>\n",
              "    </tr>\n",
              "    <tr>\n",
              "      <th>31590</th>\n",
              "      <td>31591</td>\n",
              "      <td>1479</td>\n",
              "      <td>other flicks</td>\n",
              "      <td>2</td>\n",
              "    </tr>\n",
              "    <tr>\n",
              "      <th>130607</th>\n",
              "      <td>130608</td>\n",
              "      <td>7037</td>\n",
              "      <td>same message</td>\n",
              "      <td>2</td>\n",
              "    </tr>\n",
              "    <tr>\n",
              "      <th>65186</th>\n",
              "      <td>65187</td>\n",
              "      <td>3299</td>\n",
              "      <td>His work with actors</td>\n",
              "      <td>2</td>\n",
              "    </tr>\n",
              "    <tr>\n",
              "      <th>111454</th>\n",
              "      <td>111455</td>\n",
              "      <td>5912</td>\n",
              "      <td>nearly as graphic but</td>\n",
              "      <td>2</td>\n",
              "    </tr>\n",
              "    <tr>\n",
              "      <th>155713</th>\n",
              "      <td>155714</td>\n",
              "      <td>8523</td>\n",
              "      <td>sets a new benchmark for lameness .</td>\n",
              "      <td>0</td>\n",
              "    </tr>\n",
              "    <tr>\n",
              "      <th>38464</th>\n",
              "      <td>38465</td>\n",
              "      <td>1832</td>\n",
              "      <td>some major alterations</td>\n",
              "      <td>3</td>\n",
              "    </tr>\n",
              "    <tr>\n",
              "      <th>143353</th>\n",
              "      <td>143354</td>\n",
              "      <td>7781</td>\n",
              "      <td>deadpan cool , wry humor and</td>\n",
              "      <td>3</td>\n",
              "    </tr>\n",
              "    <tr>\n",
              "      <th>66283</th>\n",
              "      <td>66284</td>\n",
              "      <td>3362</td>\n",
              "      <td>It 's never laugh-out-loud funny , but it is f...</td>\n",
              "      <td>3</td>\n",
              "    </tr>\n",
              "    <tr>\n",
              "      <th>87329</th>\n",
              "      <td>87330</td>\n",
              "      <td>4529</td>\n",
              "      <td>a kinetic life</td>\n",
              "      <td>2</td>\n",
              "    </tr>\n",
              "    <tr>\n",
              "      <th>123326</th>\n",
              "      <td>123327</td>\n",
              "      <td>6619</td>\n",
              "      <td>, that 'll be much funnier than anything in th...</td>\n",
              "      <td>1</td>\n",
              "    </tr>\n",
              "    <tr>\n",
              "      <th>138842</th>\n",
              "      <td>138843</td>\n",
              "      <td>7525</td>\n",
              "      <td>this woefully hackneyed movie , directed by Sc...</td>\n",
              "      <td>0</td>\n",
              "    </tr>\n",
              "    <tr>\n",
              "      <th>52228</th>\n",
              "      <td>52229</td>\n",
              "      <td>2579</td>\n",
              "      <td>shout about</td>\n",
              "      <td>2</td>\n",
              "    </tr>\n",
              "    <tr>\n",
              "      <th>33991</th>\n",
              "      <td>33992</td>\n",
              "      <td>1597</td>\n",
              "      <td>not the Craven of ' A Nightmare on Elm Street ...</td>\n",
              "      <td>2</td>\n",
              "    </tr>\n",
              "    <tr>\n",
              "      <th>28226</th>\n",
              "      <td>28227</td>\n",
              "      <td>1299</td>\n",
              "      <td>real raw emotion</td>\n",
              "      <td>3</td>\n",
              "    </tr>\n",
              "  </tbody>\n",
              "</table>\n",
              "</div>\n",
              "      <button class=\"colab-df-convert\" onclick=\"convertToInteractive('df-a9405107-76cf-40ba-ae10-a3d4cf655ebe')\"\n",
              "              title=\"Convert this dataframe to an interactive table.\"\n",
              "              style=\"display:none;\">\n",
              "        \n",
              "  <svg xmlns=\"http://www.w3.org/2000/svg\" height=\"24px\"viewBox=\"0 0 24 24\"\n",
              "       width=\"24px\">\n",
              "    <path d=\"M0 0h24v24H0V0z\" fill=\"none\"/>\n",
              "    <path d=\"M18.56 5.44l.94 2.06.94-2.06 2.06-.94-2.06-.94-.94-2.06-.94 2.06-2.06.94zm-11 1L8.5 8.5l.94-2.06 2.06-.94-2.06-.94L8.5 2.5l-.94 2.06-2.06.94zm10 10l.94 2.06.94-2.06 2.06-.94-2.06-.94-.94-2.06-.94 2.06-2.06.94z\"/><path d=\"M17.41 7.96l-1.37-1.37c-.4-.4-.92-.59-1.43-.59-.52 0-1.04.2-1.43.59L10.3 9.45l-7.72 7.72c-.78.78-.78 2.05 0 2.83L4 21.41c.39.39.9.59 1.41.59.51 0 1.02-.2 1.41-.59l7.78-7.78 2.81-2.81c.8-.78.8-2.07 0-2.86zM5.41 20L4 18.59l7.72-7.72 1.47 1.35L5.41 20z\"/>\n",
              "  </svg>\n",
              "      </button>\n",
              "      \n",
              "  <style>\n",
              "    .colab-df-container {\n",
              "      display:flex;\n",
              "      flex-wrap:wrap;\n",
              "      gap: 12px;\n",
              "    }\n",
              "\n",
              "    .colab-df-convert {\n",
              "      background-color: #E8F0FE;\n",
              "      border: none;\n",
              "      border-radius: 50%;\n",
              "      cursor: pointer;\n",
              "      display: none;\n",
              "      fill: #1967D2;\n",
              "      height: 32px;\n",
              "      padding: 0 0 0 0;\n",
              "      width: 32px;\n",
              "    }\n",
              "\n",
              "    .colab-df-convert:hover {\n",
              "      background-color: #E2EBFA;\n",
              "      box-shadow: 0px 1px 2px rgba(60, 64, 67, 0.3), 0px 1px 3px 1px rgba(60, 64, 67, 0.15);\n",
              "      fill: #174EA6;\n",
              "    }\n",
              "\n",
              "    [theme=dark] .colab-df-convert {\n",
              "      background-color: #3B4455;\n",
              "      fill: #D2E3FC;\n",
              "    }\n",
              "\n",
              "    [theme=dark] .colab-df-convert:hover {\n",
              "      background-color: #434B5C;\n",
              "      box-shadow: 0px 1px 3px 1px rgba(0, 0, 0, 0.15);\n",
              "      filter: drop-shadow(0px 1px 2px rgba(0, 0, 0, 0.3));\n",
              "      fill: #FFFFFF;\n",
              "    }\n",
              "  </style>\n",
              "\n",
              "      <script>\n",
              "        const buttonEl =\n",
              "          document.querySelector('#df-a9405107-76cf-40ba-ae10-a3d4cf655ebe button.colab-df-convert');\n",
              "        buttonEl.style.display =\n",
              "          google.colab.kernel.accessAllowed ? 'block' : 'none';\n",
              "\n",
              "        async function convertToInteractive(key) {\n",
              "          const element = document.querySelector('#df-a9405107-76cf-40ba-ae10-a3d4cf655ebe');\n",
              "          const dataTable =\n",
              "            await google.colab.kernel.invokeFunction('convertToInteractive',\n",
              "                                                     [key], {});\n",
              "          if (!dataTable) return;\n",
              "\n",
              "          const docLinkHtml = 'Like what you see? Visit the ' +\n",
              "            '<a target=\"_blank\" href=https://colab.research.google.com/notebooks/data_table.ipynb>data table notebook</a>'\n",
              "            + ' to learn more about interactive tables.';\n",
              "          element.innerHTML = '';\n",
              "          dataTable['output_type'] = 'display_data';\n",
              "          await google.colab.output.renderOutput(dataTable, element);\n",
              "          const docLink = document.createElement('div');\n",
              "          docLink.innerHTML = docLinkHtml;\n",
              "          element.appendChild(docLink);\n",
              "        }\n",
              "      </script>\n",
              "    </div>\n",
              "  </div>\n",
              "  "
            ],
            "text/plain": [
              "        PhraseId  SentenceId  \\\n",
              "99647      99648        5227   \n",
              "78107      78108        4020   \n",
              "97137      97138        5079   \n",
              "48966      48967        2390   \n",
              "79198      79199        4079   \n",
              "21323      21324         953   \n",
              "31590      31591        1479   \n",
              "130607    130608        7037   \n",
              "65186      65187        3299   \n",
              "111454    111455        5912   \n",
              "155713    155714        8523   \n",
              "38464      38465        1832   \n",
              "143353    143354        7781   \n",
              "66283      66284        3362   \n",
              "87329      87330        4529   \n",
              "123326    123327        6619   \n",
              "138842    138843        7525   \n",
              "52228      52229        2579   \n",
              "33991      33992        1597   \n",
              "28226      28227        1299   \n",
              "\n",
              "                                                   Phrase  Sentiment  \n",
              "99647       casting excellent Latin actors of all ages --          4  \n",
              "78107   's been 13 months and 295 preview screenings s...          0  \n",
              "97137                                               Nicks          2  \n",
              "48966   it can only encourage us to see Samira Makhmal...          3  \n",
              "79198            surprisingly sensitive script co-written          3  \n",
              "21323                              have worn threadbare .          0  \n",
              "31590                                        other flicks          2  \n",
              "130607                                       same message          2  \n",
              "65186                                His work with actors          2  \n",
              "111454                              nearly as graphic but          2  \n",
              "155713                sets a new benchmark for lameness .          0  \n",
              "38464                              some major alterations          3  \n",
              "143353                       deadpan cool , wry humor and          3  \n",
              "66283   It 's never laugh-out-loud funny , but it is f...          3  \n",
              "87329                                      a kinetic life          2  \n",
              "123326  , that 'll be much funnier than anything in th...          1  \n",
              "138842  this woefully hackneyed movie , directed by Sc...          0  \n",
              "52228                                         shout about          2  \n",
              "33991   not the Craven of ' A Nightmare on Elm Street ...          2  \n",
              "28226                                    real raw emotion          3  "
            ]
          },
          "execution_count": 57,
          "metadata": {},
          "output_type": "execute_result"
        }
      ],
      "source": [
        "small_df"
      ]
    },
    {
      "cell_type": "code",
      "execution_count": null,
      "metadata": {
        "id": "FRlyVDpu_ARh"
      },
      "outputs": [],
      "source": [
        "small_inputs = vectorizer.transform(small_df.Phrase)"
      ]
    },
    {
      "cell_type": "code",
      "execution_count": null,
      "metadata": {
        "colab": {
          "base_uri": "https://localhost:8080/"
        },
        "id": "SVX3fbskDyGs",
        "outputId": "01677855-1d87-4c9b-8111-121e82c53c0b"
      },
      "outputs": [
        {
          "data": {
            "text/plain": [
              "(20, 2000)"
            ]
          },
          "execution_count": 59,
          "metadata": {},
          "output_type": "execute_result"
        }
      ],
      "source": [
        "small_inputs.shape"
      ]
    },
    {
      "cell_type": "code",
      "execution_count": null,
      "metadata": {
        "id": "uUgkh-zfD1HI"
      },
      "outputs": [],
      "source": [
        "small_preds = model.predict(small_inputs)"
      ]
    },
    {
      "cell_type": "code",
      "execution_count": null,
      "metadata": {
        "colab": {
          "base_uri": "https://localhost:8080/"
        },
        "id": "urtcbsfd_AO0",
        "outputId": "579ad189-55b6-4887-9d79-61291100aaa3"
      },
      "outputs": [
        {
          "data": {
            "text/plain": [
              "array([4, 2, 2, 3, 3, 2, 2, 2, 2, 2, 1, 2, 3, 3, 2, 2, 1, 2, 2, 3])"
            ]
          },
          "execution_count": 61,
          "metadata": {},
          "output_type": "execute_result"
        }
      ],
      "source": [
        "small_preds"
      ]
    },
    {
      "cell_type": "markdown",
      "metadata": {
        "id": "HkiqfeBneyth"
      },
      "source": [
        "### Make Predictions & Submit to Kaggle\n",
        "\n",
        "1. Make predictions on Test Dataset\n",
        "2. Generate & submit CSV on Kaggle\n",
        "3. Add screenshot of your score\n",
        "\n"
      ]
    },
    {
      "cell_type": "code",
      "execution_count": null,
      "metadata": {
        "colab": {
          "base_uri": "https://localhost:8080/",
          "height": 424
        },
        "id": "jz8W9Nnce31g",
        "outputId": "b7e7a4a5-3e62-4886-f84c-ae52353bd91a"
      },
      "outputs": [
        {
          "data": {
            "text/html": [
              "\n",
              "  <div id=\"df-cd487dae-170d-4cf3-921b-5d8f0c909a47\">\n",
              "    <div class=\"colab-df-container\">\n",
              "      <div>\n",
              "<style scoped>\n",
              "    .dataframe tbody tr th:only-of-type {\n",
              "        vertical-align: middle;\n",
              "    }\n",
              "\n",
              "    .dataframe tbody tr th {\n",
              "        vertical-align: top;\n",
              "    }\n",
              "\n",
              "    .dataframe thead th {\n",
              "        text-align: right;\n",
              "    }\n",
              "</style>\n",
              "<table border=\"1\" class=\"dataframe\">\n",
              "  <thead>\n",
              "    <tr style=\"text-align: right;\">\n",
              "      <th></th>\n",
              "      <th>PhraseId</th>\n",
              "      <th>SentenceId</th>\n",
              "      <th>Phrase</th>\n",
              "    </tr>\n",
              "  </thead>\n",
              "  <tbody>\n",
              "    <tr>\n",
              "      <th>0</th>\n",
              "      <td>156061</td>\n",
              "      <td>8545</td>\n",
              "      <td>An intermittently pleasing but mostly routine ...</td>\n",
              "    </tr>\n",
              "    <tr>\n",
              "      <th>1</th>\n",
              "      <td>156062</td>\n",
              "      <td>8545</td>\n",
              "      <td>An intermittently pleasing but mostly routine ...</td>\n",
              "    </tr>\n",
              "    <tr>\n",
              "      <th>2</th>\n",
              "      <td>156063</td>\n",
              "      <td>8545</td>\n",
              "      <td>An</td>\n",
              "    </tr>\n",
              "    <tr>\n",
              "      <th>3</th>\n",
              "      <td>156064</td>\n",
              "      <td>8545</td>\n",
              "      <td>intermittently pleasing but mostly routine effort</td>\n",
              "    </tr>\n",
              "    <tr>\n",
              "      <th>4</th>\n",
              "      <td>156065</td>\n",
              "      <td>8545</td>\n",
              "      <td>intermittently pleasing but mostly routine</td>\n",
              "    </tr>\n",
              "    <tr>\n",
              "      <th>...</th>\n",
              "      <td>...</td>\n",
              "      <td>...</td>\n",
              "      <td>...</td>\n",
              "    </tr>\n",
              "    <tr>\n",
              "      <th>66287</th>\n",
              "      <td>222348</td>\n",
              "      <td>11855</td>\n",
              "      <td>A long-winded , predictable scenario .</td>\n",
              "    </tr>\n",
              "    <tr>\n",
              "      <th>66288</th>\n",
              "      <td>222349</td>\n",
              "      <td>11855</td>\n",
              "      <td>A long-winded , predictable scenario</td>\n",
              "    </tr>\n",
              "    <tr>\n",
              "      <th>66289</th>\n",
              "      <td>222350</td>\n",
              "      <td>11855</td>\n",
              "      <td>A long-winded ,</td>\n",
              "    </tr>\n",
              "    <tr>\n",
              "      <th>66290</th>\n",
              "      <td>222351</td>\n",
              "      <td>11855</td>\n",
              "      <td>A long-winded</td>\n",
              "    </tr>\n",
              "    <tr>\n",
              "      <th>66291</th>\n",
              "      <td>222352</td>\n",
              "      <td>11855</td>\n",
              "      <td>predictable scenario</td>\n",
              "    </tr>\n",
              "  </tbody>\n",
              "</table>\n",
              "<p>66292 rows × 3 columns</p>\n",
              "</div>\n",
              "      <button class=\"colab-df-convert\" onclick=\"convertToInteractive('df-cd487dae-170d-4cf3-921b-5d8f0c909a47')\"\n",
              "              title=\"Convert this dataframe to an interactive table.\"\n",
              "              style=\"display:none;\">\n",
              "        \n",
              "  <svg xmlns=\"http://www.w3.org/2000/svg\" height=\"24px\"viewBox=\"0 0 24 24\"\n",
              "       width=\"24px\">\n",
              "    <path d=\"M0 0h24v24H0V0z\" fill=\"none\"/>\n",
              "    <path d=\"M18.56 5.44l.94 2.06.94-2.06 2.06-.94-2.06-.94-.94-2.06-.94 2.06-2.06.94zm-11 1L8.5 8.5l.94-2.06 2.06-.94-2.06-.94L8.5 2.5l-.94 2.06-2.06.94zm10 10l.94 2.06.94-2.06 2.06-.94-2.06-.94-.94-2.06-.94 2.06-2.06.94z\"/><path d=\"M17.41 7.96l-1.37-1.37c-.4-.4-.92-.59-1.43-.59-.52 0-1.04.2-1.43.59L10.3 9.45l-7.72 7.72c-.78.78-.78 2.05 0 2.83L4 21.41c.39.39.9.59 1.41.59.51 0 1.02-.2 1.41-.59l7.78-7.78 2.81-2.81c.8-.78.8-2.07 0-2.86zM5.41 20L4 18.59l7.72-7.72 1.47 1.35L5.41 20z\"/>\n",
              "  </svg>\n",
              "      </button>\n",
              "      \n",
              "  <style>\n",
              "    .colab-df-container {\n",
              "      display:flex;\n",
              "      flex-wrap:wrap;\n",
              "      gap: 12px;\n",
              "    }\n",
              "\n",
              "    .colab-df-convert {\n",
              "      background-color: #E8F0FE;\n",
              "      border: none;\n",
              "      border-radius: 50%;\n",
              "      cursor: pointer;\n",
              "      display: none;\n",
              "      fill: #1967D2;\n",
              "      height: 32px;\n",
              "      padding: 0 0 0 0;\n",
              "      width: 32px;\n",
              "    }\n",
              "\n",
              "    .colab-df-convert:hover {\n",
              "      background-color: #E2EBFA;\n",
              "      box-shadow: 0px 1px 2px rgba(60, 64, 67, 0.3), 0px 1px 3px 1px rgba(60, 64, 67, 0.15);\n",
              "      fill: #174EA6;\n",
              "    }\n",
              "\n",
              "    [theme=dark] .colab-df-convert {\n",
              "      background-color: #3B4455;\n",
              "      fill: #D2E3FC;\n",
              "    }\n",
              "\n",
              "    [theme=dark] .colab-df-convert:hover {\n",
              "      background-color: #434B5C;\n",
              "      box-shadow: 0px 1px 3px 1px rgba(0, 0, 0, 0.15);\n",
              "      filter: drop-shadow(0px 1px 2px rgba(0, 0, 0, 0.3));\n",
              "      fill: #FFFFFF;\n",
              "    }\n",
              "  </style>\n",
              "\n",
              "      <script>\n",
              "        const buttonEl =\n",
              "          document.querySelector('#df-cd487dae-170d-4cf3-921b-5d8f0c909a47 button.colab-df-convert');\n",
              "        buttonEl.style.display =\n",
              "          google.colab.kernel.accessAllowed ? 'block' : 'none';\n",
              "\n",
              "        async function convertToInteractive(key) {\n",
              "          const element = document.querySelector('#df-cd487dae-170d-4cf3-921b-5d8f0c909a47');\n",
              "          const dataTable =\n",
              "            await google.colab.kernel.invokeFunction('convertToInteractive',\n",
              "                                                     [key], {});\n",
              "          if (!dataTable) return;\n",
              "\n",
              "          const docLinkHtml = 'Like what you see? Visit the ' +\n",
              "            '<a target=\"_blank\" href=https://colab.research.google.com/notebooks/data_table.ipynb>data table notebook</a>'\n",
              "            + ' to learn more about interactive tables.';\n",
              "          element.innerHTML = '';\n",
              "          dataTable['output_type'] = 'display_data';\n",
              "          await google.colab.output.renderOutput(dataTable, element);\n",
              "          const docLink = document.createElement('div');\n",
              "          docLink.innerHTML = docLinkHtml;\n",
              "          element.appendChild(docLink);\n",
              "        }\n",
              "      </script>\n",
              "    </div>\n",
              "  </div>\n",
              "  "
            ],
            "text/plain": [
              "       PhraseId  SentenceId                                             Phrase\n",
              "0        156061        8545  An intermittently pleasing but mostly routine ...\n",
              "1        156062        8545  An intermittently pleasing but mostly routine ...\n",
              "2        156063        8545                                                 An\n",
              "3        156064        8545  intermittently pleasing but mostly routine effort\n",
              "4        156065        8545         intermittently pleasing but mostly routine\n",
              "...         ...         ...                                                ...\n",
              "66287    222348       11855             A long-winded , predictable scenario .\n",
              "66288    222349       11855               A long-winded , predictable scenario\n",
              "66289    222350       11855                                    A long-winded ,\n",
              "66290    222351       11855                                      A long-winded\n",
              "66291    222352       11855                               predictable scenario\n",
              "\n",
              "[66292 rows x 3 columns]"
            ]
          },
          "execution_count": 62,
          "metadata": {},
          "output_type": "execute_result"
        }
      ],
      "source": [
        "test_df"
      ]
    },
    {
      "cell_type": "code",
      "execution_count": null,
      "metadata": {
        "colab": {
          "base_uri": "https://localhost:8080/"
        },
        "id": "RHfHJcBae4e3",
        "outputId": "9d8e5d23-8868-4a55-81b4-488fa3a04773"
      },
      "outputs": [
        {
          "data": {
            "text/plain": [
              "<66292x2000 sparse matrix of type '<class 'numpy.float64'>'\n",
              "\twith 181514 stored elements in Compressed Sparse Row format>"
            ]
          },
          "execution_count": 63,
          "metadata": {},
          "output_type": "execute_result"
        }
      ],
      "source": [
        "test_inputs"
      ]
    },
    {
      "cell_type": "code",
      "execution_count": null,
      "metadata": {
        "id": "JZ1urPNme4bo"
      },
      "outputs": [],
      "source": [
        "test_preds = model.predict(test_inputs)"
      ]
    },
    {
      "cell_type": "code",
      "execution_count": null,
      "metadata": {
        "colab": {
          "base_uri": "https://localhost:8080/"
        },
        "id": "MHUHTmYxEHcV",
        "outputId": "a6817b27-e16c-4b12-98c9-86649cd23dc1"
      },
      "outputs": [
        {
          "data": {
            "text/plain": [
              "array([3, 3, 2, ..., 2, 2, 1])"
            ]
          },
          "execution_count": 65,
          "metadata": {},
          "output_type": "execute_result"
        }
      ],
      "source": [
        "test_preds"
      ]
    },
    {
      "cell_type": "code",
      "execution_count": null,
      "metadata": {
        "colab": {
          "base_uri": "https://localhost:8080/",
          "height": 424
        },
        "id": "HOTojNcWEHZ7",
        "outputId": "42ff4cdc-4607-49d8-cdc5-645b6ca1620d"
      },
      "outputs": [
        {
          "data": {
            "text/html": [
              "\n",
              "  <div id=\"df-6e2933f1-b320-4528-9501-e1925c707fe7\">\n",
              "    <div class=\"colab-df-container\">\n",
              "      <div>\n",
              "<style scoped>\n",
              "    .dataframe tbody tr th:only-of-type {\n",
              "        vertical-align: middle;\n",
              "    }\n",
              "\n",
              "    .dataframe tbody tr th {\n",
              "        vertical-align: top;\n",
              "    }\n",
              "\n",
              "    .dataframe thead th {\n",
              "        text-align: right;\n",
              "    }\n",
              "</style>\n",
              "<table border=\"1\" class=\"dataframe\">\n",
              "  <thead>\n",
              "    <tr style=\"text-align: right;\">\n",
              "      <th></th>\n",
              "      <th>PhraseId</th>\n",
              "      <th>Sentiment</th>\n",
              "    </tr>\n",
              "  </thead>\n",
              "  <tbody>\n",
              "    <tr>\n",
              "      <th>0</th>\n",
              "      <td>156061</td>\n",
              "      <td>2</td>\n",
              "    </tr>\n",
              "    <tr>\n",
              "      <th>1</th>\n",
              "      <td>156062</td>\n",
              "      <td>2</td>\n",
              "    </tr>\n",
              "    <tr>\n",
              "      <th>2</th>\n",
              "      <td>156063</td>\n",
              "      <td>2</td>\n",
              "    </tr>\n",
              "    <tr>\n",
              "      <th>3</th>\n",
              "      <td>156064</td>\n",
              "      <td>2</td>\n",
              "    </tr>\n",
              "    <tr>\n",
              "      <th>4</th>\n",
              "      <td>156065</td>\n",
              "      <td>2</td>\n",
              "    </tr>\n",
              "    <tr>\n",
              "      <th>...</th>\n",
              "      <td>...</td>\n",
              "      <td>...</td>\n",
              "    </tr>\n",
              "    <tr>\n",
              "      <th>66287</th>\n",
              "      <td>222348</td>\n",
              "      <td>2</td>\n",
              "    </tr>\n",
              "    <tr>\n",
              "      <th>66288</th>\n",
              "      <td>222349</td>\n",
              "      <td>2</td>\n",
              "    </tr>\n",
              "    <tr>\n",
              "      <th>66289</th>\n",
              "      <td>222350</td>\n",
              "      <td>2</td>\n",
              "    </tr>\n",
              "    <tr>\n",
              "      <th>66290</th>\n",
              "      <td>222351</td>\n",
              "      <td>2</td>\n",
              "    </tr>\n",
              "    <tr>\n",
              "      <th>66291</th>\n",
              "      <td>222352</td>\n",
              "      <td>2</td>\n",
              "    </tr>\n",
              "  </tbody>\n",
              "</table>\n",
              "<p>66292 rows × 2 columns</p>\n",
              "</div>\n",
              "      <button class=\"colab-df-convert\" onclick=\"convertToInteractive('df-6e2933f1-b320-4528-9501-e1925c707fe7')\"\n",
              "              title=\"Convert this dataframe to an interactive table.\"\n",
              "              style=\"display:none;\">\n",
              "        \n",
              "  <svg xmlns=\"http://www.w3.org/2000/svg\" height=\"24px\"viewBox=\"0 0 24 24\"\n",
              "       width=\"24px\">\n",
              "    <path d=\"M0 0h24v24H0V0z\" fill=\"none\"/>\n",
              "    <path d=\"M18.56 5.44l.94 2.06.94-2.06 2.06-.94-2.06-.94-.94-2.06-.94 2.06-2.06.94zm-11 1L8.5 8.5l.94-2.06 2.06-.94-2.06-.94L8.5 2.5l-.94 2.06-2.06.94zm10 10l.94 2.06.94-2.06 2.06-.94-2.06-.94-.94-2.06-.94 2.06-2.06.94z\"/><path d=\"M17.41 7.96l-1.37-1.37c-.4-.4-.92-.59-1.43-.59-.52 0-1.04.2-1.43.59L10.3 9.45l-7.72 7.72c-.78.78-.78 2.05 0 2.83L4 21.41c.39.39.9.59 1.41.59.51 0 1.02-.2 1.41-.59l7.78-7.78 2.81-2.81c.8-.78.8-2.07 0-2.86zM5.41 20L4 18.59l7.72-7.72 1.47 1.35L5.41 20z\"/>\n",
              "  </svg>\n",
              "      </button>\n",
              "      \n",
              "  <style>\n",
              "    .colab-df-container {\n",
              "      display:flex;\n",
              "      flex-wrap:wrap;\n",
              "      gap: 12px;\n",
              "    }\n",
              "\n",
              "    .colab-df-convert {\n",
              "      background-color: #E8F0FE;\n",
              "      border: none;\n",
              "      border-radius: 50%;\n",
              "      cursor: pointer;\n",
              "      display: none;\n",
              "      fill: #1967D2;\n",
              "      height: 32px;\n",
              "      padding: 0 0 0 0;\n",
              "      width: 32px;\n",
              "    }\n",
              "\n",
              "    .colab-df-convert:hover {\n",
              "      background-color: #E2EBFA;\n",
              "      box-shadow: 0px 1px 2px rgba(60, 64, 67, 0.3), 0px 1px 3px 1px rgba(60, 64, 67, 0.15);\n",
              "      fill: #174EA6;\n",
              "    }\n",
              "\n",
              "    [theme=dark] .colab-df-convert {\n",
              "      background-color: #3B4455;\n",
              "      fill: #D2E3FC;\n",
              "    }\n",
              "\n",
              "    [theme=dark] .colab-df-convert:hover {\n",
              "      background-color: #434B5C;\n",
              "      box-shadow: 0px 1px 3px 1px rgba(0, 0, 0, 0.15);\n",
              "      filter: drop-shadow(0px 1px 2px rgba(0, 0, 0, 0.3));\n",
              "      fill: #FFFFFF;\n",
              "    }\n",
              "  </style>\n",
              "\n",
              "      <script>\n",
              "        const buttonEl =\n",
              "          document.querySelector('#df-6e2933f1-b320-4528-9501-e1925c707fe7 button.colab-df-convert');\n",
              "        buttonEl.style.display =\n",
              "          google.colab.kernel.accessAllowed ? 'block' : 'none';\n",
              "\n",
              "        async function convertToInteractive(key) {\n",
              "          const element = document.querySelector('#df-6e2933f1-b320-4528-9501-e1925c707fe7');\n",
              "          const dataTable =\n",
              "            await google.colab.kernel.invokeFunction('convertToInteractive',\n",
              "                                                     [key], {});\n",
              "          if (!dataTable) return;\n",
              "\n",
              "          const docLinkHtml = 'Like what you see? Visit the ' +\n",
              "            '<a target=\"_blank\" href=https://colab.research.google.com/notebooks/data_table.ipynb>data table notebook</a>'\n",
              "            + ' to learn more about interactive tables.';\n",
              "          element.innerHTML = '';\n",
              "          dataTable['output_type'] = 'display_data';\n",
              "          await google.colab.output.renderOutput(dataTable, element);\n",
              "          const docLink = document.createElement('div');\n",
              "          docLink.innerHTML = docLinkHtml;\n",
              "          element.appendChild(docLink);\n",
              "        }\n",
              "      </script>\n",
              "    </div>\n",
              "  </div>\n",
              "  "
            ],
            "text/plain": [
              "       PhraseId  Sentiment\n",
              "0        156061          2\n",
              "1        156062          2\n",
              "2        156063          2\n",
              "3        156064          2\n",
              "4        156065          2\n",
              "...         ...        ...\n",
              "66287    222348          2\n",
              "66288    222349          2\n",
              "66289    222350          2\n",
              "66290    222351          2\n",
              "66291    222352          2\n",
              "\n",
              "[66292 rows x 2 columns]"
            ]
          },
          "execution_count": 66,
          "metadata": {},
          "output_type": "execute_result"
        }
      ],
      "source": [
        "sub_df"
      ]
    },
    {
      "cell_type": "code",
      "execution_count": null,
      "metadata": {
        "id": "TW-SJ6Rf3aI7"
      },
      "outputs": [],
      "source": [
        "sub_df.Sentiment = test_preds"
      ]
    },
    {
      "cell_type": "code",
      "execution_count": null,
      "metadata": {
        "id": "pzcoIue03ZpI"
      },
      "outputs": [],
      "source": [
        "sub_df.to_csv('submission.csv', index=None)"
      ]
    },
    {
      "cell_type": "code",
      "execution_count": null,
      "metadata": {
        "colab": {
          "base_uri": "https://localhost:8080/"
        },
        "id": "rtRtGKtD3lOt",
        "outputId": "b49265e9-d22d-4a53-fc74-7993d231858f"
      },
      "outputs": [
        {
          "name": "stdout",
          "output_type": "stream",
          "text": [
            "PhraseId,Sentiment\n",
            "156061,3\n",
            "156062,3\n",
            "156063,2\n",
            "156064,3\n",
            "156065,2\n",
            "156066,3\n",
            "156067,3\n",
            "156068,2\n",
            "156069,3\n"
          ]
        }
      ],
      "source": [
        "!head submission.csv"
      ]
    },
    {
      "cell_type": "markdown",
      "metadata": {
        "id": "8kne2rQq8qL0"
      },
      "source": [
        "## Train & Finetune Different ML Models\n",
        "\n",
        "Train & finetune at least 2 other types of models\n",
        "\n",
        "Models to try:\n",
        "- Decision Trees\n",
        "- Random Forests\n",
        "- Gradient Boosting\n",
        "- Naive Bayes\n",
        "- SVM\n",
        "\n",
        "Optional:\n",
        "* Use PCA for dimensionality reduction\n",
        "* Compare classification vs regression models\n",
        "\n",
        "\n",
        "Tips:\n",
        "\n",
        "- If using a regression model, make sure to round predictions to integer and clip to the range `[1,5]`\n",
        "- Track your progress in a copy of [this experiment tracking spreadsheet](https://docs.google.com/spreadsheets/d/1X-tifxAOAYeIA2J32hBGP5B0MPnZy_o-zOz1NbS-1Ig/edit?usp=sharing)\n"
      ]
    },
    {
      "cell_type": "markdown",
      "metadata": {
        "id": "kIP3dHkxAqzF"
      },
      "source": [
        "### Model 1 - Naive Bayes"
      ]
    },
    {
      "cell_type": "code",
      "execution_count": null,
      "metadata": {
        "id": "kN-yZN12e4Yz"
      },
      "outputs": [],
      "source": [
        "from sklearn.naive_bayes import MultinomialNB"
      ]
    },
    {
      "cell_type": "code",
      "execution_count": null,
      "metadata": {
        "id": "X8f6t6wge4WV"
      },
      "outputs": [],
      "source": [
        "model1= MultinomialNB(class_prior=(0.05, 0.2, .5, 0.2, .05))"
      ]
    },
    {
      "cell_type": "code",
      "execution_count": null,
      "metadata": {
        "colab": {
          "base_uri": "https://localhost:8080/"
        },
        "id": "lig2PXUCAfqF",
        "outputId": "f78bd35a-cc9a-47ba-8e7c-2075d943c631"
      },
      "outputs": [
        {
          "data": {
            "text/plain": [
              "MultinomialNB(class_prior=(0.05, 0.2, 0.5, 0.2, 0.05))"
            ]
          },
          "execution_count": 72,
          "metadata": {},
          "output_type": "execute_result"
        }
      ],
      "source": [
        "model1.fit(train_inputs, train_targets)"
      ]
    },
    {
      "cell_type": "code",
      "execution_count": null,
      "metadata": {
        "colab": {
          "base_uri": "https://localhost:8080/"
        },
        "id": "Eflm_sQDAsZs",
        "outputId": "cfce1c72-0ccd-45b2-ffe6-8458b8196ae8"
      },
      "outputs": [
        {
          "data": {
            "text/plain": [
              "array([2, 2, 2, ..., 1, 1, 2])"
            ]
          },
          "execution_count": 73,
          "metadata": {},
          "output_type": "execute_result"
        }
      ],
      "source": [
        "model1.predict(train_inputs)"
      ]
    },
    {
      "cell_type": "code",
      "execution_count": null,
      "metadata": {
        "colab": {
          "base_uri": "https://localhost:8080/"
        },
        "id": "KfwHfn1XAyYK",
        "outputId": "e5451bf6-3e17-49f0-a094-cfc874a6263a"
      },
      "outputs": [
        {
          "data": {
            "text/plain": [
              "0.5881636363636363"
            ]
          },
          "execution_count": 74,
          "metadata": {},
          "output_type": "execute_result"
        }
      ],
      "source": [
        "accuracy_score(train_targets, model1.predict(train_inputs))"
      ]
    },
    {
      "cell_type": "code",
      "execution_count": null,
      "metadata": {
        "colab": {
          "base_uri": "https://localhost:8080/"
        },
        "id": "QqA6JMMQBqTj",
        "outputId": "5079fe42-1202-44fb-922d-6067b3bf5749"
      },
      "outputs": [
        {
          "data": {
            "text/plain": [
              "array([2, 1, 1, ..., 2, 2, 2])"
            ]
          },
          "execution_count": 75,
          "metadata": {},
          "output_type": "execute_result"
        }
      ],
      "source": [
        "model1.predict(val_inputs)"
      ]
    },
    {
      "cell_type": "code",
      "execution_count": null,
      "metadata": {
        "colab": {
          "base_uri": "https://localhost:8080/"
        },
        "id": "XJ9oQUBuBvkx",
        "outputId": "a8948ed6-c31e-414b-9f0b-8aba850dbb12"
      },
      "outputs": [
        {
          "data": {
            "text/plain": [
              "0.5453755970473295"
            ]
          },
          "execution_count": 76,
          "metadata": {},
          "output_type": "execute_result"
        }
      ],
      "source": [
        "accuracy_score(val_targets, model1.predict(val_inputs))"
      ]
    },
    {
      "cell_type": "markdown",
      "metadata": {
        "id": "3GPkLmM8SyoP"
      },
      "source": [
        "### Make Prediction and submit to kaggel"
      ]
    },
    {
      "cell_type": "code",
      "execution_count": null,
      "metadata": {
        "colab": {
          "base_uri": "https://localhost:8080/"
        },
        "id": "n0AGS3y8S6mo",
        "outputId": "78d28d6b-e7d0-4440-ce74-db2d80ec2539"
      },
      "outputs": [
        {
          "data": {
            "text/plain": [
              "((66292, 3), (66292, 2000))"
            ]
          },
          "execution_count": 77,
          "metadata": {},
          "output_type": "execute_result"
        }
      ],
      "source": [
        "test_df.shape, test_inputs.shape"
      ]
    },
    {
      "cell_type": "code",
      "execution_count": null,
      "metadata": {
        "id": "XQaFsxSjS6CK"
      },
      "outputs": [],
      "source": [
        "test_preds = model1.predict(test_inputs)"
      ]
    },
    {
      "cell_type": "code",
      "execution_count": null,
      "metadata": {
        "colab": {
          "base_uri": "https://localhost:8080/"
        },
        "id": "vURSGUFgS53e",
        "outputId": "fde39131-a818-4afc-b57c-e81f9b6d41a6"
      },
      "outputs": [
        {
          "data": {
            "text/plain": [
              "array([2, 2, 2, ..., 2, 2, 2])"
            ]
          },
          "execution_count": 79,
          "metadata": {},
          "output_type": "execute_result"
        }
      ],
      "source": [
        "test_preds"
      ]
    },
    {
      "cell_type": "code",
      "execution_count": null,
      "metadata": {
        "colab": {
          "base_uri": "https://localhost:8080/",
          "height": 424
        },
        "id": "ZCFDxlCYTNIf",
        "outputId": "c479d732-008b-4e1f-aa4e-50fa5b4ed79c"
      },
      "outputs": [
        {
          "data": {
            "text/html": [
              "\n",
              "  <div id=\"df-9ec54822-4c98-466d-87ad-d43f38413990\">\n",
              "    <div class=\"colab-df-container\">\n",
              "      <div>\n",
              "<style scoped>\n",
              "    .dataframe tbody tr th:only-of-type {\n",
              "        vertical-align: middle;\n",
              "    }\n",
              "\n",
              "    .dataframe tbody tr th {\n",
              "        vertical-align: top;\n",
              "    }\n",
              "\n",
              "    .dataframe thead th {\n",
              "        text-align: right;\n",
              "    }\n",
              "</style>\n",
              "<table border=\"1\" class=\"dataframe\">\n",
              "  <thead>\n",
              "    <tr style=\"text-align: right;\">\n",
              "      <th></th>\n",
              "      <th>PhraseId</th>\n",
              "      <th>Sentiment</th>\n",
              "    </tr>\n",
              "  </thead>\n",
              "  <tbody>\n",
              "    <tr>\n",
              "      <th>0</th>\n",
              "      <td>156061</td>\n",
              "      <td>3</td>\n",
              "    </tr>\n",
              "    <tr>\n",
              "      <th>1</th>\n",
              "      <td>156062</td>\n",
              "      <td>3</td>\n",
              "    </tr>\n",
              "    <tr>\n",
              "      <th>2</th>\n",
              "      <td>156063</td>\n",
              "      <td>2</td>\n",
              "    </tr>\n",
              "    <tr>\n",
              "      <th>3</th>\n",
              "      <td>156064</td>\n",
              "      <td>3</td>\n",
              "    </tr>\n",
              "    <tr>\n",
              "      <th>4</th>\n",
              "      <td>156065</td>\n",
              "      <td>2</td>\n",
              "    </tr>\n",
              "    <tr>\n",
              "      <th>...</th>\n",
              "      <td>...</td>\n",
              "      <td>...</td>\n",
              "    </tr>\n",
              "    <tr>\n",
              "      <th>66287</th>\n",
              "      <td>222348</td>\n",
              "      <td>1</td>\n",
              "    </tr>\n",
              "    <tr>\n",
              "      <th>66288</th>\n",
              "      <td>222349</td>\n",
              "      <td>1</td>\n",
              "    </tr>\n",
              "    <tr>\n",
              "      <th>66289</th>\n",
              "      <td>222350</td>\n",
              "      <td>2</td>\n",
              "    </tr>\n",
              "    <tr>\n",
              "      <th>66290</th>\n",
              "      <td>222351</td>\n",
              "      <td>2</td>\n",
              "    </tr>\n",
              "    <tr>\n",
              "      <th>66291</th>\n",
              "      <td>222352</td>\n",
              "      <td>1</td>\n",
              "    </tr>\n",
              "  </tbody>\n",
              "</table>\n",
              "<p>66292 rows × 2 columns</p>\n",
              "</div>\n",
              "      <button class=\"colab-df-convert\" onclick=\"convertToInteractive('df-9ec54822-4c98-466d-87ad-d43f38413990')\"\n",
              "              title=\"Convert this dataframe to an interactive table.\"\n",
              "              style=\"display:none;\">\n",
              "        \n",
              "  <svg xmlns=\"http://www.w3.org/2000/svg\" height=\"24px\"viewBox=\"0 0 24 24\"\n",
              "       width=\"24px\">\n",
              "    <path d=\"M0 0h24v24H0V0z\" fill=\"none\"/>\n",
              "    <path d=\"M18.56 5.44l.94 2.06.94-2.06 2.06-.94-2.06-.94-.94-2.06-.94 2.06-2.06.94zm-11 1L8.5 8.5l.94-2.06 2.06-.94-2.06-.94L8.5 2.5l-.94 2.06-2.06.94zm10 10l.94 2.06.94-2.06 2.06-.94-2.06-.94-.94-2.06-.94 2.06-2.06.94z\"/><path d=\"M17.41 7.96l-1.37-1.37c-.4-.4-.92-.59-1.43-.59-.52 0-1.04.2-1.43.59L10.3 9.45l-7.72 7.72c-.78.78-.78 2.05 0 2.83L4 21.41c.39.39.9.59 1.41.59.51 0 1.02-.2 1.41-.59l7.78-7.78 2.81-2.81c.8-.78.8-2.07 0-2.86zM5.41 20L4 18.59l7.72-7.72 1.47 1.35L5.41 20z\"/>\n",
              "  </svg>\n",
              "      </button>\n",
              "      \n",
              "  <style>\n",
              "    .colab-df-container {\n",
              "      display:flex;\n",
              "      flex-wrap:wrap;\n",
              "      gap: 12px;\n",
              "    }\n",
              "\n",
              "    .colab-df-convert {\n",
              "      background-color: #E8F0FE;\n",
              "      border: none;\n",
              "      border-radius: 50%;\n",
              "      cursor: pointer;\n",
              "      display: none;\n",
              "      fill: #1967D2;\n",
              "      height: 32px;\n",
              "      padding: 0 0 0 0;\n",
              "      width: 32px;\n",
              "    }\n",
              "\n",
              "    .colab-df-convert:hover {\n",
              "      background-color: #E2EBFA;\n",
              "      box-shadow: 0px 1px 2px rgba(60, 64, 67, 0.3), 0px 1px 3px 1px rgba(60, 64, 67, 0.15);\n",
              "      fill: #174EA6;\n",
              "    }\n",
              "\n",
              "    [theme=dark] .colab-df-convert {\n",
              "      background-color: #3B4455;\n",
              "      fill: #D2E3FC;\n",
              "    }\n",
              "\n",
              "    [theme=dark] .colab-df-convert:hover {\n",
              "      background-color: #434B5C;\n",
              "      box-shadow: 0px 1px 3px 1px rgba(0, 0, 0, 0.15);\n",
              "      filter: drop-shadow(0px 1px 2px rgba(0, 0, 0, 0.3));\n",
              "      fill: #FFFFFF;\n",
              "    }\n",
              "  </style>\n",
              "\n",
              "      <script>\n",
              "        const buttonEl =\n",
              "          document.querySelector('#df-9ec54822-4c98-466d-87ad-d43f38413990 button.colab-df-convert');\n",
              "        buttonEl.style.display =\n",
              "          google.colab.kernel.accessAllowed ? 'block' : 'none';\n",
              "\n",
              "        async function convertToInteractive(key) {\n",
              "          const element = document.querySelector('#df-9ec54822-4c98-466d-87ad-d43f38413990');\n",
              "          const dataTable =\n",
              "            await google.colab.kernel.invokeFunction('convertToInteractive',\n",
              "                                                     [key], {});\n",
              "          if (!dataTable) return;\n",
              "\n",
              "          const docLinkHtml = 'Like what you see? Visit the ' +\n",
              "            '<a target=\"_blank\" href=https://colab.research.google.com/notebooks/data_table.ipynb>data table notebook</a>'\n",
              "            + ' to learn more about interactive tables.';\n",
              "          element.innerHTML = '';\n",
              "          dataTable['output_type'] = 'display_data';\n",
              "          await google.colab.output.renderOutput(dataTable, element);\n",
              "          const docLink = document.createElement('div');\n",
              "          docLink.innerHTML = docLinkHtml;\n",
              "          element.appendChild(docLink);\n",
              "        }\n",
              "      </script>\n",
              "    </div>\n",
              "  </div>\n",
              "  "
            ],
            "text/plain": [
              "       PhraseId  Sentiment\n",
              "0        156061          3\n",
              "1        156062          3\n",
              "2        156063          2\n",
              "3        156064          3\n",
              "4        156065          2\n",
              "...         ...        ...\n",
              "66287    222348          1\n",
              "66288    222349          1\n",
              "66289    222350          2\n",
              "66290    222351          2\n",
              "66291    222352          1\n",
              "\n",
              "[66292 rows x 2 columns]"
            ]
          },
          "execution_count": 80,
          "metadata": {},
          "output_type": "execute_result"
        }
      ],
      "source": [
        "sub_df"
      ]
    },
    {
      "cell_type": "code",
      "execution_count": null,
      "metadata": {
        "id": "eQx1owynTtYT"
      },
      "outputs": [],
      "source": [
        "sub_df.Sentiment = test_preds"
      ]
    },
    {
      "cell_type": "code",
      "execution_count": null,
      "metadata": {
        "id": "pi6UQlATT0FZ"
      },
      "outputs": [],
      "source": [
        "sub_df.to_csv('submission2.csv', index=None)"
      ]
    },
    {
      "cell_type": "markdown",
      "metadata": {
        "id": "ewoiYmCyAmuZ",
        "outputId": "7a98660c-5c53-4177-9646-377081671071"
      },
      "source": [
        "### Model 2 - GradientBoostingClassifier"
      ]
    },
    {
      "cell_type": "code",
      "execution_count": null,
      "metadata": {
        "id": "tExMdRaEBu5E"
      },
      "outputs": [],
      "source": [
        "from sklearn.ensemble import GradientBoostingClassifier"
      ]
    },
    {
      "cell_type": "code",
      "execution_count": null,
      "metadata": {
        "id": "kvdfuy_E-vvV"
      },
      "outputs": [],
      "source": [
        "model2=GradientBoostingClassifier(n_estimators=100, learning_rate=1.0,)"
      ]
    },
    {
      "cell_type": "code",
      "execution_count": null,
      "metadata": {
        "colab": {
          "base_uri": "https://localhost:8080/"
        },
        "id": "W9wr90SNO4gw",
        "outputId": "23a5336e-ee6a-417c-ddfe-401bd03e2778"
      },
      "outputs": [
        {
          "data": {
            "text/plain": [
              "GradientBoostingClassifier(learning_rate=1.0)"
            ]
          },
          "execution_count": 85,
          "metadata": {},
          "output_type": "execute_result"
        }
      ],
      "source": [
        "model2.fit(train_inputs, train_targets)"
      ]
    },
    {
      "cell_type": "code",
      "execution_count": null,
      "metadata": {
        "id": "CelQF4jUJs2M"
      },
      "outputs": [],
      "source": [
        "train_preds = model2.predict(train_inputs)"
      ]
    },
    {
      "cell_type": "code",
      "execution_count": null,
      "metadata": {
        "colab": {
          "base_uri": "https://localhost:8080/"
        },
        "id": "SMissc8LJsxI",
        "outputId": "9b98da15-e321-49ba-cd7d-ca7670f2f34c"
      },
      "outputs": [
        {
          "data": {
            "text/plain": [
              "array([3, 3, 2, ..., 3, 3, 2])"
            ]
          },
          "execution_count": 87,
          "metadata": {},
          "output_type": "execute_result"
        }
      ],
      "source": [
        "train_preds"
      ]
    },
    {
      "cell_type": "code",
      "execution_count": null,
      "metadata": {
        "colab": {
          "base_uri": "https://localhost:8080/"
        },
        "id": "vi7iH4DgJsst",
        "outputId": "e7b3a9c1-ee05-4fba-8001-e884381e9758"
      },
      "outputs": [
        {
          "data": {
            "text/plain": [
              "0.5685636363636364"
            ]
          },
          "execution_count": 88,
          "metadata": {},
          "output_type": "execute_result"
        }
      ],
      "source": [
        "accuracy_score (train_targets, train_preds)"
      ]
    },
    {
      "cell_type": "code",
      "execution_count": null,
      "metadata": {
        "id": "dkw0GRmhKDzr"
      },
      "outputs": [],
      "source": [
        "val_preds = model2.predict(val_inputs)"
      ]
    },
    {
      "cell_type": "code",
      "execution_count": null,
      "metadata": {
        "colab": {
          "base_uri": "https://localhost:8080/"
        },
        "id": "yZxFHenPKMMu",
        "outputId": "77fb247c-f43a-421b-87e4-622197a7e627"
      },
      "outputs": [
        {
          "data": {
            "text/plain": [
              "array([2, 3, 3, ..., 2, 2, 2])"
            ]
          },
          "execution_count": 90,
          "metadata": {},
          "output_type": "execute_result"
        }
      ],
      "source": [
        "val_preds"
      ]
    },
    {
      "cell_type": "code",
      "execution_count": null,
      "metadata": {
        "colab": {
          "base_uri": "https://localhost:8080/"
        },
        "id": "LTukv9PEKOo8",
        "outputId": "0a897847-7b10-40b6-a376-a53e7d7b34a1"
      },
      "outputs": [
        {
          "data": {
            "text/plain": [
              "0.5315675206252714"
            ]
          },
          "execution_count": 91,
          "metadata": {},
          "output_type": "execute_result"
        }
      ],
      "source": [
        "accuracy_score (val_targets, val_preds)"
      ]
    },
    {
      "cell_type": "markdown",
      "metadata": {
        "id": "dCtb6g8LQfC7"
      },
      "source": [
        "### Study Prediction on sample data"
      ]
    },
    {
      "cell_type": "code",
      "execution_count": null,
      "metadata": {
        "id": "OuOQHaz9Qk-r"
      },
      "outputs": [],
      "source": [
        "small_df = raw_df.sample(30)"
      ]
    },
    {
      "cell_type": "code",
      "execution_count": null,
      "metadata": {
        "colab": {
          "base_uri": "https://localhost:8080/",
          "height": 990
        },
        "id": "J3hY97lbQk1i",
        "outputId": "fae54aa3-fe89-4139-aaf9-87db580926ac"
      },
      "outputs": [
        {
          "data": {
            "text/html": [
              "\n",
              "  <div id=\"df-b35600d6-5e72-44ce-bea0-c05a1fe04179\">\n",
              "    <div class=\"colab-df-container\">\n",
              "      <div>\n",
              "<style scoped>\n",
              "    .dataframe tbody tr th:only-of-type {\n",
              "        vertical-align: middle;\n",
              "    }\n",
              "\n",
              "    .dataframe tbody tr th {\n",
              "        vertical-align: top;\n",
              "    }\n",
              "\n",
              "    .dataframe thead th {\n",
              "        text-align: right;\n",
              "    }\n",
              "</style>\n",
              "<table border=\"1\" class=\"dataframe\">\n",
              "  <thead>\n",
              "    <tr style=\"text-align: right;\">\n",
              "      <th></th>\n",
              "      <th>PhraseId</th>\n",
              "      <th>SentenceId</th>\n",
              "      <th>Phrase</th>\n",
              "      <th>Sentiment</th>\n",
              "    </tr>\n",
              "  </thead>\n",
              "  <tbody>\n",
              "    <tr>\n",
              "      <th>116360</th>\n",
              "      <td>116361</td>\n",
              "      <td>6205</td>\n",
              "      <td>I was trying to decide what annoyed me most ab...</td>\n",
              "      <td>1</td>\n",
              "    </tr>\n",
              "    <tr>\n",
              "      <th>85454</th>\n",
              "      <td>85455</td>\n",
              "      <td>4420</td>\n",
              "      <td>Every moment crackles with tension , and by th...</td>\n",
              "      <td>4</td>\n",
              "    </tr>\n",
              "    <tr>\n",
              "      <th>93838</th>\n",
              "      <td>93839</td>\n",
              "      <td>4895</td>\n",
              "      <td>-RRB- faults are easy to forgive because the i...</td>\n",
              "      <td>3</td>\n",
              "    </tr>\n",
              "    <tr>\n",
              "      <th>105928</th>\n",
              "      <td>105929</td>\n",
              "      <td>5592</td>\n",
              "      <td>with a curiously stylized , quasi-Shakespearea...</td>\n",
              "      <td>3</td>\n",
              "    </tr>\n",
              "    <tr>\n",
              "      <th>28948</th>\n",
              "      <td>28949</td>\n",
              "      <td>1341</td>\n",
              "      <td>is very , very far</td>\n",
              "      <td>1</td>\n",
              "    </tr>\n",
              "    <tr>\n",
              "      <th>27652</th>\n",
              "      <td>27653</td>\n",
              "      <td>1269</td>\n",
              "      <td>saw in Glitter here in Wisegirls</td>\n",
              "      <td>2</td>\n",
              "    </tr>\n",
              "    <tr>\n",
              "      <th>108280</th>\n",
              "      <td>108281</td>\n",
              "      <td>5729</td>\n",
              "      <td>stink</td>\n",
              "      <td>1</td>\n",
              "    </tr>\n",
              "    <tr>\n",
              "      <th>26576</th>\n",
              "      <td>26577</td>\n",
              "      <td>1219</td>\n",
              "      <td>turn Bill Paxton into an A-list director</td>\n",
              "      <td>3</td>\n",
              "    </tr>\n",
              "    <tr>\n",
              "      <th>12052</th>\n",
              "      <td>12053</td>\n",
              "      <td>517</td>\n",
              "      <td>gently political</td>\n",
              "      <td>3</td>\n",
              "    </tr>\n",
              "    <tr>\n",
              "      <th>148094</th>\n",
              "      <td>148095</td>\n",
              "      <td>8060</td>\n",
              "      <td>that 's refreshing after the phoniness of fema...</td>\n",
              "      <td>3</td>\n",
              "    </tr>\n",
              "    <tr>\n",
              "      <th>80450</th>\n",
              "      <td>80451</td>\n",
              "      <td>4144</td>\n",
              "      <td>this film that allowed it to get made</td>\n",
              "      <td>2</td>\n",
              "    </tr>\n",
              "    <tr>\n",
              "      <th>15330</th>\n",
              "      <td>15331</td>\n",
              "      <td>657</td>\n",
              "      <td>consumed by lust and love and</td>\n",
              "      <td>2</td>\n",
              "    </tr>\n",
              "    <tr>\n",
              "      <th>100971</th>\n",
              "      <td>100972</td>\n",
              "      <td>5304</td>\n",
              "      <td>is Kissinger may have decided that -- when it ...</td>\n",
              "      <td>2</td>\n",
              "    </tr>\n",
              "    <tr>\n",
              "      <th>53652</th>\n",
              "      <td>53653</td>\n",
              "      <td>2664</td>\n",
              "      <td>Although sensitive to a fault , it 's often ov...</td>\n",
              "      <td>1</td>\n",
              "    </tr>\n",
              "    <tr>\n",
              "      <th>51898</th>\n",
              "      <td>51899</td>\n",
              "      <td>2560</td>\n",
              "      <td>captivating .</td>\n",
              "      <td>4</td>\n",
              "    </tr>\n",
              "    <tr>\n",
              "      <th>92121</th>\n",
              "      <td>92122</td>\n",
              "      <td>4794</td>\n",
              "      <td>than for its boundary-hopping formal innovatio...</td>\n",
              "      <td>2</td>\n",
              "    </tr>\n",
              "    <tr>\n",
              "      <th>19421</th>\n",
              "      <td>19422</td>\n",
              "      <td>852</td>\n",
              "      <td>Chelsea</td>\n",
              "      <td>2</td>\n",
              "    </tr>\n",
              "    <tr>\n",
              "      <th>149655</th>\n",
              "      <td>149656</td>\n",
              "      <td>8146</td>\n",
              "      <td>cold comfort</td>\n",
              "      <td>2</td>\n",
              "    </tr>\n",
              "    <tr>\n",
              "      <th>31172</th>\n",
              "      <td>31173</td>\n",
              "      <td>1455</td>\n",
              "      <td>I think Payne is after something darker</td>\n",
              "      <td>2</td>\n",
              "    </tr>\n",
              "    <tr>\n",
              "      <th>15636</th>\n",
              "      <td>15637</td>\n",
              "      <td>670</td>\n",
              "      <td>pretended</td>\n",
              "      <td>1</td>\n",
              "    </tr>\n",
              "    <tr>\n",
              "      <th>17142</th>\n",
              "      <td>17143</td>\n",
              "      <td>744</td>\n",
              "      <td>has a built-in audience , but only among those...</td>\n",
              "      <td>1</td>\n",
              "    </tr>\n",
              "    <tr>\n",
              "      <th>36371</th>\n",
              "      <td>36372</td>\n",
              "      <td>1720</td>\n",
              "      <td>This tale has been told and retold ; the races...</td>\n",
              "      <td>1</td>\n",
              "    </tr>\n",
              "    <tr>\n",
              "      <th>68943</th>\n",
              "      <td>68944</td>\n",
              "      <td>3502</td>\n",
              "      <td>Those who are n't put off by the film 's auste...</td>\n",
              "      <td>2</td>\n",
              "    </tr>\n",
              "    <tr>\n",
              "      <th>42853</th>\n",
              "      <td>42854</td>\n",
              "      <td>2070</td>\n",
              "      <td>from telemarketers</td>\n",
              "      <td>2</td>\n",
              "    </tr>\n",
              "    <tr>\n",
              "      <th>53381</th>\n",
              "      <td>53382</td>\n",
              "      <td>2648</td>\n",
              "      <td>homosexual</td>\n",
              "      <td>2</td>\n",
              "    </tr>\n",
              "    <tr>\n",
              "      <th>76596</th>\n",
              "      <td>76597</td>\n",
              "      <td>3939</td>\n",
              "      <td>to get wherever it 's going</td>\n",
              "      <td>2</td>\n",
              "    </tr>\n",
              "    <tr>\n",
              "      <th>22723</th>\n",
              "      <td>22724</td>\n",
              "      <td>1028</td>\n",
              "      <td>enacted than what 's been cobbled together ons...</td>\n",
              "      <td>1</td>\n",
              "    </tr>\n",
              "    <tr>\n",
              "      <th>98082</th>\n",
              "      <td>98083</td>\n",
              "      <td>5138</td>\n",
              "      <td>is their resemblance to everyday children</td>\n",
              "      <td>2</td>\n",
              "    </tr>\n",
              "    <tr>\n",
              "      <th>8750</th>\n",
              "      <td>8751</td>\n",
              "      <td>365</td>\n",
              "      <td>avoids all the comic possibilities of its situ...</td>\n",
              "      <td>1</td>\n",
              "    </tr>\n",
              "    <tr>\n",
              "      <th>58435</th>\n",
              "      <td>58436</td>\n",
              "      <td>2944</td>\n",
              "      <td>the name</td>\n",
              "      <td>2</td>\n",
              "    </tr>\n",
              "  </tbody>\n",
              "</table>\n",
              "</div>\n",
              "      <button class=\"colab-df-convert\" onclick=\"convertToInteractive('df-b35600d6-5e72-44ce-bea0-c05a1fe04179')\"\n",
              "              title=\"Convert this dataframe to an interactive table.\"\n",
              "              style=\"display:none;\">\n",
              "        \n",
              "  <svg xmlns=\"http://www.w3.org/2000/svg\" height=\"24px\"viewBox=\"0 0 24 24\"\n",
              "       width=\"24px\">\n",
              "    <path d=\"M0 0h24v24H0V0z\" fill=\"none\"/>\n",
              "    <path d=\"M18.56 5.44l.94 2.06.94-2.06 2.06-.94-2.06-.94-.94-2.06-.94 2.06-2.06.94zm-11 1L8.5 8.5l.94-2.06 2.06-.94-2.06-.94L8.5 2.5l-.94 2.06-2.06.94zm10 10l.94 2.06.94-2.06 2.06-.94-2.06-.94-.94-2.06-.94 2.06-2.06.94z\"/><path d=\"M17.41 7.96l-1.37-1.37c-.4-.4-.92-.59-1.43-.59-.52 0-1.04.2-1.43.59L10.3 9.45l-7.72 7.72c-.78.78-.78 2.05 0 2.83L4 21.41c.39.39.9.59 1.41.59.51 0 1.02-.2 1.41-.59l7.78-7.78 2.81-2.81c.8-.78.8-2.07 0-2.86zM5.41 20L4 18.59l7.72-7.72 1.47 1.35L5.41 20z\"/>\n",
              "  </svg>\n",
              "      </button>\n",
              "      \n",
              "  <style>\n",
              "    .colab-df-container {\n",
              "      display:flex;\n",
              "      flex-wrap:wrap;\n",
              "      gap: 12px;\n",
              "    }\n",
              "\n",
              "    .colab-df-convert {\n",
              "      background-color: #E8F0FE;\n",
              "      border: none;\n",
              "      border-radius: 50%;\n",
              "      cursor: pointer;\n",
              "      display: none;\n",
              "      fill: #1967D2;\n",
              "      height: 32px;\n",
              "      padding: 0 0 0 0;\n",
              "      width: 32px;\n",
              "    }\n",
              "\n",
              "    .colab-df-convert:hover {\n",
              "      background-color: #E2EBFA;\n",
              "      box-shadow: 0px 1px 2px rgba(60, 64, 67, 0.3), 0px 1px 3px 1px rgba(60, 64, 67, 0.15);\n",
              "      fill: #174EA6;\n",
              "    }\n",
              "\n",
              "    [theme=dark] .colab-df-convert {\n",
              "      background-color: #3B4455;\n",
              "      fill: #D2E3FC;\n",
              "    }\n",
              "\n",
              "    [theme=dark] .colab-df-convert:hover {\n",
              "      background-color: #434B5C;\n",
              "      box-shadow: 0px 1px 3px 1px rgba(0, 0, 0, 0.15);\n",
              "      filter: drop-shadow(0px 1px 2px rgba(0, 0, 0, 0.3));\n",
              "      fill: #FFFFFF;\n",
              "    }\n",
              "  </style>\n",
              "\n",
              "      <script>\n",
              "        const buttonEl =\n",
              "          document.querySelector('#df-b35600d6-5e72-44ce-bea0-c05a1fe04179 button.colab-df-convert');\n",
              "        buttonEl.style.display =\n",
              "          google.colab.kernel.accessAllowed ? 'block' : 'none';\n",
              "\n",
              "        async function convertToInteractive(key) {\n",
              "          const element = document.querySelector('#df-b35600d6-5e72-44ce-bea0-c05a1fe04179');\n",
              "          const dataTable =\n",
              "            await google.colab.kernel.invokeFunction('convertToInteractive',\n",
              "                                                     [key], {});\n",
              "          if (!dataTable) return;\n",
              "\n",
              "          const docLinkHtml = 'Like what you see? Visit the ' +\n",
              "            '<a target=\"_blank\" href=https://colab.research.google.com/notebooks/data_table.ipynb>data table notebook</a>'\n",
              "            + ' to learn more about interactive tables.';\n",
              "          element.innerHTML = '';\n",
              "          dataTable['output_type'] = 'display_data';\n",
              "          await google.colab.output.renderOutput(dataTable, element);\n",
              "          const docLink = document.createElement('div');\n",
              "          docLink.innerHTML = docLinkHtml;\n",
              "          element.appendChild(docLink);\n",
              "        }\n",
              "      </script>\n",
              "    </div>\n",
              "  </div>\n",
              "  "
            ],
            "text/plain": [
              "        PhraseId  SentenceId  \\\n",
              "116360    116361        6205   \n",
              "85454      85455        4420   \n",
              "93838      93839        4895   \n",
              "105928    105929        5592   \n",
              "28948      28949        1341   \n",
              "27652      27653        1269   \n",
              "108280    108281        5729   \n",
              "26576      26577        1219   \n",
              "12052      12053         517   \n",
              "148094    148095        8060   \n",
              "80450      80451        4144   \n",
              "15330      15331         657   \n",
              "100971    100972        5304   \n",
              "53652      53653        2664   \n",
              "51898      51899        2560   \n",
              "92121      92122        4794   \n",
              "19421      19422         852   \n",
              "149655    149656        8146   \n",
              "31172      31173        1455   \n",
              "15636      15637         670   \n",
              "17142      17143         744   \n",
              "36371      36372        1720   \n",
              "68943      68944        3502   \n",
              "42853      42854        2070   \n",
              "53381      53382        2648   \n",
              "76596      76597        3939   \n",
              "22723      22724        1028   \n",
              "98082      98083        5138   \n",
              "8750        8751         365   \n",
              "58435      58436        2944   \n",
              "\n",
              "                                                   Phrase  Sentiment  \n",
              "116360  I was trying to decide what annoyed me most ab...          1  \n",
              "85454   Every moment crackles with tension , and by th...          4  \n",
              "93838   -RRB- faults are easy to forgive because the i...          3  \n",
              "105928  with a curiously stylized , quasi-Shakespearea...          3  \n",
              "28948                                  is very , very far          1  \n",
              "27652                    saw in Glitter here in Wisegirls          2  \n",
              "108280                                              stink          1  \n",
              "26576            turn Bill Paxton into an A-list director          3  \n",
              "12052                                    gently political          3  \n",
              "148094  that 's refreshing after the phoniness of fema...          3  \n",
              "80450               this film that allowed it to get made          2  \n",
              "15330                       consumed by lust and love and          2  \n",
              "100971  is Kissinger may have decided that -- when it ...          2  \n",
              "53652   Although sensitive to a fault , it 's often ov...          1  \n",
              "51898                                       captivating .          4  \n",
              "92121   than for its boundary-hopping formal innovatio...          2  \n",
              "19421                                             Chelsea          2  \n",
              "149655                                       cold comfort          2  \n",
              "31172             I think Payne is after something darker          2  \n",
              "15636                                           pretended          1  \n",
              "17142   has a built-in audience , but only among those...          1  \n",
              "36371   This tale has been told and retold ; the races...          1  \n",
              "68943   Those who are n't put off by the film 's auste...          2  \n",
              "42853                                  from telemarketers          2  \n",
              "53381                                          homosexual          2  \n",
              "76596                         to get wherever it 's going          2  \n",
              "22723   enacted than what 's been cobbled together ons...          1  \n",
              "98082           is their resemblance to everyday children          2  \n",
              "8750    avoids all the comic possibilities of its situ...          1  \n",
              "58435                                            the name          2  "
            ]
          },
          "execution_count": 93,
          "metadata": {},
          "output_type": "execute_result"
        }
      ],
      "source": [
        "small_df"
      ]
    },
    {
      "cell_type": "code",
      "execution_count": null,
      "metadata": {
        "id": "fhnvOEeoQ6ku"
      },
      "outputs": [],
      "source": [
        "small_inputs = vectorizer.transform(small_df.Phrase)"
      ]
    },
    {
      "cell_type": "code",
      "execution_count": null,
      "metadata": {
        "colab": {
          "base_uri": "https://localhost:8080/"
        },
        "id": "o6DLapHYQ6YZ",
        "outputId": "42ab2469-766f-4b59-9e20-70b533aeb87e"
      },
      "outputs": [
        {
          "data": {
            "text/plain": [
              "(30, 2000)"
            ]
          },
          "execution_count": 95,
          "metadata": {},
          "output_type": "execute_result"
        }
      ],
      "source": [
        "small_inputs.shape"
      ]
    },
    {
      "cell_type": "code",
      "execution_count": null,
      "metadata": {
        "id": "K6gK4U-iQ6Ta"
      },
      "outputs": [],
      "source": [
        "small_preds = model2.predict(small_inputs)"
      ]
    },
    {
      "cell_type": "code",
      "execution_count": null,
      "metadata": {
        "colab": {
          "base_uri": "https://localhost:8080/"
        },
        "id": "EwGokJahROxi",
        "outputId": "80bcceac-5622-43af-f8d2-6f3fbb878cfb"
      },
      "outputs": [
        {
          "data": {
            "text/plain": [
              "array([3, 2, 2, 2, 2, 2, 2, 2, 3, 3, 2, 2, 2, 2, 2, 2, 2, 2, 2, 2, 2, 2,\n",
              "       2, 2, 2, 2, 2, 2, 2, 2])"
            ]
          },
          "execution_count": 97,
          "metadata": {},
          "output_type": "execute_result"
        }
      ],
      "source": [
        "small_preds"
      ]
    },
    {
      "cell_type": "markdown",
      "metadata": {
        "id": "Mylvjgw2ROr-"
      },
      "source": [
        "### Make Prediction and Submit to kaggel"
      ]
    },
    {
      "cell_type": "code",
      "execution_count": null,
      "metadata": {
        "colab": {
          "base_uri": "https://localhost:8080/",
          "height": 424
        },
        "id": "AXd0gk7MROmb",
        "outputId": "c5b48d97-8196-438b-c38c-25d61ca5c063"
      },
      "outputs": [
        {
          "data": {
            "text/html": [
              "\n",
              "  <div id=\"df-7ab1ddc9-fb3c-435e-9f1a-1ce54e45a27a\">\n",
              "    <div class=\"colab-df-container\">\n",
              "      <div>\n",
              "<style scoped>\n",
              "    .dataframe tbody tr th:only-of-type {\n",
              "        vertical-align: middle;\n",
              "    }\n",
              "\n",
              "    .dataframe tbody tr th {\n",
              "        vertical-align: top;\n",
              "    }\n",
              "\n",
              "    .dataframe thead th {\n",
              "        text-align: right;\n",
              "    }\n",
              "</style>\n",
              "<table border=\"1\" class=\"dataframe\">\n",
              "  <thead>\n",
              "    <tr style=\"text-align: right;\">\n",
              "      <th></th>\n",
              "      <th>PhraseId</th>\n",
              "      <th>SentenceId</th>\n",
              "      <th>Phrase</th>\n",
              "    </tr>\n",
              "  </thead>\n",
              "  <tbody>\n",
              "    <tr>\n",
              "      <th>0</th>\n",
              "      <td>156061</td>\n",
              "      <td>8545</td>\n",
              "      <td>An intermittently pleasing but mostly routine ...</td>\n",
              "    </tr>\n",
              "    <tr>\n",
              "      <th>1</th>\n",
              "      <td>156062</td>\n",
              "      <td>8545</td>\n",
              "      <td>An intermittently pleasing but mostly routine ...</td>\n",
              "    </tr>\n",
              "    <tr>\n",
              "      <th>2</th>\n",
              "      <td>156063</td>\n",
              "      <td>8545</td>\n",
              "      <td>An</td>\n",
              "    </tr>\n",
              "    <tr>\n",
              "      <th>3</th>\n",
              "      <td>156064</td>\n",
              "      <td>8545</td>\n",
              "      <td>intermittently pleasing but mostly routine effort</td>\n",
              "    </tr>\n",
              "    <tr>\n",
              "      <th>4</th>\n",
              "      <td>156065</td>\n",
              "      <td>8545</td>\n",
              "      <td>intermittently pleasing but mostly routine</td>\n",
              "    </tr>\n",
              "    <tr>\n",
              "      <th>...</th>\n",
              "      <td>...</td>\n",
              "      <td>...</td>\n",
              "      <td>...</td>\n",
              "    </tr>\n",
              "    <tr>\n",
              "      <th>66287</th>\n",
              "      <td>222348</td>\n",
              "      <td>11855</td>\n",
              "      <td>A long-winded , predictable scenario .</td>\n",
              "    </tr>\n",
              "    <tr>\n",
              "      <th>66288</th>\n",
              "      <td>222349</td>\n",
              "      <td>11855</td>\n",
              "      <td>A long-winded , predictable scenario</td>\n",
              "    </tr>\n",
              "    <tr>\n",
              "      <th>66289</th>\n",
              "      <td>222350</td>\n",
              "      <td>11855</td>\n",
              "      <td>A long-winded ,</td>\n",
              "    </tr>\n",
              "    <tr>\n",
              "      <th>66290</th>\n",
              "      <td>222351</td>\n",
              "      <td>11855</td>\n",
              "      <td>A long-winded</td>\n",
              "    </tr>\n",
              "    <tr>\n",
              "      <th>66291</th>\n",
              "      <td>222352</td>\n",
              "      <td>11855</td>\n",
              "      <td>predictable scenario</td>\n",
              "    </tr>\n",
              "  </tbody>\n",
              "</table>\n",
              "<p>66292 rows × 3 columns</p>\n",
              "</div>\n",
              "      <button class=\"colab-df-convert\" onclick=\"convertToInteractive('df-7ab1ddc9-fb3c-435e-9f1a-1ce54e45a27a')\"\n",
              "              title=\"Convert this dataframe to an interactive table.\"\n",
              "              style=\"display:none;\">\n",
              "        \n",
              "  <svg xmlns=\"http://www.w3.org/2000/svg\" height=\"24px\"viewBox=\"0 0 24 24\"\n",
              "       width=\"24px\">\n",
              "    <path d=\"M0 0h24v24H0V0z\" fill=\"none\"/>\n",
              "    <path d=\"M18.56 5.44l.94 2.06.94-2.06 2.06-.94-2.06-.94-.94-2.06-.94 2.06-2.06.94zm-11 1L8.5 8.5l.94-2.06 2.06-.94-2.06-.94L8.5 2.5l-.94 2.06-2.06.94zm10 10l.94 2.06.94-2.06 2.06-.94-2.06-.94-.94-2.06-.94 2.06-2.06.94z\"/><path d=\"M17.41 7.96l-1.37-1.37c-.4-.4-.92-.59-1.43-.59-.52 0-1.04.2-1.43.59L10.3 9.45l-7.72 7.72c-.78.78-.78 2.05 0 2.83L4 21.41c.39.39.9.59 1.41.59.51 0 1.02-.2 1.41-.59l7.78-7.78 2.81-2.81c.8-.78.8-2.07 0-2.86zM5.41 20L4 18.59l7.72-7.72 1.47 1.35L5.41 20z\"/>\n",
              "  </svg>\n",
              "      </button>\n",
              "      \n",
              "  <style>\n",
              "    .colab-df-container {\n",
              "      display:flex;\n",
              "      flex-wrap:wrap;\n",
              "      gap: 12px;\n",
              "    }\n",
              "\n",
              "    .colab-df-convert {\n",
              "      background-color: #E8F0FE;\n",
              "      border: none;\n",
              "      border-radius: 50%;\n",
              "      cursor: pointer;\n",
              "      display: none;\n",
              "      fill: #1967D2;\n",
              "      height: 32px;\n",
              "      padding: 0 0 0 0;\n",
              "      width: 32px;\n",
              "    }\n",
              "\n",
              "    .colab-df-convert:hover {\n",
              "      background-color: #E2EBFA;\n",
              "      box-shadow: 0px 1px 2px rgba(60, 64, 67, 0.3), 0px 1px 3px 1px rgba(60, 64, 67, 0.15);\n",
              "      fill: #174EA6;\n",
              "    }\n",
              "\n",
              "    [theme=dark] .colab-df-convert {\n",
              "      background-color: #3B4455;\n",
              "      fill: #D2E3FC;\n",
              "    }\n",
              "\n",
              "    [theme=dark] .colab-df-convert:hover {\n",
              "      background-color: #434B5C;\n",
              "      box-shadow: 0px 1px 3px 1px rgba(0, 0, 0, 0.15);\n",
              "      filter: drop-shadow(0px 1px 2px rgba(0, 0, 0, 0.3));\n",
              "      fill: #FFFFFF;\n",
              "    }\n",
              "  </style>\n",
              "\n",
              "      <script>\n",
              "        const buttonEl =\n",
              "          document.querySelector('#df-7ab1ddc9-fb3c-435e-9f1a-1ce54e45a27a button.colab-df-convert');\n",
              "        buttonEl.style.display =\n",
              "          google.colab.kernel.accessAllowed ? 'block' : 'none';\n",
              "\n",
              "        async function convertToInteractive(key) {\n",
              "          const element = document.querySelector('#df-7ab1ddc9-fb3c-435e-9f1a-1ce54e45a27a');\n",
              "          const dataTable =\n",
              "            await google.colab.kernel.invokeFunction('convertToInteractive',\n",
              "                                                     [key], {});\n",
              "          if (!dataTable) return;\n",
              "\n",
              "          const docLinkHtml = 'Like what you see? Visit the ' +\n",
              "            '<a target=\"_blank\" href=https://colab.research.google.com/notebooks/data_table.ipynb>data table notebook</a>'\n",
              "            + ' to learn more about interactive tables.';\n",
              "          element.innerHTML = '';\n",
              "          dataTable['output_type'] = 'display_data';\n",
              "          await google.colab.output.renderOutput(dataTable, element);\n",
              "          const docLink = document.createElement('div');\n",
              "          docLink.innerHTML = docLinkHtml;\n",
              "          element.appendChild(docLink);\n",
              "        }\n",
              "      </script>\n",
              "    </div>\n",
              "  </div>\n",
              "  "
            ],
            "text/plain": [
              "       PhraseId  SentenceId                                             Phrase\n",
              "0        156061        8545  An intermittently pleasing but mostly routine ...\n",
              "1        156062        8545  An intermittently pleasing but mostly routine ...\n",
              "2        156063        8545                                                 An\n",
              "3        156064        8545  intermittently pleasing but mostly routine effort\n",
              "4        156065        8545         intermittently pleasing but mostly routine\n",
              "...         ...         ...                                                ...\n",
              "66287    222348       11855             A long-winded , predictable scenario .\n",
              "66288    222349       11855               A long-winded , predictable scenario\n",
              "66289    222350       11855                                    A long-winded ,\n",
              "66290    222351       11855                                      A long-winded\n",
              "66291    222352       11855                               predictable scenario\n",
              "\n",
              "[66292 rows x 3 columns]"
            ]
          },
          "execution_count": 98,
          "metadata": {},
          "output_type": "execute_result"
        }
      ],
      "source": [
        "test_df"
      ]
    },
    {
      "cell_type": "code",
      "execution_count": null,
      "metadata": {
        "colab": {
          "base_uri": "https://localhost:8080/"
        },
        "id": "0lef-Gi0R8GD",
        "outputId": "eb5814f2-b11c-4313-b7ad-5288968393eb"
      },
      "outputs": [
        {
          "data": {
            "text/plain": [
              "<66292x2000 sparse matrix of type '<class 'numpy.float64'>'\n",
              "\twith 181514 stored elements in Compressed Sparse Row format>"
            ]
          },
          "execution_count": 99,
          "metadata": {},
          "output_type": "execute_result"
        }
      ],
      "source": [
        "test_inputs"
      ]
    },
    {
      "cell_type": "code",
      "execution_count": null,
      "metadata": {
        "id": "H4-zj2fbR8BW"
      },
      "outputs": [],
      "source": [
        "test_preds = model2.predict(test_inputs)"
      ]
    },
    {
      "cell_type": "code",
      "execution_count": null,
      "metadata": {
        "colab": {
          "base_uri": "https://localhost:8080/"
        },
        "id": "X8sOMxMCR78C",
        "outputId": "cd13a85e-7bd7-4762-b781-77fb596590ad"
      },
      "outputs": [
        {
          "data": {
            "text/plain": [
              "array([2, 2, 2, ..., 2, 2, 1])"
            ]
          },
          "execution_count": 101,
          "metadata": {},
          "output_type": "execute_result"
        }
      ],
      "source": [
        "test_preds"
      ]
    },
    {
      "cell_type": "code",
      "execution_count": null,
      "metadata": {
        "colab": {
          "base_uri": "https://localhost:8080/",
          "height": 424
        },
        "id": "07Xg1MyMSJna",
        "outputId": "56b72d59-c887-4c9d-ffd2-49e1014f2d09"
      },
      "outputs": [
        {
          "data": {
            "text/html": [
              "\n",
              "  <div id=\"df-f7d4dad8-b0a2-4836-b3c0-287fd1b95338\">\n",
              "    <div class=\"colab-df-container\">\n",
              "      <div>\n",
              "<style scoped>\n",
              "    .dataframe tbody tr th:only-of-type {\n",
              "        vertical-align: middle;\n",
              "    }\n",
              "\n",
              "    .dataframe tbody tr th {\n",
              "        vertical-align: top;\n",
              "    }\n",
              "\n",
              "    .dataframe thead th {\n",
              "        text-align: right;\n",
              "    }\n",
              "</style>\n",
              "<table border=\"1\" class=\"dataframe\">\n",
              "  <thead>\n",
              "    <tr style=\"text-align: right;\">\n",
              "      <th></th>\n",
              "      <th>PhraseId</th>\n",
              "      <th>Sentiment</th>\n",
              "    </tr>\n",
              "  </thead>\n",
              "  <tbody>\n",
              "    <tr>\n",
              "      <th>0</th>\n",
              "      <td>156061</td>\n",
              "      <td>2</td>\n",
              "    </tr>\n",
              "    <tr>\n",
              "      <th>1</th>\n",
              "      <td>156062</td>\n",
              "      <td>2</td>\n",
              "    </tr>\n",
              "    <tr>\n",
              "      <th>2</th>\n",
              "      <td>156063</td>\n",
              "      <td>2</td>\n",
              "    </tr>\n",
              "    <tr>\n",
              "      <th>3</th>\n",
              "      <td>156064</td>\n",
              "      <td>2</td>\n",
              "    </tr>\n",
              "    <tr>\n",
              "      <th>4</th>\n",
              "      <td>156065</td>\n",
              "      <td>2</td>\n",
              "    </tr>\n",
              "    <tr>\n",
              "      <th>...</th>\n",
              "      <td>...</td>\n",
              "      <td>...</td>\n",
              "    </tr>\n",
              "    <tr>\n",
              "      <th>66287</th>\n",
              "      <td>222348</td>\n",
              "      <td>2</td>\n",
              "    </tr>\n",
              "    <tr>\n",
              "      <th>66288</th>\n",
              "      <td>222349</td>\n",
              "      <td>2</td>\n",
              "    </tr>\n",
              "    <tr>\n",
              "      <th>66289</th>\n",
              "      <td>222350</td>\n",
              "      <td>2</td>\n",
              "    </tr>\n",
              "    <tr>\n",
              "      <th>66290</th>\n",
              "      <td>222351</td>\n",
              "      <td>2</td>\n",
              "    </tr>\n",
              "    <tr>\n",
              "      <th>66291</th>\n",
              "      <td>222352</td>\n",
              "      <td>2</td>\n",
              "    </tr>\n",
              "  </tbody>\n",
              "</table>\n",
              "<p>66292 rows × 2 columns</p>\n",
              "</div>\n",
              "      <button class=\"colab-df-convert\" onclick=\"convertToInteractive('df-f7d4dad8-b0a2-4836-b3c0-287fd1b95338')\"\n",
              "              title=\"Convert this dataframe to an interactive table.\"\n",
              "              style=\"display:none;\">\n",
              "        \n",
              "  <svg xmlns=\"http://www.w3.org/2000/svg\" height=\"24px\"viewBox=\"0 0 24 24\"\n",
              "       width=\"24px\">\n",
              "    <path d=\"M0 0h24v24H0V0z\" fill=\"none\"/>\n",
              "    <path d=\"M18.56 5.44l.94 2.06.94-2.06 2.06-.94-2.06-.94-.94-2.06-.94 2.06-2.06.94zm-11 1L8.5 8.5l.94-2.06 2.06-.94-2.06-.94L8.5 2.5l-.94 2.06-2.06.94zm10 10l.94 2.06.94-2.06 2.06-.94-2.06-.94-.94-2.06-.94 2.06-2.06.94z\"/><path d=\"M17.41 7.96l-1.37-1.37c-.4-.4-.92-.59-1.43-.59-.52 0-1.04.2-1.43.59L10.3 9.45l-7.72 7.72c-.78.78-.78 2.05 0 2.83L4 21.41c.39.39.9.59 1.41.59.51 0 1.02-.2 1.41-.59l7.78-7.78 2.81-2.81c.8-.78.8-2.07 0-2.86zM5.41 20L4 18.59l7.72-7.72 1.47 1.35L5.41 20z\"/>\n",
              "  </svg>\n",
              "      </button>\n",
              "      \n",
              "  <style>\n",
              "    .colab-df-container {\n",
              "      display:flex;\n",
              "      flex-wrap:wrap;\n",
              "      gap: 12px;\n",
              "    }\n",
              "\n",
              "    .colab-df-convert {\n",
              "      background-color: #E8F0FE;\n",
              "      border: none;\n",
              "      border-radius: 50%;\n",
              "      cursor: pointer;\n",
              "      display: none;\n",
              "      fill: #1967D2;\n",
              "      height: 32px;\n",
              "      padding: 0 0 0 0;\n",
              "      width: 32px;\n",
              "    }\n",
              "\n",
              "    .colab-df-convert:hover {\n",
              "      background-color: #E2EBFA;\n",
              "      box-shadow: 0px 1px 2px rgba(60, 64, 67, 0.3), 0px 1px 3px 1px rgba(60, 64, 67, 0.15);\n",
              "      fill: #174EA6;\n",
              "    }\n",
              "\n",
              "    [theme=dark] .colab-df-convert {\n",
              "      background-color: #3B4455;\n",
              "      fill: #D2E3FC;\n",
              "    }\n",
              "\n",
              "    [theme=dark] .colab-df-convert:hover {\n",
              "      background-color: #434B5C;\n",
              "      box-shadow: 0px 1px 3px 1px rgba(0, 0, 0, 0.15);\n",
              "      filter: drop-shadow(0px 1px 2px rgba(0, 0, 0, 0.3));\n",
              "      fill: #FFFFFF;\n",
              "    }\n",
              "  </style>\n",
              "\n",
              "      <script>\n",
              "        const buttonEl =\n",
              "          document.querySelector('#df-f7d4dad8-b0a2-4836-b3c0-287fd1b95338 button.colab-df-convert');\n",
              "        buttonEl.style.display =\n",
              "          google.colab.kernel.accessAllowed ? 'block' : 'none';\n",
              "\n",
              "        async function convertToInteractive(key) {\n",
              "          const element = document.querySelector('#df-f7d4dad8-b0a2-4836-b3c0-287fd1b95338');\n",
              "          const dataTable =\n",
              "            await google.colab.kernel.invokeFunction('convertToInteractive',\n",
              "                                                     [key], {});\n",
              "          if (!dataTable) return;\n",
              "\n",
              "          const docLinkHtml = 'Like what you see? Visit the ' +\n",
              "            '<a target=\"_blank\" href=https://colab.research.google.com/notebooks/data_table.ipynb>data table notebook</a>'\n",
              "            + ' to learn more about interactive tables.';\n",
              "          element.innerHTML = '';\n",
              "          dataTable['output_type'] = 'display_data';\n",
              "          await google.colab.output.renderOutput(dataTable, element);\n",
              "          const docLink = document.createElement('div');\n",
              "          docLink.innerHTML = docLinkHtml;\n",
              "          element.appendChild(docLink);\n",
              "        }\n",
              "      </script>\n",
              "    </div>\n",
              "  </div>\n",
              "  "
            ],
            "text/plain": [
              "       PhraseId  Sentiment\n",
              "0        156061          2\n",
              "1        156062          2\n",
              "2        156063          2\n",
              "3        156064          2\n",
              "4        156065          2\n",
              "...         ...        ...\n",
              "66287    222348          2\n",
              "66288    222349          2\n",
              "66289    222350          2\n",
              "66290    222351          2\n",
              "66291    222352          2\n",
              "\n",
              "[66292 rows x 2 columns]"
            ]
          },
          "execution_count": 102,
          "metadata": {},
          "output_type": "execute_result"
        }
      ],
      "source": [
        "sub_df"
      ]
    },
    {
      "cell_type": "code",
      "execution_count": null,
      "metadata": {
        "id": "eFabu4GWVFo0"
      },
      "outputs": [],
      "source": [
        "sub_df.Sentiment = test_preds"
      ]
    },
    {
      "cell_type": "code",
      "execution_count": null,
      "metadata": {
        "id": "O9w4Qk7YVL9r"
      },
      "outputs": [],
      "source": [
        "sub_df.to_csv('submission3.csv', index=None)"
      ]
    },
    {
      "cell_type": "markdown",
      "metadata": {
        "id": "S8WnmO8SDopQ",
        "outputId": "ad27a3ba-b6e9-4675-9b20-0e338f3fcf8d"
      },
      "source": [
        "### Model 3 - Random Forests"
      ]
    },
    {
      "cell_type": "code",
      "execution_count": null,
      "metadata": {
        "id": "FuRhZQJqDomm"
      },
      "outputs": [],
      "source": [
        "from sklearn.ensemble import RandomForestClassifier"
      ]
    },
    {
      "cell_type": "code",
      "execution_count": null,
      "metadata": {
        "id": "1FyiLUvLDojw"
      },
      "outputs": [],
      "source": [
        "model3=RandomForestClassifier()"
      ]
    },
    {
      "cell_type": "code",
      "execution_count": null,
      "metadata": {
        "colab": {
          "base_uri": "https://localhost:8080/"
        },
        "id": "uGvDA1JJFkjF",
        "outputId": "433789fc-cbc2-4d82-a5ea-91f142e236e6"
      },
      "outputs": [
        {
          "data": {
            "text/plain": [
              "RandomForestClassifier()"
            ]
          },
          "execution_count": 107,
          "metadata": {},
          "output_type": "execute_result"
        }
      ],
      "source": [
        "model3.fit(train_inputs, train_targets)"
      ]
    },
    {
      "cell_type": "code",
      "execution_count": null,
      "metadata": {
        "id": "l90XTWj6DohY"
      },
      "outputs": [],
      "source": [
        "train_preds = model3.predict(train_inputs)"
      ]
    },
    {
      "cell_type": "code",
      "execution_count": null,
      "metadata": {
        "colab": {
          "base_uri": "https://localhost:8080/"
        },
        "id": "Jgcq4PCQo5I_",
        "outputId": "522a9428-3177-4d8c-daf9-ff28a69eece3"
      },
      "outputs": [
        {
          "data": {
            "text/plain": [
              "array([1, 2, 2, ..., 1, 1, 2])"
            ]
          },
          "execution_count": 109,
          "metadata": {},
          "output_type": "execute_result"
        }
      ],
      "source": [
        "train_preds"
      ]
    },
    {
      "cell_type": "code",
      "execution_count": null,
      "metadata": {
        "colab": {
          "base_uri": "https://localhost:8080/"
        },
        "id": "YpCU_OSQo5Ey",
        "outputId": "a64771f3-8555-466b-b148-b6a6f5a62e14"
      },
      "outputs": [
        {
          "data": {
            "text/plain": [
              "0.7902727272727272"
            ]
          },
          "execution_count": 110,
          "metadata": {},
          "output_type": "execute_result"
        }
      ],
      "source": [
        "accuracy_score(train_targets, train_preds)"
      ]
    },
    {
      "cell_type": "code",
      "execution_count": null,
      "metadata": {
        "id": "oz17e5F-o5Aa"
      },
      "outputs": [],
      "source": [
        "val_preds = model3.predict(val_inputs)"
      ]
    },
    {
      "cell_type": "code",
      "execution_count": null,
      "metadata": {
        "colab": {
          "base_uri": "https://localhost:8080/"
        },
        "id": "1oPLCaDko48U",
        "outputId": "372d14c8-98df-4c09-ece1-278a209c0b6a"
      },
      "outputs": [
        {
          "data": {
            "text/plain": [
              "array([2, 1, 1, ..., 2, 2, 2])"
            ]
          },
          "execution_count": 112,
          "metadata": {},
          "output_type": "execute_result"
        }
      ],
      "source": [
        "val_preds"
      ]
    },
    {
      "cell_type": "code",
      "execution_count": null,
      "metadata": {
        "colab": {
          "base_uri": "https://localhost:8080/"
        },
        "id": "NnRJMnRLpXxY",
        "outputId": "8f5b8068-daa8-4050-d047-26c8136ad0ee"
      },
      "outputs": [
        {
          "data": {
            "text/plain": [
              "0.5600086843247938"
            ]
          },
          "execution_count": 113,
          "metadata": {},
          "output_type": "execute_result"
        }
      ],
      "source": [
        "accuracy_score(val_targets, val_preds)"
      ]
    },
    {
      "cell_type": "markdown",
      "metadata": {
        "id": "On0qn5SVp5MI"
      },
      "source": [
        "### Make Prediction and Submit to Kaggle"
      ]
    },
    {
      "cell_type": "code",
      "execution_count": null,
      "metadata": {
        "colab": {
          "base_uri": "https://localhost:8080/"
        },
        "id": "0GZYyDZbp48x",
        "outputId": "af2a328d-5b0c-4121-cd78-25a42d931c2f"
      },
      "outputs": [
        {
          "data": {
            "text/plain": [
              "((66292, 3), (66292, 2000))"
            ]
          },
          "execution_count": 118,
          "metadata": {},
          "output_type": "execute_result"
        }
      ],
      "source": [
        "test_df.shape, test_inputs.shape"
      ]
    },
    {
      "cell_type": "code",
      "execution_count": null,
      "metadata": {
        "id": "zUtuHwoyqCIb"
      },
      "outputs": [],
      "source": [
        "test_preds = model3.predict(test_inputs)"
      ]
    },
    {
      "cell_type": "code",
      "execution_count": null,
      "metadata": {
        "colab": {
          "base_uri": "https://localhost:8080/"
        },
        "id": "1zdLq6zOELDS",
        "outputId": "49585be1-2d1b-4b17-982b-a42538bc6653"
      },
      "outputs": [
        {
          "data": {
            "text/plain": [
              "array([3, 3, 2, ..., 2, 2, 1])"
            ]
          },
          "execution_count": 120,
          "metadata": {},
          "output_type": "execute_result"
        }
      ],
      "source": [
        "test_preds"
      ]
    },
    {
      "cell_type": "code",
      "execution_count": null,
      "metadata": {
        "colab": {
          "base_uri": "https://localhost:8080/",
          "height": 424
        },
        "id": "IYgZ-CSDEK-3",
        "outputId": "a241d2b4-e335-4606-f19e-862097432e0c"
      },
      "outputs": [
        {
          "data": {
            "text/html": [
              "\n",
              "  <div id=\"df-659abc4b-03ee-4b4f-86ba-feeefe073468\">\n",
              "    <div class=\"colab-df-container\">\n",
              "      <div>\n",
              "<style scoped>\n",
              "    .dataframe tbody tr th:only-of-type {\n",
              "        vertical-align: middle;\n",
              "    }\n",
              "\n",
              "    .dataframe tbody tr th {\n",
              "        vertical-align: top;\n",
              "    }\n",
              "\n",
              "    .dataframe thead th {\n",
              "        text-align: right;\n",
              "    }\n",
              "</style>\n",
              "<table border=\"1\" class=\"dataframe\">\n",
              "  <thead>\n",
              "    <tr style=\"text-align: right;\">\n",
              "      <th></th>\n",
              "      <th>PhraseId</th>\n",
              "      <th>Sentiment</th>\n",
              "    </tr>\n",
              "  </thead>\n",
              "  <tbody>\n",
              "    <tr>\n",
              "      <th>0</th>\n",
              "      <td>156061</td>\n",
              "      <td>2</td>\n",
              "    </tr>\n",
              "    <tr>\n",
              "      <th>1</th>\n",
              "      <td>156062</td>\n",
              "      <td>2</td>\n",
              "    </tr>\n",
              "    <tr>\n",
              "      <th>2</th>\n",
              "      <td>156063</td>\n",
              "      <td>2</td>\n",
              "    </tr>\n",
              "    <tr>\n",
              "      <th>3</th>\n",
              "      <td>156064</td>\n",
              "      <td>2</td>\n",
              "    </tr>\n",
              "    <tr>\n",
              "      <th>4</th>\n",
              "      <td>156065</td>\n",
              "      <td>2</td>\n",
              "    </tr>\n",
              "    <tr>\n",
              "      <th>...</th>\n",
              "      <td>...</td>\n",
              "      <td>...</td>\n",
              "    </tr>\n",
              "    <tr>\n",
              "      <th>66287</th>\n",
              "      <td>222348</td>\n",
              "      <td>1</td>\n",
              "    </tr>\n",
              "    <tr>\n",
              "      <th>66288</th>\n",
              "      <td>222349</td>\n",
              "      <td>1</td>\n",
              "    </tr>\n",
              "    <tr>\n",
              "      <th>66289</th>\n",
              "      <td>222350</td>\n",
              "      <td>2</td>\n",
              "    </tr>\n",
              "    <tr>\n",
              "      <th>66290</th>\n",
              "      <td>222351</td>\n",
              "      <td>2</td>\n",
              "    </tr>\n",
              "    <tr>\n",
              "      <th>66291</th>\n",
              "      <td>222352</td>\n",
              "      <td>1</td>\n",
              "    </tr>\n",
              "  </tbody>\n",
              "</table>\n",
              "<p>66292 rows × 2 columns</p>\n",
              "</div>\n",
              "      <button class=\"colab-df-convert\" onclick=\"convertToInteractive('df-659abc4b-03ee-4b4f-86ba-feeefe073468')\"\n",
              "              title=\"Convert this dataframe to an interactive table.\"\n",
              "              style=\"display:none;\">\n",
              "        \n",
              "  <svg xmlns=\"http://www.w3.org/2000/svg\" height=\"24px\"viewBox=\"0 0 24 24\"\n",
              "       width=\"24px\">\n",
              "    <path d=\"M0 0h24v24H0V0z\" fill=\"none\"/>\n",
              "    <path d=\"M18.56 5.44l.94 2.06.94-2.06 2.06-.94-2.06-.94-.94-2.06-.94 2.06-2.06.94zm-11 1L8.5 8.5l.94-2.06 2.06-.94-2.06-.94L8.5 2.5l-.94 2.06-2.06.94zm10 10l.94 2.06.94-2.06 2.06-.94-2.06-.94-.94-2.06-.94 2.06-2.06.94z\"/><path d=\"M17.41 7.96l-1.37-1.37c-.4-.4-.92-.59-1.43-.59-.52 0-1.04.2-1.43.59L10.3 9.45l-7.72 7.72c-.78.78-.78 2.05 0 2.83L4 21.41c.39.39.9.59 1.41.59.51 0 1.02-.2 1.41-.59l7.78-7.78 2.81-2.81c.8-.78.8-2.07 0-2.86zM5.41 20L4 18.59l7.72-7.72 1.47 1.35L5.41 20z\"/>\n",
              "  </svg>\n",
              "      </button>\n",
              "      \n",
              "  <style>\n",
              "    .colab-df-container {\n",
              "      display:flex;\n",
              "      flex-wrap:wrap;\n",
              "      gap: 12px;\n",
              "    }\n",
              "\n",
              "    .colab-df-convert {\n",
              "      background-color: #E8F0FE;\n",
              "      border: none;\n",
              "      border-radius: 50%;\n",
              "      cursor: pointer;\n",
              "      display: none;\n",
              "      fill: #1967D2;\n",
              "      height: 32px;\n",
              "      padding: 0 0 0 0;\n",
              "      width: 32px;\n",
              "    }\n",
              "\n",
              "    .colab-df-convert:hover {\n",
              "      background-color: #E2EBFA;\n",
              "      box-shadow: 0px 1px 2px rgba(60, 64, 67, 0.3), 0px 1px 3px 1px rgba(60, 64, 67, 0.15);\n",
              "      fill: #174EA6;\n",
              "    }\n",
              "\n",
              "    [theme=dark] .colab-df-convert {\n",
              "      background-color: #3B4455;\n",
              "      fill: #D2E3FC;\n",
              "    }\n",
              "\n",
              "    [theme=dark] .colab-df-convert:hover {\n",
              "      background-color: #434B5C;\n",
              "      box-shadow: 0px 1px 3px 1px rgba(0, 0, 0, 0.15);\n",
              "      filter: drop-shadow(0px 1px 2px rgba(0, 0, 0, 0.3));\n",
              "      fill: #FFFFFF;\n",
              "    }\n",
              "  </style>\n",
              "\n",
              "      <script>\n",
              "        const buttonEl =\n",
              "          document.querySelector('#df-659abc4b-03ee-4b4f-86ba-feeefe073468 button.colab-df-convert');\n",
              "        buttonEl.style.display =\n",
              "          google.colab.kernel.accessAllowed ? 'block' : 'none';\n",
              "\n",
              "        async function convertToInteractive(key) {\n",
              "          const element = document.querySelector('#df-659abc4b-03ee-4b4f-86ba-feeefe073468');\n",
              "          const dataTable =\n",
              "            await google.colab.kernel.invokeFunction('convertToInteractive',\n",
              "                                                     [key], {});\n",
              "          if (!dataTable) return;\n",
              "\n",
              "          const docLinkHtml = 'Like what you see? Visit the ' +\n",
              "            '<a target=\"_blank\" href=https://colab.research.google.com/notebooks/data_table.ipynb>data table notebook</a>'\n",
              "            + ' to learn more about interactive tables.';\n",
              "          element.innerHTML = '';\n",
              "          dataTable['output_type'] = 'display_data';\n",
              "          await google.colab.output.renderOutput(dataTable, element);\n",
              "          const docLink = document.createElement('div');\n",
              "          docLink.innerHTML = docLinkHtml;\n",
              "          element.appendChild(docLink);\n",
              "        }\n",
              "      </script>\n",
              "    </div>\n",
              "  </div>\n",
              "  "
            ],
            "text/plain": [
              "       PhraseId  Sentiment\n",
              "0        156061          2\n",
              "1        156062          2\n",
              "2        156063          2\n",
              "3        156064          2\n",
              "4        156065          2\n",
              "...         ...        ...\n",
              "66287    222348          1\n",
              "66288    222349          1\n",
              "66289    222350          2\n",
              "66290    222351          2\n",
              "66291    222352          1\n",
              "\n",
              "[66292 rows x 2 columns]"
            ]
          },
          "execution_count": 121,
          "metadata": {},
          "output_type": "execute_result"
        }
      ],
      "source": [
        "sub_df"
      ]
    },
    {
      "cell_type": "code",
      "execution_count": null,
      "metadata": {
        "id": "MunpFje1EK6Z"
      },
      "outputs": [],
      "source": [
        "sub_df.Sentiment = test_preds"
      ]
    },
    {
      "cell_type": "code",
      "execution_count": null,
      "metadata": {
        "id": "iT8KvsilEaG8"
      },
      "outputs": [],
      "source": [
        "sub_df.to_csv('submission4.csv', index=None)"
      ]
    },
    {
      "cell_type": "markdown",
      "metadata": {
        "id": "W-dRwrO3AqzK"
      },
      "source": [
        "Best Model: Logistic Regression\n",
        "\n",
        "from the above 4 models Logistic Regression got good performance than others\n",
        "\n",
        "(include Kaggle score screenshot)\n",
        "![Screenshot 2022-11-30 041457.png](data:image/png;base64,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)"
      ]
    },
    {
      "cell_type": "markdown",
      "metadata": {
        "id": "TjJuJhJxIRuv"
      },
      "source": [
        "Source to the Assignment models - https://scikit-learn.org/"
      ]
    },
    {
      "cell_type": "markdown",
      "metadata": {
        "id": "zhVGx0VZe6Gg"
      },
      "source": [
        "## Submission and Future Work\n",
        "\n",
        "\n",
        "How to make a submission:\n",
        "\n",
        "- Add documentation and explanations\n",
        "- Clean up any stray code/comments\n",
        "- Include a screenshot of your best score\n",
        "- Make a submission on the assignment page\n",
        "- Review evaluation criteria carefully\n",
        "\n",
        "\n",
        "Future work:\n",
        "- Try more machine learning models\n",
        "- Try configuring CountVectorizer differently\n",
        "- Try approaches other than bag of words\n"
      ]
    },
    {
      "cell_type": "code",
      "execution_count": null,
      "metadata": {
        "id": "phzhiUWVAqzL"
      },
      "outputs": [],
      "source": []
    }
  ],
  "metadata": {
    "colab": {
      "provenance": [],
      "toc_visible": true
    },
    "kernelspec": {
      "display_name": "Python 3 (ipykernel)",
      "language": "python",
      "name": "python3"
    },
    "language_info": {
      "codemirror_mode": {
        "name": "ipython",
        "version": 3
      },
      "file_extension": ".py",
      "mimetype": "text/x-python",
      "name": "python",
      "nbconvert_exporter": "python",
      "pygments_lexer": "ipython3",
      "version": "3.9.6"
    }
  },
  "nbformat": 4,
  "nbformat_minor": 0
}